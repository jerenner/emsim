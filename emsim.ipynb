{
 "cells": [
  {
   "cell_type": "code",
   "execution_count": 1,
   "metadata": {},
   "outputs": [],
   "source": [
    "import pandas as pd\n",
    "import numpy as np\n",
    "import matplotlib.pyplot as plt\n",
    "\n",
    "import training as tr\n",
    "import emnet\n",
    "import emsim_utils\n",
    "\n",
    "import torch\n",
    "import torch.nn as nn\n",
    "import torch.optim as optim\n",
    "from torch.utils.data import Dataset\n",
    "from torch.utils.data import DataLoader\n",
    "from torch.autograd import Variable\n",
    "\n",
    "import cv2\n",
    "\n",
    "from unet import UNet\n",
    "from scipy.optimize import curve_fit"
   ]
  },
  {
   "cell_type": "markdown",
   "metadata": {},
   "source": [
    "## Write events to a DataFrame"
   ]
  },
  {
   "cell_type": "code",
   "execution_count": null,
   "metadata": {},
   "outputs": [],
   "source": [
    "datfile = \"/home/jrenner/local/data/electronsim/pixelated_tracks_K2_5um_front_3M_100keV.txt\""
   ]
  },
  {
   "cell_type": "code",
   "execution_count": null,
   "metadata": {},
   "outputs": [],
   "source": [
    "# Read a new dataset.\n",
    "df = emsim_utils.read_electron_data(datfile,nevts=200005)\n",
    "df.to_pickle(\"EM_5um_front_3M_100keV.pkl\")"
   ]
  },
  {
   "cell_type": "markdown",
   "metadata": {},
   "source": [
    "# Generate random multi-electron events"
   ]
  },
  {
   "cell_type": "code",
   "execution_count": null,
   "metadata": {},
   "outputs": [],
   "source": [
    "dset = tr.EMDataset(\"dataframes/EM_5um_front_3M_100keV.pkl\",noise_mean=0,noise_sigma=20,add_noise=False,add_shift=0)"
   ]
  },
  {
   "cell_type": "code",
   "execution_count": null,
   "metadata": {},
   "outputs": [],
   "source": [
    "frameset = tr.EMFrameDataset(dset,frame_size=4855,nelec_mean=103713,nelec_sigma=0.5,noise_mean=683,noise_sigma=11.2)\n",
    "#frameset = tr.EMFrameDataset(dset,frame_size=100,nelec_mean=88,nelec_sigma=2,noise_mean=0,noise_sigma=20)\n",
    "#frameset = tr.EMFrameDataset(dset,frame_size=100,nelec_mean=10,nelec_sigma=1,noise_mean=0,noise_sigma=20)"
   ]
  },
  {
   "cell_type": "code",
   "execution_count": null,
   "metadata": {
    "scrolled": true
   },
   "outputs": [],
   "source": [
    "#frame,label = frameset[0]\n",
    "frame,label = dataset_train[0]\n",
    "logscale = False\n",
    "\n",
    "fig = plt.figure()\n",
    "fig.set_figheight(4.0)\n",
    "fig.set_figwidth(12.0)\n",
    "\n",
    "ax1 = fig.add_subplot(121);\n",
    "if(logscale):\n",
    "    plt.imshow(np.log(frame))\n",
    "    cbar = plt.colorbar()\n",
    "    cbar.set_label(\"log(counts)\")\n",
    "    plt.title(\"Frame (log counts)\")\n",
    "else:\n",
    "    plt.imshow(frame) #np.log(frame))\n",
    "    cbar = plt.colorbar()\n",
    "    plt.title(\"Frame\")\n",
    "\n",
    "ax2 = fig.add_subplot(122);\n",
    "plt.imshow(label)\n",
    "plt.title(\"Truth\")\n",
    "plt.colorbar()"
   ]
  },
  {
   "cell_type": "code",
   "execution_count": null,
   "metadata": {},
   "outputs": [],
   "source": [
    "plt.imshow(frame[0:50,0:50])\n",
    "plt.colorbar()"
   ]
  },
  {
   "cell_type": "code",
   "execution_count": null,
   "metadata": {},
   "outputs": [],
   "source": [
    "img_sim = frame.flatten()"
   ]
  },
  {
   "cell_type": "code",
   "execution_count": null,
   "metadata": {
    "scrolled": true
   },
   "outputs": [],
   "source": [
    "#plt.hist(img_sim[(img_sim < 400)],bins=50)\n",
    "plt.hist(img_sim,bins=50)\n",
    "plt.xlabel(\"Pixel values\")\n",
    "plt.ylabel(\"Counts/bin\")\n",
    "plt.yscale(\"log\")\n",
    "print(\"Total pixels:\",len(img_sim))\n",
    "#plt.xlim([0,500])"
   ]
  },
  {
   "cell_type": "code",
   "execution_count": null,
   "metadata": {},
   "outputs": [],
   "source": [
    "np.savez(\"frame_4855x4855_11occ.npz\",frame=frame)"
   ]
  },
  {
   "cell_type": "markdown",
   "metadata": {},
   "source": [
    "## Train a network (multi-electron)"
   ]
  },
  {
   "cell_type": "code",
   "execution_count": null,
   "metadata": {},
   "outputs": [],
   "source": [
    "modeldir = '/home/jrenner/local/jerenner/emsim/models'\n",
    "lrate       = 1e-4   # Learning rate to use in the training.\n",
    "load_model  = True   # Load an existing model\n",
    "tr.augment  = False  # Enable/disable data augmentation\n",
    "epoch_start = 0      # Number of initial epoch\n",
    "epoch_end   = 2000    # Number of final epoch\n",
    "model_load_checkpoint = \"{}/model_frames_50x50_noise683_11_front_100kev_77.pt\".format(modeldir)\n",
    "\n",
    "# Create the dataset.\n",
    "# 576x576: 2927 +/- 71\n",
    "# 100x100: 88 +/- 2\n",
    "# 50x50: 22 +/- 0.5\n",
    "#dset = tr.EMDataset(\"dataframes/EM_4um_back_10M_300keV.pkl\",noise_mean=0,noise_sigma=20,add_noise=False,add_shift=0)\n",
    "\n",
    "# \"Real-data-like\" dataset: occupancy 11, noise_mean=683, noise_sigma=11.2\n",
    "dset = tr.EMDataset(\"dataframes/EM_5um_front_3M_100keV.pkl\",noise_mean=0,noise_sigma=20,add_noise=False,add_shift=0)\n",
    "dataset_train   = tr.EMFrameDataset(dset,frame_size=50,nelec_mean=11,nelec_sigma=0.5,noise_mean=683,noise_sigma=11.2)\n",
    "\n",
    "# Create the loaders.\n",
    "train_loader = DataLoader(dataset_train, batch_size=50, shuffle=False, collate_fn=tr.my_collate_unet, num_workers=8)\n",
    "\n",
    "# Define the model.\n",
    "model = UNet(n_channels=1, n_classes=1)\n",
    "model.cuda()\n",
    "\n",
    "optimizer = optim.RMSprop(model.parameters(), lr=lrate, weight_decay=1e-8, momentum=0.9)\n",
    "scheduler = optim.lr_scheduler.ReduceLROnPlateau(optimizer, 'min' if model.n_classes > 1 else 'max', patience=2)\n",
    "\n",
    "# Load the model from file.\n",
    "if(load_model):\n",
    "    model.load_state_dict(torch.load(model_load_checkpoint))\n",
    "    #model.load_state_dict(torch.load(model_load_checkpoint,map_location=torch.device('cpu')))\n",
    "    model.eval()"
   ]
  },
  {
   "cell_type": "code",
   "execution_count": null,
   "metadata": {},
   "outputs": [],
   "source": [
    "# Run the training.\n",
    "for epoch in range(epoch_start,epoch_end):\n",
    "    print(\"Epoch: \",epoch)\n",
    "    model.train()\n",
    "    tr.train_unet(model, epoch, train_loader, optimizer)"
   ]
  },
  {
   "cell_type": "code",
   "execution_count": null,
   "metadata": {},
   "outputs": [],
   "source": [
    "torch.save(model.state_dict(), \"{}/model_frames_50x50_noise683_11_front_100kev_{}.pt\".format(modeldir,epoch))"
   ]
  },
  {
   "cell_type": "markdown",
   "metadata": {},
   "source": [
    "#### Test the net"
   ]
  },
  {
   "cell_type": "code",
   "execution_count": null,
   "metadata": {},
   "outputs": [],
   "source": [
    "sigmoid = nn.Sigmoid()\n",
    "dset = tr.EMDataset(\"dataframes/EM_5um_front_3M_100keV.pkl\",noise_mean=0,noise_sigma=20,add_noise=False,add_shift=0)\n",
    "dataset_train   = tr.EMFrameDataset(dset,frame_size=50,nelec_mean=11,nelec_sigma=0.5,noise_mean=683,noise_sigma=11.2)\n",
    "model.eval()"
   ]
  },
  {
   "cell_type": "code",
   "execution_count": null,
   "metadata": {
    "scrolled": true
   },
   "outputs": [],
   "source": [
    "# Loop over many events and evaluate the true positives and false positives.\n",
    "# Store in arrays as:\n",
    "#\n",
    "#  [tp0 tp1 tp2 tp3 ... tpN], each number corresponding to a different NN threshold or classical threshold\n",
    "#\n",
    "tp_unet = []; fp_unet = []\n",
    "tp_classical = []; fp_classical = []\n",
    "#nn_thresholds = np.arange(0.05,1.0,0.1)\n",
    "nn_thresholds = np.logspace(-12.0,-0.005,100)\n",
    "classical_thresholds = np.arange(600,7000,10)\n",
    "evts = np.arange(100000,100100)\n",
    "for evt in evts:\n",
    "    \n",
    "    # Get the event and truth.\n",
    "    evt_item = dataset_train[evt]\n",
    "    evt_arr = evt_item[0]\n",
    "    evt_lbl = evt_item[1]\n",
    "    \n",
    "    # Send through the model.\n",
    "    data = torch.tensor(evt_arr).float().unsqueeze(0).unsqueeze(1).cuda()\n",
    "    output_score = model(data)\n",
    "    \n",
    "    # Compute the predicted pixel values.\n",
    "    prob = np.array(sigmoid(output_score).cpu().detach().numpy()).squeeze()\n",
    "    \n",
    "    # Compute the TP and FP values for unet.\n",
    "    temp_tp = []; temp_fp = []\n",
    "    for th in nn_thresholds:\n",
    "        pred = (prob > th)\n",
    "        tp = np.sum((evt_lbl == 1) & (pred == True))\n",
    "        fn = np.sum((evt_lbl == 1) & (pred == False))\n",
    "        tp = tp / (tp + fn)\n",
    "        fp = np.sum((evt_lbl == 0) & (pred == True))\n",
    "        tn = np.sum((evt_lbl == 0) & (pred == False))\n",
    "        fp = fp / (fp + tn)\n",
    "        temp_tp.append(tp)\n",
    "        temp_fp.append(fp)\n",
    "    tp_unet.append(temp_tp)\n",
    "    fp_unet.append(temp_fp)\n",
    "    \n",
    "    # Compute the TP and FP values for the classical threshold.\n",
    "    temp_tp = []; temp_fp = []\n",
    "    for th in classical_thresholds:\n",
    "        pred = (evt_arr > th)\n",
    "        tp = np.sum((evt_lbl == 1) & (pred == True))\n",
    "        fn = np.sum((evt_lbl == 1) & (pred == False))\n",
    "        tp = tp / (tp + fn)\n",
    "        fp = np.sum((evt_lbl == 0) & (pred == True))\n",
    "        tn = np.sum((evt_lbl == 0) & (pred == False))\n",
    "        fp = fp / (fp + tn)\n",
    "        temp_tp.append(tp)\n",
    "        temp_fp.append(fp)\n",
    "    tp_classical.append(temp_tp)\n",
    "    fp_classical.append(temp_fp)\n",
    "    \n",
    "    if((evt-evts[0]) % (len(evts)/100) == 0):\n",
    "            print(\"{}% done\".format(int((evt-evts[0]) / (len(evts)/100))))\n",
    "    \n",
    "tp_unet = np.array(tp_unet)\n",
    "fp_unet = np.array(fp_unet)\n",
    "tp_classical = np.array(tp_classical)\n",
    "fp_classical = np.array(fp_classical)"
   ]
  },
  {
   "cell_type": "code",
   "execution_count": null,
   "metadata": {},
   "outputs": [],
   "source": [
    "tp_rate_unet = np.mean(tp_unet,axis=0)\n",
    "tp_err_unet = np.std(tp_unet,axis=0)/np.sqrt(tp_unet.shape[0])\n",
    "fp_rate_unet = np.mean(fp_unet,axis=0)\n",
    "fp_err_unet = np.std(fp_unet,axis=0)/np.sqrt(fp_unet.shape[0])\n",
    "tp_rate_classical = np.mean(tp_classical,axis=0)\n",
    "tp_err_classical = np.std(tp_classical,axis=0)/np.sqrt(tp_classical.shape[0])\n",
    "fp_rate_classical = np.mean(fp_classical,axis=0)\n",
    "fp_err_classical = np.std(fp_classical,axis=0)/np.sqrt(fp_classical.shape[0])\n",
    "\n",
    "plt.errorbar(fp_rate_unet,tp_rate_unet,xerr=fp_err_unet,yerr=tp_err_unet,label='Unet')\n",
    "plt.errorbar(fp_rate_classical,tp_rate_classical,xerr=fp_err_classical,yerr=tp_err_classical,label='Basic threshold')\n",
    "plt.xlim([0,0.05])\n",
    "plt.legend()\n",
    "plt.xlabel(\"False positive rate\")\n",
    "plt.ylabel(\"True positive rate\")"
   ]
  },
  {
   "cell_type": "code",
   "execution_count": null,
   "metadata": {},
   "outputs": [],
   "source": [
    "evt_plt = 100001\n",
    "evt_item = dataset_train[evt_plt]\n",
    "evt_arr = evt_item[0]\n",
    "evt_lbl = evt_item[1]\n",
    "\n",
    "# Send through the model.\n",
    "data = torch.tensor(evt_arr).float().unsqueeze(0).unsqueeze(1).cuda()\n",
    "#target = torch.tensor(evt_lbl).float().cuda()\n",
    "output_score = model(data)\n",
    "\n",
    "# Compute the predicted pixel and (x,y) values.\n",
    "prob = np.array(sigmoid(output_score).cpu().detach().numpy()).squeeze()\n",
    "\n",
    "# Threshold\n",
    "# prob = np.zeros(evt_arr.shape)\n",
    "# prob[evt_arr > 80] = 1\n",
    "\n",
    "# Determine number of correct pixels\n",
    "th = 0.2\n",
    "pred = (prob > th)\n",
    "nelec = int(np.sum(evt_lbl == 1))\n",
    "nelec_pred = int(np.sum(pred))\n",
    "nspace = int(np.sum(evt_lbl == 0))\n",
    "nelec_coinc = np.sum((evt_lbl == 1) & (pred == True))\n",
    "nspace_coinc = np.sum((evt_lbl == 0) & (pred == False))\n",
    "print(\"{}/{} electrons predicted\".format(nelec_pred,nelec))\n",
    "print(\"{}/{} electrons coincided exactly\".format(nelec_coinc,nelec))\n",
    "print(\"{}/{} empty spaces coincided exactly\".format(nspace_coinc,nspace))\n",
    "\n",
    "fig = plt.figure()\n",
    "fig.set_figheight(4.0)\n",
    "fig.set_figwidth(18.0)\n",
    "\n",
    "ax1 = fig.add_subplot(131)\n",
    "plt.imshow(evt_arr)\n",
    "plt.colorbar()\n",
    "plt.title(\"Event\")\n",
    "\n",
    "ax2 = fig.add_subplot(132)\n",
    "plt.imshow(evt_lbl)\n",
    "plt.colorbar()\n",
    "plt.title(\"Target\")\n",
    "\n",
    "ax3 = fig.add_subplot(133)\n",
    "#plt.imshow(np.log10(prob))\n",
    "plt.imshow(prob)\n",
    "plt.colorbar()\n",
    "plt.title(\"{}/{} electrons predicted\\n{}/{} electrons coincided exactly\\n{}/{} empty spaces coincided exactly\".format(nelec_pred,nelec,nelec_coinc,nelec,nspace_coinc,nspace))"
   ]
  },
  {
   "cell_type": "code",
   "execution_count": null,
   "metadata": {
    "scrolled": true
   },
   "outputs": [],
   "source": [
    "# Evaluate real data\n",
    "img_data_cut = img_data[-1023:,-1440:]/12\n",
    "img_data_torch = torch.tensor(img_data_cut).float().unsqueeze(0).unsqueeze(1).cuda()\n",
    "output_score = model(img_data_torch)\n",
    "prob = np.array(sigmoid(output_score).cpu().detach().numpy()).squeeze()"
   ]
  },
  {
   "cell_type": "code",
   "execution_count": null,
   "metadata": {},
   "outputs": [],
   "source": [
    "# Plot the results of the real data evaluation\n",
    "logscale = False\n",
    "view_row_low = -350\n",
    "view_row_high = -300\n",
    "view_col_low = -350\n",
    "view_col_high = -300\n",
    "\n",
    "fig = plt.figure()\n",
    "fig.set_figheight(4.0)\n",
    "fig.set_figwidth(12.0)\n",
    "\n",
    "ax1 = fig.add_subplot(121);\n",
    "if(logscale):\n",
    "    plt.imshow(np.log(img_data_cut[view_row_low:view_row_high,view_col_low:view_col_high]),interpolation='none')\n",
    "    cbar = plt.colorbar()\n",
    "    cbar.set_label(\"log(counts)\")\n",
    "    plt.title(\"Scaled data (log counts)\")\n",
    "else:\n",
    "    plt.imshow(img_data_cut[view_row_low:view_row_high,view_col_low:view_col_high],interpolation='none') #np.log(frame))\n",
    "    cbar = plt.colorbar()\n",
    "    plt.title(\"Scaled data\")\n",
    "\n",
    "ax2 = fig.add_subplot(122);\n",
    "plt.imshow(prob[view_row_low:view_row_high,view_col_low:view_col_high],interpolation='none')\n",
    "plt.title(\"U-net output\")\n",
    "plt.colorbar()"
   ]
  },
  {
   "cell_type": "code",
   "execution_count": null,
   "metadata": {},
   "outputs": [],
   "source": [
    "prob.shape"
   ]
  },
  {
   "cell_type": "markdown",
   "metadata": {},
   "source": [
    "## Real data"
   ]
  },
  {
   "cell_type": "code",
   "execution_count": 11,
   "metadata": {},
   "outputs": [],
   "source": [
    "import struct\n",
    "import numpy as np\n",
    "import matplotlib.pyplot as plt\n",
    "import scipy.optimize as optimize"
   ]
  },
  {
   "cell_type": "code",
   "execution_count": 3,
   "metadata": {},
   "outputs": [],
   "source": [
    "# From https://stackoverflow.com/questions/1035340/reading-binary-file-and-looping-over-each-byte\n",
    "def bytes_from_file(filename, chunksize=4):\n",
    "    with open(filename, \"rb\") as f:\n",
    "        while True:\n",
    "            chunk = f.read(chunksize)\n",
    "            if chunk:\n",
    "                yield struct.unpack('@I', chunk)[0]\n",
    "            else:\n",
    "                break"
   ]
  },
  {
   "cell_type": "code",
   "execution_count": 4,
   "metadata": {},
   "outputs": [],
   "source": [
    "datfile = \"/home/jrenner/local/data/electronsim/stack_1.dat\"\n",
    "freader = iter(bytes_from_file(datfile))"
   ]
  },
  {
   "cell_type": "code",
   "execution_count": 5,
   "metadata": {},
   "outputs": [],
   "source": [
    "img = []\n",
    "for i in range(5760*4092):\n",
    "    img.append(next(freader))\n",
    "img = np.array(img)"
   ]
  },
  {
   "cell_type": "code",
   "execution_count": 6,
   "metadata": {},
   "outputs": [],
   "source": [
    "# Prepare for input to a NN\n",
    "img_data = img.reshape([4092,5760])"
   ]
  },
  {
   "cell_type": "code",
   "execution_count": 7,
   "metadata": {
    "scrolled": true
   },
   "outputs": [
    {
     "data": {
      "text/plain": [
       "<matplotlib.colorbar.Colorbar at 0x7f8084995490>"
      ]
     },
     "execution_count": 7,
     "metadata": {},
     "output_type": "execute_result"
    },
    {
     "data": {
      "image/png": "[encoded data removed]",
      "text/plain": [
       "<Figure size 432x288 with 2 Axes>"
      ]
     },
     "metadata": {
      "needs_background": "light"
     },
     "output_type": "display_data"
    }
   ],
   "source": [
    "#plt.imshow(np.log(img.reshape([5760,4092])),vmin=9.5,vmax=10.5)\n",
    "#plt.imshow(img.reshape([5760,4092])[-100:,0:100],vmin=750,vmax=10000)\n",
    "plt.imshow(img_data,interpolation='none',vmin=750,vmax=15000)\n",
    "plt.colorbar()"
   ]
  },
  {
   "cell_type": "markdown",
   "metadata": {},
   "source": [
    "## Attempt to fit the edge"
   ]
  },
  {
   "cell_type": "code",
   "execution_count": 180,
   "metadata": {},
   "outputs": [
    {
     "name": "stdout",
     "output_type": "stream",
     "text": [
      "Min value: 0 ; max value: 1\n"
     ]
    }
   ],
   "source": [
    "noise_th = 750*12\n",
    "max_th = 751*12\n",
    "fit_img = np.copy(img_data)\n",
    "fit_img[fit_img < noise_th] = 0\n",
    "fit_img[fit_img >= noise_th] = max_th\n",
    "fit_img = fit_img/np.max(fit_img)\n",
    "fit_img = np.array(fit_img,dtype=np.uint8)\n",
    "print(\"Min value:\",np.min(fit_img),\"; max value:\",np.max(fit_img))"
   ]
  },
  {
   "cell_type": "code",
   "execution_count": 181,
   "metadata": {
    "scrolled": true
   },
   "outputs": [
    {
     "data": {
      "text/plain": [
       "<matplotlib.colorbar.Colorbar at 0x7f807e75df10>"
      ]
     },
     "execution_count": 181,
     "metadata": {},
     "output_type": "execute_result"
    },
    {
     "data": {
      "image/png": "[encoded data removed]",
      "text/plain": [
       "<Figure size 432x288 with 2 Axes>"
      ]
     },
     "metadata": {
      "needs_background": "light"
     },
     "output_type": "display_data"
    }
   ],
   "source": [
    "plt.imshow(fit_img,interpolation='none')\n",
    "plt.colorbar()"
   ]
  },
  {
   "cell_type": "code",
   "execution_count": 190,
   "metadata": {},
   "outputs": [],
   "source": [
    "A = fit_img\n",
    "th = 0.5\n",
    "nrows = A.shape[0]\n",
    "ncols = A.shape[1]\n",
    "ncts = np.sum(A >= th)\n",
    "nzeros = np.sum(A < th)\n",
    "wcts = nzeros/ncts\n",
    "indices = np.indices((nrows,ncols))\n",
    "irows = indices[0]\n",
    "icols = indices[1]\n",
    "\n",
    "def count_loss(x):\n",
    "    m,b = x\n",
    "    \n",
    "    # The loss L is:\n",
    "    #\n",
    "    # (number of 0s in the dark region) - wcts*(number of 1s in the dark region)\n",
    "    # + wcts*(number of 1s in the light region) - (number of 0s in the dark region)\n",
    "    # \n",
    "    # where wcts is the count weight, determined such that the number of counts multiplied by wcts is equal to\n",
    "    # the number of zeros.\n",
    "    L = 0\n",
    "    L1 = np.sum((irows < m*icols + b) & (A < th))\n",
    "    L2 = np.sum((irows < m*icols + b) & (A >= th))\n",
    "    L3 = np.sum((irows >= m*icols + b) & (A >= th))\n",
    "    L4 = np.sum((irows >= m*icols + b) & (A < th))\n",
    "    \n",
    "    L = L1 - wcts*L2 + wcts*L3 - L4\n",
    "    print(\"Loss is:\",-L,\"with L1 =\",L1,\"L2 =\",L2,\"L3 =\",L3,\"L4 =\",L4)\n",
    "    return -L"
   ]
  },
  {
   "cell_type": "code",
   "execution_count": 191,
   "metadata": {
    "scrolled": true
   },
   "outputs": [
    {
     "name": "stdout",
     "output_type": "stream",
     "text": [
      "Loss is: -15311985.531327255 with L1 = 11740856 L2 = 49024 L3 = 230493 L4 = 11549547\n",
      "Loss is: -15988816.231978733 with L1 = 11190207 L2 = 38354 L3 = 241163 L4 = 12100196\n",
      "Loss is: -15283922.66703635 with L1 = 12875859 L2 = 62814 L3 = 216703 L4 = 10414544\n",
      "Loss is: -15617214.213883232 with L1 = 10106426 L2 = 27577 L3 = 251940 L4 = 13183977\n",
      "Loss is: -15834151.465241827 with L1 = 9652626 L2 = 20829 L3 = 258688 L4 = 13637777\n",
      "Loss is: -16362934.960599892 with L1 = 10688179 L2 = 30084 L3 = 249433 L4 = 12602224\n",
      "Loss is: -16739083.816583604 with L1 = 10972659 L2 = 31241 L3 = 248276 L4 = 12317744\n",
      "Loss is: -16271973.318596005 with L1 = 12558811 L2 = 53080 L3 = 226437 L4 = 10731592\n",
      "Loss is: -17260888.35741654 with L1 = 12258360 L2 = 43540 L3 = 235977 L4 = 11032043\n",
      "Loss is: -17716536.008328654 with L1 = 12725073 L2 = 46407 L3 = 233110 L4 = 10565330\n",
      "Loss is: -18008634.86225167 with L1 = 11290471 L2 = 27437 L3 = 252080 L4 = 11999932\n",
      "Loss is: -18362484.3534311 with L1 = 10778725 L2 = 19172 L3 = 260345 L4 = 12511678\n",
      "Loss is: -19522461.132324688 with L1 = 12280274 L2 = 30232 L3 = 249285 L4 = 11010129\n",
      "Loss is: -20493292.140506655 with L1 = 12752691 L2 = 30076 L3 = 249441 L4 = 10537712\n",
      "Loss is: -20405950.743525438 with L1 = 11211276 L2 = 12101 L3 = 267416 L4 = 12079127\n",
      "Loss is: -22058338.44333618 with L1 = 12768969 L2 = 20880 L3 = 258637 L4 = 10521434\n",
      "Loss is: -23103399.31480375 with L1 = 13373490 L2 = 21864 L3 = 257653 L4 = 9916913\n",
      "Loss is: -22183920.41847186 with L1 = 14673798 L2 = 42987 L3 = 236530 L4 = 8616605\n",
      "Loss is: -23864814.565060444 with L1 = 14721253 L2 = 33470 L3 = 246047 L4 = 8569150\n",
      "Loss is: -24262101.0772368 with L1 = 15185699 L2 = 36660 L3 = 242857 L4 = 8104704\n",
      "Loss is: -25260732.82039375 with L1 = 14331254 L2 = 20413 L3 = 259104 L4 = 8959149\n",
      "Loss is: -25998081.401739426 with L1 = 14244814 L2 = 14951 L3 = 264566 L4 = 9045589\n",
      "Loss is: -25393315.766089357 with L1 = 15206869 L2 = 30126 L3 = 249391 L4 = 8083534\n",
      "Loss is: -26848831.48179896 with L1 = 14563368 L2 = 13669 L3 = 265848 L4 = 8727035\n",
      "Loss is: -27450710.277800635 with L1 = 14424608 L2 = 8392 L3 = 271125 L4 = 8865795\n",
      "Loss is: -26710111.704046622 with L1 = 13652105 L2 = 3565 L3 = 275952 L4 = 9638298\n",
      "Loss is: -27367060.350654878 with L1 = 13992078 L2 = 3703 L3 = 275814 L4 = 9298325\n",
      "Loss is: -27555410.26231678 with L1 = 14491373 L2 = 8565 L3 = 270952 L4 = 8799030\n",
      "Loss is: -27005688.57144288 with L1 = 14692874 L2 = 14282 L3 = 265235 L4 = 8597529\n",
      "Loss is: -26116718.759860754 with L1 = 14987804 L2 = 23156 L3 = 256361 L4 = 8302599\n",
      "Loss is: -27823518.393586077 with L1 = 14223390 L2 = 3740 L3 = 275777 L4 = 9067013\n",
      "Loss is: -27757491.66339793 with L1 = 14332027 L2 = 5440 L3 = 274077 L4 = 8958376\n",
      "Loss is: -27554425.45842292 with L1 = 14087677 L2 = 3726 L3 = 275791 L4 = 9202726\n",
      "Loss is: -27880671.160187036 with L1 = 14388534 L2 = 5379 L3 = 274138 L4 = 8901869\n",
      "Loss is: -27552533.71741253 with L1 = 14276126 L2 = 5999 L3 = 273518 L4 = 9014277\n",
      "Loss is: -27890495.107932612 with L1 = 14323704 L2 = 4542 L3 = 274975 L4 = 8966699\n",
      "Loss is: -27611609.44750409 with L1 = 14449314 L2 = 7723 L3 = 271794 L4 = 8841089\n",
      "Loss is: -27963638.911400735 with L1 = 14295700 L2 = 3767 L3 = 275750 L4 = 8994703\n",
      "Loss is: -27835758.681260884 with L1 = 14230760 L2 = 3755 L3 = 275762 L4 = 9059643\n",
      "Loss is: -27938018.978258923 with L1 = 14349799 L2 = 4570 L3 = 274947 L4 = 8940604\n",
      "Loss is: -27990783.4283353 with L1 = 14323104 L2 = 3933 L3 = 275584 L4 = 8967299\n",
      "Loss is: -27861213.984680712 with L1 = 14321562 L2 = 4692 L3 = 274825 L4 = 8968841\n",
      "Loss is: -27873420.98265937 with L1 = 14259590 L2 = 3875 L3 = 275642 L4 = 9030813\n",
      "Loss is: -28005352.133358613 with L1 = 14330555 L2 = 3935 L3 = 275582 L4 = 8959848\n",
      "Loss is: -27983153.928905934 with L1 = 14359118 L2 = 4411 L3 = 275106 L4 = 8931285\n",
      "Loss is: -28019198.751639433 with L1 = 14343061 L2 = 4002 L3 = 275515 L4 = 8947342\n",
      "Loss is: -27958391.68416232 with L1 = 14348570 L2 = 4433 L3 = 275084 L4 = 8941833\n",
      "Loss is: -28015842.16256614 with L1 = 14330134 L2 = 3867 L3 = 275650 L4 = 8960269\n",
      "Loss is: -27954463.46862623 with L1 = 14342773 L2 = 4387 L3 = 275130 L4 = 8947630\n",
      "Loss is: -28030150.652053364 with L1 = 14333622 L2 = 3823 L3 = 275694 L4 = 8956781\n",
      "Loss is: -28016008.49229206 with L1 = 14346132 L2 = 4058 L3 = 275459 L4 = 8944271\n",
      "Loss is: -28026621.716010116 with L1 = 14342273 L2 = 3948 L3 = 275569 L4 = 8948130\n",
      "Loss is: -28012807.140660495 with L1 = 14332866 L2 = 3918 L3 = 275599 L4 = 8957537\n",
      "Loss is: -28026216.018288687 with L1 = 14340487 L2 = 3929 L3 = 275588 L4 = 8949916\n",
      "Loss is: -28024203.745217644 with L1 = 14335398 L2 = 3880 L3 = 275637 L4 = 8955005\n",
      "Loss is: -28031028.50777591 with L1 = 14339227 L2 = 3885 L3 = 275632 L4 = 8951176\n",
      "Loss is: -28028299.486750357 with L1 = 14330530 L2 = 3797 L3 = 275720 L4 = 8959873\n",
      "Loss is: -28031541.126936823 with L1 = 14333484 L2 = 3813 L3 = 275704 L4 = 8956919\n",
      "Loss is: -28029752.622845836 with L1 = 14339089 L2 = 3891 L3 = 275626 L4 = 8951314\n",
      "Loss is: -28031880.767123282 with L1 = 14334987 L2 = 3829 L3 = 275688 L4 = 8955416\n",
      "Loss is: -28026243.429215394 with L1 = 14329252 L2 = 3794 L3 = 275723 L4 = 8961151\n",
      "Loss is: -28032539.7598214 with L1 = 14336733 L2 = 3846 L3 = 275671 L4 = 8953670\n",
      "Loss is: -28033389.342472903 with L1 = 14338241 L2 = 3859 L3 = 275658 L4 = 8952162\n",
      "Loss is: -28030616.20549734 with L1 = 14340604 L2 = 3904 L3 = 275613 L4 = 8949799\n",
      "Loss is: -28031032.6803808 with L1 = 14339979 L2 = 3894 L3 = 275623 L4 = 8950424\n",
      "Loss is: -28031702.40730975 with L1 = 14336231 L2 = 3845 L3 = 275672 L4 = 8954172\n",
      "Loss is: -28032712.579914637 with L1 = 14337486 L2 = 3854 L3 = 275663 L4 = 8952917\n",
      "Loss is: -28031964.46484471 with L1 = 14336612 L2 = 3848 L3 = 275669 L4 = 8953791\n",
      "Loss is: -28032298.33517103 with L1 = 14339112 L2 = 3876 L3 = 275641 L4 = 8951291\n",
      "Loss is: -28033220.752519518 with L1 = 14338490 L2 = 3863 L3 = 275654 L4 = 8951913\n",
      "Loss is: -28033056.277636066 with L1 = 14339241 L2 = 3873 L3 = 275644 L4 = 8951162\n",
      "Loss is: -28033515.45754283 with L1 = 14338804 L2 = 3865 L3 = 275652 L4 = 8951599\n",
      "Loss is: -28034019.342472903 with L1 = 14338556 L2 = 3859 L3 = 275658 L4 = 8951847\n",
      "Loss is: -28033754.047496215 with L1 = 14338590 L2 = 3861 L3 = 275656 L4 = 8951813\n",
      "Loss is: -28032972.925124407 with L1 = 14339116 L2 = 3872 L3 = 275645 L4 = 8951287\n",
      "Loss is: -28033666.694984563 with L1 = 14338463 L2 = 3860 L3 = 275657 L4 = 8951940\n",
      "Loss is: -28033668.6374496 with L1 = 14338214 L2 = 3857 L3 = 275660 L4 = 8952189\n",
      "Loss is: -28033693.98996125 with L1 = 14338310 L2 = 3858 L3 = 275659 L4 = 8952093\n",
      "Loss is: -28033534.752519518 with L1 = 14338647 L2 = 3863 L3 = 275654 L4 = 8951756\n",
      "Loss is: -28033894.6374496 with L1 = 14338327 L2 = 3857 L3 = 275660 L4 = 8952076\n",
      "Loss is: -28033722.047496215 with L1 = 14338574 L2 = 3861 L3 = 275656 L4 = 8951829\n",
      "Loss is: -28033921.342472903 with L1 = 14338507 L2 = 3859 L3 = 275658 L4 = 8951896\n",
      "Loss is: -28033893.400007866 with L1 = 14338743 L2 = 3862 L3 = 275655 L4 = 8951660\n",
      "Loss is: -28033763.342472903 with L1 = 14338428 L2 = 3859 L3 = 275658 L4 = 8951975\n",
      "Loss is: -28033973.342472903 with L1 = 14338533 L2 = 3859 L3 = 275658 L4 = 8951870\n",
      "Loss is: -28033791.342472903 with L1 = 14338442 L2 = 3859 L3 = 275658 L4 = 8951961\n",
      "Loss is: -28033705.400007866 with L1 = 14338649 L2 = 3862 L3 = 275655 L4 = 8951754\n",
      "Loss is: -28033893.342472903 with L1 = 14338493 L2 = 3859 L3 = 275658 L4 = 8951910\n",
      "Loss is: -28033770.047496215 with L1 = 14338598 L2 = 3861 L3 = 275656 L4 = 8951805\n",
      "Loss is: -28033945.342472903 with L1 = 14338519 L2 = 3859 L3 = 275658 L4 = 8951884\n",
      "Loss is: -28033882.694984563 with L1 = 14338571 L2 = 3860 L3 = 275657 L4 = 8951832\n",
      "Loss is: -28033975.342472903 with L1 = 14338534 L2 = 3859 L3 = 275658 L4 = 8951869\n",
      "Loss is: -28033856.694984563 with L1 = 14338558 L2 = 3860 L3 = 275657 L4 = 8951845\n",
      "Loss is: -28033985.342472903 with L1 = 14338539 L2 = 3859 L3 = 275658 L4 = 8951864\n",
      "Loss is: -28034037.342472903 with L1 = 14338565 L2 = 3859 L3 = 275658 L4 = 8951838\n",
      "Loss is: -28033734.047496215 with L1 = 14338580 L2 = 3861 L3 = 275656 L4 = 8951823\n",
      "Loss is: -28033571.400007866 with L1 = 14338582 L2 = 3862 L3 = 275655 L4 = 8951821\n",
      "Loss is: -28034009.342472903 with L1 = 14338551 L2 = 3859 L3 = 275658 L4 = 8951852\n",
      "Loss is: -28033716.047496215 with L1 = 14338571 L2 = 3861 L3 = 275656 L4 = 8951832\n"
     ]
    },
    {
     "name": "stdout",
     "output_type": "stream",
     "text": [
      "Loss is: -28034021.342472903 with L1 = 14338557 L2 = 3859 L3 = 275658 L4 = 8951846\n",
      "Loss is: -28033864.694984563 with L1 = 14338562 L2 = 3860 L3 = 275657 L4 = 8951841\n",
      "Loss is: -28034031.342472903 with L1 = 14338562 L2 = 3859 L3 = 275658 L4 = 8951841\n",
      "Loss is: -28034045.342472903 with L1 = 14338569 L2 = 3859 L3 = 275658 L4 = 8951834\n",
      "Loss is: -28033722.047496215 with L1 = 14338574 L2 = 3861 L3 = 275656 L4 = 8951829\n",
      "Loss is: -28033888.694984563 with L1 = 14338574 L2 = 3860 L3 = 275657 L4 = 8951829\n",
      "Loss is: -28034037.342472903 with L1 = 14338565 L2 = 3859 L3 = 275658 L4 = 8951838\n",
      "Loss is: -28033880.694984563 with L1 = 14338570 L2 = 3860 L3 = 275657 L4 = 8951833\n",
      "Loss is: -28034037.342472903 with L1 = 14338565 L2 = 3859 L3 = 275658 L4 = 8951838\n",
      "Loss is: -28034043.342472903 with L1 = 14338568 L2 = 3859 L3 = 275658 L4 = 8951835\n",
      "Loss is: -28034039.342472903 with L1 = 14338566 L2 = 3859 L3 = 275658 L4 = 8951837\n",
      "Loss is: -28033878.694984563 with L1 = 14338569 L2 = 3860 L3 = 275657 L4 = 8951834\n",
      "Loss is: -28034041.342472903 with L1 = 14338567 L2 = 3859 L3 = 275658 L4 = 8951836\n",
      "Loss is: -28034045.342472903 with L1 = 14338569 L2 = 3859 L3 = 275658 L4 = 8951834\n",
      "Loss is: -28034051.342472903 with L1 = 14338572 L2 = 3859 L3 = 275658 L4 = 8951831\n",
      "Loss is: -28033718.047496215 with L1 = 14338572 L2 = 3861 L3 = 275656 L4 = 8951831\n",
      "Loss is: -28034049.342472903 with L1 = 14338571 L2 = 3859 L3 = 275658 L4 = 8951832\n",
      "Loss is: -28033884.694984563 with L1 = 14338572 L2 = 3860 L3 = 275657 L4 = 8951831\n",
      "Loss is: -28034049.342472903 with L1 = 14338571 L2 = 3859 L3 = 275658 L4 = 8951832\n",
      "Loss is: -28034051.342472903 with L1 = 14338572 L2 = 3859 L3 = 275658 L4 = 8951831\n",
      "Loss is: -28033884.694984563 with L1 = 14338572 L2 = 3860 L3 = 275657 L4 = 8951831\n",
      "Loss is: -28034051.342472903 with L1 = 14338572 L2 = 3859 L3 = 275658 L4 = 8951831\n",
      "Loss is: -28034051.342472903 with L1 = 14338572 L2 = 3859 L3 = 275658 L4 = 8951831\n",
      "Loss is: -28034051.342472903 with L1 = 14338572 L2 = 3859 L3 = 275658 L4 = 8951831\n",
      "Loss is: -28034051.342472903 with L1 = 14338572 L2 = 3859 L3 = 275658 L4 = 8951831\n",
      "Loss is: -28034051.342472903 with L1 = 14338572 L2 = 3859 L3 = 275658 L4 = 8951831\n",
      "Loss is: -28034051.342472903 with L1 = 14338572 L2 = 3859 L3 = 275658 L4 = 8951831\n",
      "Loss is: -28034051.342472903 with L1 = 14338572 L2 = 3859 L3 = 275658 L4 = 8951831\n",
      "Loss is: -28034051.342472903 with L1 = 14338572 L2 = 3859 L3 = 275658 L4 = 8951831\n",
      "Loss is: -28034051.342472903 with L1 = 14338572 L2 = 3859 L3 = 275658 L4 = 8951831\n",
      "Loss is: -28034051.342472903 with L1 = 14338572 L2 = 3859 L3 = 275658 L4 = 8951831\n",
      "Loss is: -28034051.342472903 with L1 = 14338572 L2 = 3859 L3 = 275658 L4 = 8951831\n",
      "Loss is: -28034051.342472903 with L1 = 14338572 L2 = 3859 L3 = 275658 L4 = 8951831\n",
      "Loss is: -28034051.342472903 with L1 = 14338572 L2 = 3859 L3 = 275658 L4 = 8951831\n",
      "Loss is: -28034051.342472903 with L1 = 14338572 L2 = 3859 L3 = 275658 L4 = 8951831\n",
      "Loss is: -28034051.342472903 with L1 = 14338572 L2 = 3859 L3 = 275658 L4 = 8951831\n",
      "Loss is: -28034051.342472903 with L1 = 14338572 L2 = 3859 L3 = 275658 L4 = 8951831\n",
      "Loss is: -28034051.342472903 with L1 = 14338572 L2 = 3859 L3 = 275658 L4 = 8951831\n",
      "Loss is: -28034051.342472903 with L1 = 14338572 L2 = 3859 L3 = 275658 L4 = 8951831\n",
      "Loss is: -28034051.342472903 with L1 = 14338572 L2 = 3859 L3 = 275658 L4 = 8951831\n",
      "Loss is: -28034051.342472903 with L1 = 14338572 L2 = 3859 L3 = 275658 L4 = 8951831\n",
      "Loss is: -28034051.342472903 with L1 = 14338572 L2 = 3859 L3 = 275658 L4 = 8951831\n",
      "Loss is: -28034051.342472903 with L1 = 14338572 L2 = 3859 L3 = 275658 L4 = 8951831\n",
      "Loss is: -28034051.342472903 with L1 = 14338572 L2 = 3859 L3 = 275658 L4 = 8951831\n",
      "Loss is: -28034051.342472903 with L1 = 14338572 L2 = 3859 L3 = 275658 L4 = 8951831\n",
      "Loss is: -28034051.342472903 with L1 = 14338572 L2 = 3859 L3 = 275658 L4 = 8951831\n",
      "Loss is: -28034051.342472903 with L1 = 14338572 L2 = 3859 L3 = 275658 L4 = 8951831\n",
      "Loss is: -28034051.342472903 with L1 = 14338572 L2 = 3859 L3 = 275658 L4 = 8951831\n",
      "Loss is: -28034051.342472903 with L1 = 14338572 L2 = 3859 L3 = 275658 L4 = 8951831\n",
      "Loss is: -28034051.342472903 with L1 = 14338572 L2 = 3859 L3 = 275658 L4 = 8951831\n",
      "Loss is: -28034051.342472903 with L1 = 14338572 L2 = 3859 L3 = 275658 L4 = 8951831\n",
      "Loss is: -28034051.342472903 with L1 = 14338572 L2 = 3859 L3 = 275658 L4 = 8951831\n",
      "Loss is: -28034051.342472903 with L1 = 14338572 L2 = 3859 L3 = 275658 L4 = 8951831\n",
      "Loss is: -28034051.342472903 with L1 = 14338572 L2 = 3859 L3 = 275658 L4 = 8951831\n",
      "Loss is: -28034051.342472903 with L1 = 14338572 L2 = 3859 L3 = 275658 L4 = 8951831\n",
      "Loss is: -28034051.342472903 with L1 = 14338572 L2 = 3859 L3 = 275658 L4 = 8951831\n",
      "Loss is: -28034051.342472903 with L1 = 14338572 L2 = 3859 L3 = 275658 L4 = 8951831\n",
      "Loss is: -28034051.342472903 with L1 = 14338572 L2 = 3859 L3 = 275658 L4 = 8951831\n",
      "Loss is: -28034051.342472903 with L1 = 14338572 L2 = 3859 L3 = 275658 L4 = 8951831\n",
      "Loss is: -28034051.342472903 with L1 = 14338572 L2 = 3859 L3 = 275658 L4 = 8951831\n",
      "Loss is: -28034051.342472903 with L1 = 14338572 L2 = 3859 L3 = 275658 L4 = 8951831\n",
      "Loss is: -28034051.342472903 with L1 = 14338572 L2 = 3859 L3 = 275658 L4 = 8951831\n",
      "Loss is: -28034051.342472903 with L1 = 14338572 L2 = 3859 L3 = 275658 L4 = 8951831\n",
      "Loss is: -28034051.342472903 with L1 = 14338572 L2 = 3859 L3 = 275658 L4 = 8951831\n",
      "Loss is: -28034051.342472903 with L1 = 14338572 L2 = 3859 L3 = 275658 L4 = 8951831\n",
      "Loss is: -28034051.342472903 with L1 = 14338572 L2 = 3859 L3 = 275658 L4 = 8951831\n",
      "Loss is: -28034051.342472903 with L1 = 14338572 L2 = 3859 L3 = 275658 L4 = 8951831\n",
      "Loss is: -28034051.342472903 with L1 = 14338572 L2 = 3859 L3 = 275658 L4 = 8951831\n",
      "Loss is: -28034051.342472903 with L1 = 14338572 L2 = 3859 L3 = 275658 L4 = 8951831\n",
      "Loss is: -28034051.342472903 with L1 = 14338572 L2 = 3859 L3 = 275658 L4 = 8951831\n",
      "Loss is: -28034051.342472903 with L1 = 14338572 L2 = 3859 L3 = 275658 L4 = 8951831\n",
      "Loss is: -28034051.342472903 with L1 = 14338572 L2 = 3859 L3 = 275658 L4 = 8951831\n",
      "Loss is: -28034051.342472903 with L1 = 14338572 L2 = 3859 L3 = 275658 L4 = 8951831\n",
      "Loss is: -28034051.342472903 with L1 = 14338572 L2 = 3859 L3 = 275658 L4 = 8951831\n",
      "Loss is: -28034051.342472903 with L1 = 14338572 L2 = 3859 L3 = 275658 L4 = 8951831\n",
      "Loss is: -28034051.342472903 with L1 = 14338572 L2 = 3859 L3 = 275658 L4 = 8951831\n",
      "Loss is: -28034051.342472903 with L1 = 14338572 L2 = 3859 L3 = 275658 L4 = 8951831\n",
      "Loss is: -28034051.342472903 with L1 = 14338572 L2 = 3859 L3 = 275658 L4 = 8951831\n",
      "Loss is: -28034051.342472903 with L1 = 14338572 L2 = 3859 L3 = 275658 L4 = 8951831\n",
      "Loss is: -28034051.342472903 with L1 = 14338572 L2 = 3859 L3 = 275658 L4 = 8951831\n",
      "Loss is: -28034051.342472903 with L1 = 14338572 L2 = 3859 L3 = 275658 L4 = 8951831\n",
      "Loss is: -28034051.342472903 with L1 = 14338572 L2 = 3859 L3 = 275658 L4 = 8951831\n",
      "Loss is: -28034051.342472903 with L1 = 14338572 L2 = 3859 L3 = 275658 L4 = 8951831\n",
      "Loss is: -28034051.342472903 with L1 = 14338572 L2 = 3859 L3 = 275658 L4 = 8951831\n",
      "Loss is: -28034051.342472903 with L1 = 14338572 L2 = 3859 L3 = 275658 L4 = 8951831\n",
      "Loss is: -28034051.342472903 with L1 = 14338572 L2 = 3859 L3 = 275658 L4 = 8951831\n",
      "m =  -7.115223859209257 b =  26980.75049957185 Lmin= -28034051.342472903\n"
     ]
    }
   ],
   "source": [
    "initial_guess = [-nrows/ncols,nrows]\n",
    "result = optimize.minimize(count_loss,initial_guess,method='Nelder-Mead',tol=1e-6)\n",
    "m,b = result.x\n",
    "Lmin = result.fun\n",
    "print(\"m = \",m,\"b = \",b,\"Lmin=\",Lmin)"
   ]
  },
  {
   "cell_type": "code",
   "execution_count": 192,
   "metadata": {
    "scrolled": false
   },
   "outputs": [
    {
     "data": {
      "text/plain": [
       "[<matplotlib.lines.Line2D at 0x7f80730e62d0>]"
      ]
     },
     "execution_count": 192,
     "metadata": {},
     "output_type": "execute_result"
    },
    {
     "data": {
      "image/png": "[encoded data removed]",
      "text/plain": [
       "<Figure size 432x288 with 1 Axes>"
      ]
     },
     "metadata": {
      "needs_background": "light"
     },
     "output_type": "display_data"
    }
   ],
   "source": [
    "plt.imshow(fit_img,interpolation='none')\n",
    "xfit = np.arange(ncols)\n",
    "yfit = m*xfit + b\n",
    "plt.plot(xfit[(yfit > 0) & (yfit < nrows)],yfit[(yfit > 0) & (yfit < nrows)])"
   ]
  },
  {
   "cell_type": "code",
   "execution_count": 193,
   "metadata": {},
   "outputs": [
    {
     "name": "stdout",
     "output_type": "stream",
     "text": [
      "Loss is: -23430132.618330903 with L1 = 15885753 L2 = 50054 L3 = 229463 L4 = 7404650\n",
      "Loss is: -23521538.85463138 with L1 = 15851382 L2 = 49093 L3 = 230424 L4 = 7439021\n",
      "Loss is: -23616808.688187122 with L1 = 15817193 L2 = 48111 L3 = 231406 L4 = 7473210\n",
      "Loss is: -23715418.176533088 with L1 = 15783174 L2 = 47111 L3 = 232406 L4 = 7507229\n",
      "Loss is: -23818555.852087706 with L1 = 15749336 L2 = 46086 L3 = 233431 L4 = 7541067\n",
      "Loss is: -23910525.498434797 with L1 = 15715580 L2 = 45129 L3 = 234388 L4 = 7574823\n",
      "Loss is: -23992684.29548113 with L1 = 15681918 L2 = 44232 L3 = 235285 L4 = 7608485\n",
      "Loss is: -24088990.186571836 with L1 = 15648497 L2 = 43253 L3 = 236264 L4 = 7641906\n",
      "Loss is: -24186756.610080957 with L1 = 15615223 L2 = 42267 L3 = 237250 L4 = 7675180\n",
      "Loss is: -24300507.25000626 with L1 = 15582192 L2 = 41188 L3 = 238329 L4 = 7708211\n",
      "Loss is: -24411014.292676292 with L1 = 15549289 L2 = 40130 L3 = 239387 L4 = 7741114\n",
      "Loss is: -24499053.92441962 with L1 = 15516401 L2 = 39207 L3 = 240310 L4 = 7774002\n",
      "Loss is: -24585697.081279494 with L1 = 15483648 L2 = 38294 L3 = 241223 L4 = 7806755\n",
      "Loss is: -24678030.95776643 with L1 = 15451074 L2 = 37349 L3 = 242168 L4 = 7839329\n",
      "Loss is: -24757325.68267404 with L1 = 15418563 L2 = 36483 L3 = 243034 L4 = 7871840\n",
      "Loss is: -24862378.17832189 with L1 = 15386349 L2 = 35466 L3 = 244051 L4 = 7904054\n",
      "Loss is: -24951181.220111832 with L1 = 15354176 L2 = 34547 L3 = 244970 L4 = 7936227\n",
      "Loss is: -25070293.514827363 with L1 = 15322326 L2 = 33450 L3 = 246067 L4 = 7968077\n",
      "Loss is: -25170120.700894758 with L1 = 15290499 L2 = 32469 L3 = 247048 L4 = 7999904\n",
      "Loss is: -25258087.26780124 with L1 = 15258741 L2 = 31560 L3 = 247957 L4 = 8031662\n",
      "Loss is: -25345494.597265996 with L1 = 15227120 L2 = 30656 L3 = 248861 L4 = 8063283\n",
      "Loss is: -25454419.510262344 with L1 = 15195759 L2 = 29626 L3 = 249891 L4 = 8094644\n",
      "Loss is: -25556701.876236506 with L1 = 15164493 L2 = 28637 L3 = 250880 L4 = 8125910\n",
      "Loss is: -25667188.67416293 with L1 = 15133413 L2 = 27601 L3 = 251916 L4 = 8156990\n",
      "Loss is: -25768332.56525363 with L1 = 15102411 L2 = 26622 L3 = 252895 L4 = 8187992\n",
      "Loss is: -25847484.987882666 with L1 = 15071412 L2 = 25775 L3 = 253742 L4 = 8218991\n",
      "Loss is: -25927580.000465088 with L1 = 15040551 L2 = 24924 L3 = 254593 L4 = 8249852\n",
      "Loss is: -26033071.488811053 with L1 = 15009973 L2 = 23924 L3 = 255593 L4 = 8280430\n",
      "Loss is: -26126853.00548446 with L1 = 14979456 L2 = 22995 L3 = 256522 L4 = 8310947\n",
      "Loss is: -26247705.472804874 with L1 = 14949226 L2 = 21907 L3 = 257610 L4 = 8341177\n",
      "Loss is: -26348411.594035424 with L1 = 14919005 L2 = 20940 L3 = 258577 L4 = 8371398\n",
      "Loss is: -26431169.78652461 with L1 = 14888809 L2 = 20081 L3 = 259436 L4 = 8401594\n",
      "Loss is: -26518739.461199135 with L1 = 14858769 L2 = 19195 L3 = 260322 L4 = 8431634\n",
      "Loss is: -26620223.582429692 with L1 = 14828937 L2 = 18228 L3 = 261289 L4 = 8461466\n",
      "Loss is: -26701049.415105343 with L1 = 14799108 L2 = 17385 L3 = 262132 L4 = 8491295\n",
      "Loss is: -26780778.067874223 with L1 = 14769397 L2 = 16550 L3 = 262967 L4 = 8521006\n",
      "Loss is: -26858397.655806266 with L1 = 14739798 L2 = 15729 L3 = 263788 L4 = 8550605\n",
      "Loss is: -26948576.510387562 with L1 = 14710396 L2 = 14835 L3 = 264682 L4 = 8580007\n",
      "Loss is: -27016745.89650719 with L1 = 14680988 L2 = 14073 L3 = 265444 L4 = 8609415\n",
      "Loss is: -27089208.82234712 with L1 = 14651727 L2 = 13287 L3 = 266230 L4 = 8638676\n",
      "Loss is: -27151128.308932908 with L1 = 14622527 L2 = 12565 L3 = 266952 L4 = 8667876\n",
      "Loss is: -27229317.306911565 with L1 = 14593546 L2 = 11748 L3 = 267769 L4 = 8696857\n",
      "Loss is: -27311729.84461052 with L1 = 14564677 L2 = 10907 L3 = 268610 L4 = 8725726\n",
      "Loss is: -27408990.06630723 with L1 = 14536066 L2 = 9980 L3 = 269537 L4 = 8754337\n",
      "Loss is: -27494135.02135469 with L1 = 14507480 L2 = 9126 L3 = 270391 L4 = 8782923\n",
      "Loss is: -27598575.14258524 with L1 = 14479126 L2 = 8159 L3 = 271358 L4 = 8811277\n",
      "Loss is: -27690767.34967819 with L1 = 14450814 L2 = 7266 L3 = 272251 L4 = 8839589\n",
      "Loss is: -27776951.599702343 with L1 = 14422581 L2 = 6410 L3 = 273107 L4 = 8867822\n",
      "Loss is: -27872314.166608825 with L1 = 14394521 L2 = 5501 L3 = 274016 L4 = 8895882\n",
      "Loss is: -27963188.603841625 with L1 = 14366550 L2 = 4620 L3 = 274897 L4 = 8923853\n",
      "Loss is: -28034051.342472903 with L1 = 14338572 L2 = 3859 L3 = 275658 L4 = 8951831\n",
      "Loss is: -27992320.911400735 with L1 = 14310041 L2 = 3767 L3 = 275750 L4 = 8980362\n",
      "Loss is: -27935636.206377424 with L1 = 14281532 L2 = 3765 L3 = 275752 L4 = 9008871\n",
      "Loss is: -27880679.328749232 with L1 = 14253137 L2 = 3754 L3 = 275763 L4 = 9037266\n",
      "Loss is: -27825480.508656003 with L1 = 14224871 L2 = 3746 L3 = 275771 L4 = 9065532\n",
      "Loss is: -27769646.45112104 with L1 = 14196704 L2 = 3743 L3 = 275774 L4 = 9093699\n",
      "Loss is: -27714865.631027803 with L1 = 14168647 L2 = 3735 L3 = 275782 L4 = 9121756\n",
      "Loss is: -27658973.631027803 with L1 = 14140701 L2 = 3735 L3 = 275782 L4 = 9149702\n",
      "Loss is: -27603974.220981188 with L1 = 14112868 L2 = 3731 L3 = 275786 L4 = 9177535\n",
      "Loss is: -27549353.45842292 with L1 = 14085141 L2 = 3726 L3 = 275791 L4 = 9205262\n",
      "Loss is: -27494280.10591127 with L1 = 14057521 L2 = 3725 L3 = 275792 L4 = 9232882\n",
      "Loss is: -27441277.87577142 with L1 = 14030020 L2 = 3713 L3 = 275804 L4 = 9260383\n",
      "Loss is: -27388662.293119915 with L1 = 14002629 L2 = 3700 L3 = 275817 L4 = 9287774\n",
      "Loss is: -27335746.768003374 with L1 = 13975338 L2 = 3690 L3 = 275827 L4 = 9315065\n",
      "Loss is: -27282545.300421797 with L1 = 13948154 L2 = 3683 L3 = 275834 L4 = 9342249\n",
      "Loss is: -27229720.480328567 with L1 = 13921075 L2 = 3675 L3 = 275842 L4 = 9369328\n",
      "Loss is: -27176093.775305256 with L1 = 13894095 L2 = 3673 L3 = 275844 L4 = 9396308\n",
      "Loss is: -27123680.955212027 with L1 = 13867222 L2 = 3665 L3 = 275852 L4 = 9423181\n",
      "Loss is: -27073174.61000225 with L1 = 13840469 L2 = 3647 L3 = 275870 L4 = 9449934\n",
      "Loss is: -27023038.912280828 with L1 = 13813818 L2 = 3628 L3 = 275889 L4 = 9476585\n",
      "Loss is: -26973595.157024436 with L1 = 13787263 L2 = 3606 L3 = 275911 L4 = 9503140\n",
      "Loss is: -26920845.804512784 with L1 = 13760805 L2 = 3605 L3 = 275912 L4 = 9529598\n",
      "Loss is: -26868288.452001125 with L1 = 13734443 L2 = 3604 L3 = 275913 L4 = 9555960\n",
      "Loss is: -26817111.631907895 with L1 = 13708188 L2 = 3596 L3 = 275921 L4 = 9582215\n",
      "Loss is: -26764783.631907895 with L1 = 13682024 L2 = 3596 L3 = 275921 L4 = 9608379\n",
      "Loss is: -26712820.279396243 with L1 = 13655959 L2 = 3595 L3 = 275922 L4 = 9634444\n",
      "Loss is: -26660894.279396243 with L1 = 13629996 L2 = 3595 L3 = 275922 L4 = 9660407\n",
      "Loss is: -26609900.86934963 with L1 = 13604166 L2 = 3591 L3 = 275926 L4 = 9686237\n",
      "Loss is: -26562848.351534963 with L1 = 13578390 L2 = 3564 L3 = 275953 L4 = 9712013\n",
      "Loss is: -26511506.351534963 with L1 = 13552719 L2 = 3564 L3 = 275953 L4 = 9737684\n",
      "Loss is: -26460701.64651166 with L1 = 13527150 L2 = 3562 L3 = 275955 L4 = 9763253\n",
      "Loss is: -26411430.12139512 with L1 = 13501681 L2 = 3552 L3 = 275965 L4 = 9788722\n",
      "Loss is: -26363697.77618535 with L1 = 13476315 L2 = 3534 L3 = 275983 L4 = 9814088\n",
      "Loss is: -26313127.77618535 with L1 = 13451030 L2 = 3534 L3 = 275983 L4 = 9839373\n",
      "Loss is: -26262922.42367369 with L1 = 13425844 L2 = 3533 L3 = 275984 L4 = 9864559\n",
      "Loss is: -26214738.193533845 with L1 = 13400752 L2 = 3521 L3 = 275996 L4 = 9889651\n",
      "Loss is: -26165577.43097557 with L1 = 13375755 L2 = 3516 L3 = 276001 L4 = 9914648\n",
      "Loss is: -26117271.25837069 with L1 = 13350852 L2 = 3507 L3 = 276010 L4 = 9939551\n",
      "Loss is: -26068143.200835727 with L1 = 13326038 L2 = 3504 L3 = 276013 L4 = 9964365\n",
      "Loss is: -26018691.200835727 with L1 = 13301312 L2 = 3504 L3 = 276013 L4 = 9989091\n",
      "Loss is: -25969417.200835727 with L1 = 13276675 L2 = 3504 L3 = 276013 L4 = 10013728\n",
      "Loss is: -25921682.38074249 with L1 = 13252141 L2 = 3496 L3 = 276021 L4 = 10038262\n",
      "Loss is: -25874462.85562595 with L1 = 13227698 L2 = 3486 L3 = 276031 L4 = 10062705\n",
      "Loss is: -25825740.85562595 with L1 = 13203337 L2 = 3486 L3 = 276031 L4 = 10087066\n",
      "Loss is: -25780561.80539287 with L1 = 13179081 L2 = 3466 L3 = 276051 L4 = 10111322\n",
      "Loss is: -25734550.870229714 with L1 = 13154909 L2 = 3452 L3 = 276065 L4 = 10135494\n",
      "Loss is: -25688384.64008987 with L1 = 13130826 L2 = 3440 L3 = 276077 L4 = 10159577\n",
      "Loss is: -25640370.64008987 with L1 = 13106819 L2 = 3440 L3 = 276077 L4 = 10183584\n",
      "Loss is: -25592871.93506656 with L1 = 13082903 L2 = 3438 L3 = 276079 L4 = 10207500\n"
     ]
    },
    {
     "name": "stdout",
     "output_type": "stream",
     "text": [
      "Loss is: -25545727.877531596 with L1 = 13059081 L2 = 3435 L3 = 276082 L4 = 10231322\n",
      "Loss is: -25499057.11497333 with L1 = 13035329 L2 = 3430 L3 = 276087 L4 = 10255074\n",
      "[-6.40370147 -6.41793192 -6.43216237 -6.44639282 -6.46062326 -6.47485371\n",
      " -6.48908416 -6.50331461 -6.51754506 -6.5317755  -6.54600595 -6.5602364\n",
      " -6.57446685 -6.58869729 -6.60292774 -6.61715819 -6.63138864 -6.64561908\n",
      " -6.65984953 -6.67407998 -6.68831043 -6.70254088 -6.71677132 -6.73100177\n",
      " -6.74523222 -6.75946267 -6.77369311 -6.78792356 -6.80215401 -6.81638446\n",
      " -6.8306149  -6.84484535 -6.8590758  -6.87330625 -6.8875367  -6.90176714\n",
      " -6.91599759 -6.93022804 -6.94445849 -6.95868893 -6.97291938 -6.98714983\n",
      " -7.00138028 -7.01561073 -7.02984117 -7.04407162 -7.05830207 -7.07253252\n",
      " -7.08676296 -7.10099341 -7.11522386 -7.12945431 -7.14368475 -7.1579152\n",
      " -7.17214565 -7.1863761  -7.20060655 -7.21483699 -7.22906744 -7.24329789\n",
      " -7.25752834 -7.27175878 -7.28598923 -7.30021968 -7.31445013 -7.32868057\n",
      " -7.34291102 -7.35714147 -7.37137192 -7.38560237 -7.39983281 -7.41406326\n",
      " -7.42829371 -7.44252416 -7.4567546  -7.47098505 -7.4852155  -7.49944595\n",
      " -7.5136764  -7.52790684 -7.54213729 -7.55636774 -7.57059819 -7.58482863\n",
      " -7.59905908 -7.61328953 -7.62751998 -7.64175042 -7.65598087 -7.67021132\n",
      " -7.68444177 -7.69867222 -7.71290266 -7.72713311 -7.74136356 -7.75559401\n",
      " -7.76982445 -7.7840549  -7.79828535 -7.8125158  -7.82674625]\n"
     ]
    },
    {
     "data": {
      "text/plain": [
       "Text(0, 0.5, 'Relative loss L/L(m$_0$)')"
      ]
     },
     "execution_count": 193,
     "metadata": {},
     "output_type": "execute_result"
    },
    {
     "data": {
      "image/png": "[encoded data removed]",
      "text/plain": [
       "<Figure size 432x288 with 1 Axes>"
      ]
     },
     "metadata": {
      "needs_background": "light"
     },
     "output_type": "display_data"
    }
   ],
   "source": [
    "# Plot the loss in a range near the parameters.\n",
    "mrng = np.arange(m-0.1*m, m+0.1*m, 0.2*m/100)\n",
    "Lrng = np.array([count_loss([mval,b])/Lmin for mval in mrng])\n",
    "print(mrng)\n",
    "plt.plot(mrng,Lrng)\n",
    "plt.xlabel(\"Parameter m\")\n",
    "plt.ylabel(\"Relative loss L/L(m$_0$)\")"
   ]
  },
  {
   "cell_type": "code",
   "execution_count": 179,
   "metadata": {},
   "outputs": [
    {
     "name": "stdout",
     "output_type": "stream",
     "text": [
      "Lower = 114 , upper= 140\n"
     ]
    },
    {
     "data": {
      "text/plain": [
       "<matplotlib.colorbar.Colorbar at 0x7f807f082550>"
      ]
     },
     "execution_count": 179,
     "metadata": {},
     "output_type": "execute_result"
    },
    {
     "data": {
      "image/png": "[encoded data removed]",
      "text/plain": [
       "<Figure size 432x288 with 2 Axes>"
      ]
     },
     "metadata": {
      "needs_background": "light"
     },
     "output_type": "display_data"
    }
   ],
   "source": [
    "def auto_canny(image, sigma=0.1):\n",
    "    v = 255/2. #np.median(image)\n",
    "    lower = int(max(0, (1.0 - sigma) * v))\n",
    "    upper = int(min(255, (1.0 + sigma) * v))\n",
    "    print(\"Lower =\",lower,\", upper=\",upper)\n",
    "    return cv2.Canny(image, lower, upper)\n",
    "\n",
    "edges = auto_canny(image=fit_img) \n",
    "\n",
    "# Show images for testing\n",
    "#cv2.imshow('edges', edges)\n",
    "plt.imshow(edges)\n",
    "plt.colorbar()"
   ]
  },
  {
   "cell_type": "markdown",
   "metadata": {},
   "source": [
    "## Fit the noise peak"
   ]
  },
  {
   "cell_type": "code",
   "execution_count": null,
   "metadata": {
    "scrolled": true
   },
   "outputs": [],
   "source": [
    "fscale = 12.\n",
    "\n",
    "def gauss(x, amp, mu, sigma):\n",
    "    if sigma <= 0.:\n",
    "        return np.inf\n",
    "    return amp/(2*np.pi)**(0.5)/sigma * np.exp(-0.5*(x-mu)**2./sigma**2)\n",
    "\n",
    "def gaussexpo(x, amp, mu, sigma, const, mean, x0):\n",
    "    if sigma <= 0.:\n",
    "        return np.inf\n",
    "    return amp/(2*np.pi)**(0.5)/sigma * np.exp(-0.5*(x-mu)**2./sigma**2) + const * np.exp(-(x-x0)/mean)\n",
    "\n",
    "\n",
    "yh, xh, _ = plt.hist(img[(img/fscale > 7000/fscale) & (img/fscale < 9300/fscale)]/fscale,bins=50)\n",
    "xh = (xh[1:] + xh[0:-1])/2\n",
    "\n",
    "#popt, pcov = curve_fit(gaussexpo, xh, yh, [3.0e6, 8200, 300, 1000, 10, -1])\n",
    "popt, pcov = curve_fit(gauss, xh, yh, [3.0e6, 8200/fscale, 135/fscale])\n",
    "xfit = np.linspace(xh[0],xh[-1],100)\n",
    "plt.plot(xfit,gauss(xfit,*popt))\n",
    "plt.xlabel(\"Pixel values\")\n",
    "plt.ylabel(\"Counts/bin\")\n",
    "print(\"Fit mean:\",popt[1])\n",
    "print(\"Fit sigma:\",popt[2])"
   ]
  },
  {
   "cell_type": "code",
   "execution_count": null,
   "metadata": {
    "scrolled": true
   },
   "outputs": [],
   "source": [
    "fn = np.load(\"frame_4855x4855_11occ.npz\")\n",
    "img_sim = fn['frame'].flatten()"
   ]
  },
  {
   "cell_type": "code",
   "execution_count": null,
   "metadata": {},
   "outputs": [],
   "source": [
    "#plt.hist(img[(img > 0) & (img < 10000)],bins=50)\n",
    "plt.hist(img_sim,bins=50,range=[0,10000],label='MC')\n",
    "plt.hist(img/12,bins=50,range=[0,10000],label='data')\n",
    "\n",
    "plt.xlabel(\"Pixel values\")\n",
    "plt.ylabel(\"Counts/bin\")\n",
    "plt.yscale(\"log\")\n",
    "plt.legend()\n",
    "print(\"Total pixels:\",len(img))\n",
    "print(\"Counts near peak\",np.sum(img[(img > 29) & (img < 33)]))"
   ]
  },
  {
   "cell_type": "code",
   "execution_count": null,
   "metadata": {
    "scrolled": true
   },
   "outputs": [],
   "source": [
    "177383690/935130034."
   ]
  },
  {
   "cell_type": "code",
   "execution_count": null,
   "metadata": {},
   "outputs": [],
   "source": [
    "plt.hist(np.abs(np.random.normal(loc=0,scale=50,size=1000)))"
   ]
  },
  {
   "cell_type": "markdown",
   "metadata": {},
   "source": [
    "## Train a network (single-electrons)"
   ]
  },
  {
   "cell_type": "code",
   "execution_count": null,
   "metadata": {},
   "outputs": [],
   "source": [
    "modeldir = '/home/jrenner/local/jerenner/emsim/models'\n",
    "lrate       = 1e-4   # Learning rate to use in the training.\n",
    "load_model  = True   # Load an existing model\n",
    "tr.augment  = False  # Enable/disable data augmentation\n",
    "epoch_start = 74      # Number of initial epoch\n",
    "epoch_end   = 2000    # Number of final epoch\n",
    "model_load_checkpoint = \"{}/model_10cells_noise_100k_74.pt\".format(modeldir)\n",
    "\n",
    "# Create the datasets.\n",
    "dataset_all   = tr.EMDataset(\"dataframes/EM_4um_back_10M_300keV.pkl\",noise_mean=0,noise_sigma=20,add_noise=True,add_shift=0)\n",
    "dataset_train = tr.EMDataset(\"dataframes/EM_4um_back_10M_300keV.pkl\",noise_mean=0,noise_sigma=20,add_noise=True,nstart=0,nend=-20000,add_shift=0)\n",
    "dataset_val   = tr.EMDataset(\"dataframes/EM_4um_back_10M_300keV.pkl\",noise_mean=0,noise_sigma=20,add_noise=True,nstart=-20000,add_shift=0)\n",
    "\n",
    "# Create the loaders.\n",
    "train_loader = DataLoader(dataset_train, batch_size=1000, shuffle=True, collate_fn=tr.my_collate, num_workers=8)\n",
    "val_loader = DataLoader(dataset_val, batch_size=1000, shuffle=True, collate_fn=tr.my_collate, num_workers=8)\n",
    "#val_loader = DataLoader(dataset_val, batch_size=15, shuffle=True, collate_fn=tr.my_collate, num_workers=4)\n",
    "#test_loader = DataLoader(dataset_test, batch_size=15, shuffle=True, collate_fn=tr.my_collate, num_workers=4)\n",
    "\n",
    "# Define the model.\n",
    "#model = emnet.FCNet()\n",
    "model = emnet.basicCNN()\n",
    "model.cuda()\n",
    "\n",
    "optimizer = optim.Adam(model.parameters(), lr=lrate, betas=(0.9, 0.999), eps=1e-6, weight_decay=0.01, amsgrad=True)\n",
    "\n",
    "# Load the model from file.\n",
    "if(load_model):\n",
    "    model.load_state_dict(torch.load(model_load_checkpoint))\n",
    "    #model.load_state_dict(torch.load(model_load_checkpoint,map_location=torch.device('cpu')))\n",
    "    model.eval()"
   ]
  },
  {
   "cell_type": "code",
   "execution_count": null,
   "metadata": {},
   "outputs": [],
   "source": [
    "# Run the training.\n",
    "#print(\"Training with weights\",sort_clsweights)\n",
    "for epoch in range(epoch_start,epoch_end):\n",
    "    print(\"Epoch: \",epoch)\n",
    "    model.train()\n",
    "    tr.train(model, epoch, train_loader, optimizer)\n",
    "    with torch.no_grad():\n",
    "        model.eval()\n",
    "        tr.val(model, epoch, val_loader)\n",
    "#     if(epoch % 50 == 0):\n",
    "#         torch.save(model.state_dict(), \"{}/model_init_{}.pt\".format(modeldir,epoch))"
   ]
  },
  {
   "cell_type": "code",
   "execution_count": null,
   "metadata": {},
   "outputs": [],
   "source": [
    "torch.save(model.state_dict(), \"{}/model_10cells_noise_100k_{}.pt\".format(modeldir,epoch))"
   ]
  },
  {
   "cell_type": "markdown",
   "metadata": {},
   "source": [
    "### Plot the training and validation loss"
   ]
  },
  {
   "cell_type": "code",
   "execution_count": null,
   "metadata": {},
   "outputs": [],
   "source": [
    "# Plot the training and validation losses.\n",
    "tloss = np.loadtxt(\"train.txt\")\n",
    "vloss = np.loadtxt(\"val.txt\")\n",
    "\n",
    "fig = plt.figure()\n",
    "fig.set_figheight(4.0)\n",
    "fig.set_figwidth(12.0)\n",
    "\n",
    "ax1 = fig.add_subplot(121);\n",
    "plt.plot(tloss[:,0],tloss[:,1],label='training')\n",
    "plt.plot(vloss[:,0],vloss[:,1],label='validation')\n",
    "plt.legend()\n",
    "plt.title(\"Loss\")\n",
    "plt.yscale('log')\n",
    "\n",
    "ax2 = fig.add_subplot(122);\n",
    "plt.plot(tloss[:,0],tloss[:,2],label='training')\n",
    "plt.plot(vloss[:,0],vloss[:,2],label='validation')\n",
    "plt.legend()\n",
    "plt.title(\"Accuracy\")"
   ]
  },
  {
   "cell_type": "markdown",
   "metadata": {},
   "source": [
    "### Evaluate all events from a dataset"
   ]
  },
  {
   "cell_type": "code",
   "execution_count": null,
   "metadata": {},
   "outputs": [],
   "source": [
    "dset = tr.EMDataset(\"dataframes/EM_4um_back_10M_300keV.pkl\",noise_mean=0,noise_sigma=20,add_noise=True,add_shift=0)\n",
    "model.eval()"
   ]
  },
  {
   "cell_type": "code",
   "execution_count": null,
   "metadata": {},
   "outputs": [],
   "source": [
    "evts = np.arange(80000,80100)\n",
    "df, evts = emsim_utils.construct_evt_dataframe(dset,evts,model)"
   ]
  },
  {
   "cell_type": "code",
   "execution_count": null,
   "metadata": {},
   "outputs": [],
   "source": [
    "axes = pd.plotting.scatter_matrix(df[[\"error_r_NN\",\"error_r_maxpt\",\"error_r_3x3\",\"error_r_3x3_th\",\"error_r_5x5\",\"error_r_5x5_th\"]], \n",
    "                                  figsize=[15,15], alpha=0.2, hist_kwds={'bins':100})\n",
    "for i, axs in enumerate(axes):\n",
    "    for j, ax in enumerate(axs):\n",
    "        #if i == j:  # only the histograms\n",
    "        #ax.set_yscale('log')\n",
    "        ax.set_xlim(0,0.01)\n",
    "        ax.set_ylim(0,0.01)\n",
    "            \n",
    "plt.savefig(\"errors_scatter_matrix.pdf\")"
   ]
  },
  {
   "cell_type": "code",
   "execution_count": null,
   "metadata": {},
   "outputs": [],
   "source": [
    "err_cut = 0.02\n",
    "sigma_cut = 1e9\n",
    "plt.hist(df[(df.error_r_NN < err_cut) & (df.sigma_r_NN < sigma_cut)].error_r_NN,alpha=0.8,bins=50,color='blue',label='NN error')\n",
    "plt.hist(df[(df.error_r_3x3 < err_cut) & (df.sigma_r_NN < sigma_cut)].error_r_3x3,alpha=0.8,bins=50,color='green',label='3x3 centroid')\n",
    "plt.xlabel(\"error $\\sqrt{\\Delta x^2 + \\Delta y^2}$ (mm)\")\n",
    "plt.ylabel(\"counts/bin\")\n",
    "plt.yscale('log')\n",
    "plt.legend()"
   ]
  },
  {
   "cell_type": "code",
   "execution_count": null,
   "metadata": {},
   "outputs": [],
   "source": [
    "print(\"Mean 3x3 error:\",df[(df.error_r_3x3 < err_cut) & (df.sigma_r_NN < sigma_cut)].error_r_3x3.mean())\n",
    "print(\"Mean NN error: \",df[(df.error_r_NN < err_cut) & (df.sigma_r_NN < sigma_cut)].error_r_NN.mean())"
   ]
  },
  {
   "cell_type": "code",
   "execution_count": null,
   "metadata": {},
   "outputs": [],
   "source": [
    "df[\"error_r_diff\"] = df.error_r_NN - df.error_r_3x3"
   ]
  },
  {
   "cell_type": "code",
   "execution_count": null,
   "metadata": {},
   "outputs": [],
   "source": [
    "err_diff_cut = 0.005\n",
    "plt.hist(df[(df.error_r_diff < err_diff_cut) & (df.error_r_diff > -err_diff_cut) & (df.sigma_r_NN < 0.011)].error_r_diff,alpha=0.8,bins=50,color='blue',label='NN error')\n",
    "plt.yscale(\"log\")\n",
    "plt.xlabel(\"error difference (NN - 3x3-method)\")"
   ]
  },
  {
   "cell_type": "code",
   "execution_count": null,
   "metadata": {},
   "outputs": [],
   "source": [
    "# Save dataframe and event arrays.\n",
    "df.to_pickle(\"evts_80000_to_90000.pkl\")\n",
    "np.savez(\"evt_arrays.npz\",evt_arrays=l_evt_arr)"
   ]
  },
  {
   "cell_type": "code",
   "execution_count": null,
   "metadata": {},
   "outputs": [],
   "source": [
    "df = pd.read_pickle(\"evts_80000_to_90000.pkl\")"
   ]
  },
  {
   "cell_type": "code",
   "execution_count": null,
   "metadata": {},
   "outputs": [],
   "source": [
    "cut_sigma = 0.011\n",
    "\n",
    "fig = plt.figure()\n",
    "fig.set_figheight(6.0)\n",
    "fig.set_figwidth(15.0)\n",
    "\n",
    "ax1 = fig.add_subplot(121)\n",
    "plt.hist(df[df.sigma_r_NN < cut_sigma].error_r_NN,bins=50)\n",
    "plt.yscale(\"log\")\n",
    "plt.xlabel(\"error $\\sqrt{\\Delta x^2 + \\Delta y^2}$ (mm)\")\n",
    "plt.ylabel(\"Counts/bin\")\n",
    "\n",
    "ax2 = fig.add_subplot(122)\n",
    "plt.hist(df[df.sigma_r_NN < cut_sigma].sigma_r_NN,bins=50)\n",
    "plt.xlabel(\"$\\sqrt{\\sigma_x^2 + \\sigma_y^2}$ of probability distribution (mm)\")\n",
    "plt.ylabel(\"Counts/bin\")"
   ]
  },
  {
   "cell_type": "code",
   "execution_count": null,
   "metadata": {},
   "outputs": [],
   "source": [
    "eff, mean_err = [], []\n",
    "cut_sigmas = np.arange(0.003,0.4,0.0005)\n",
    "for cut_sigma in cut_sigmas:\n",
    "    df_cut = df[df.sigma_r_NN < cut_sigma]\n",
    "    \n",
    "    eff.append(len(df_cut)/len(df))\n",
    "    mean_err.append(df_cut.error_r_NN.mean())\n",
    "    \n",
    "    print(\"[SIGMA = {}]: EFF = {}, ERR = {}\".format(cut_sigma,len(df_cut)/len(df),df_cut.error_r_NN.mean()))\n",
    "\n",
    "eff = np.array(eff)\n",
    "mean_err = np.array(mean_err)\n",
    "plt.plot(mean_err,eff,'.-')\n",
    "plt.xlabel(\"Mean error (mm)\")\n",
    "plt.ylabel(\"Efficiency\")\n"
   ]
  },
  {
   "cell_type": "markdown",
   "metadata": {},
   "source": [
    "### Test the net for individual events"
   ]
  },
  {
   "cell_type": "code",
   "execution_count": null,
   "metadata": {},
   "outputs": [],
   "source": [
    "dset = tr.EMDataset(\"dataframes/EM_4um_back_10M_300keV.pkl\",noise_mean=0,noise_sigma=20,add_noise=True,add_shift=0)\n",
    "softmax = nn.Softmax(dim=1)\n",
    "model.eval()"
   ]
  },
  {
   "cell_type": "code",
   "execution_count": null,
   "metadata": {},
   "outputs": [],
   "source": [
    "evt_plt = 81001\n",
    "evt_item = dset[evt_plt]\n",
    "evt_arr = evt_item[0]\n",
    "evt_lbl = evt_item[1]\n",
    "evt_err_ind = evt_item[2]\n",
    "\n",
    "SHIFTED_ERR_RANGE_MIN = emnet.PIXEL_ERR_RANGE_MIN - dset.add_shift*emnet.PIXEL_SIZE\n",
    "SHIFTED_ERR_RANGE_MAX = emnet.PIXEL_ERR_RANGE_MAX + dset.add_shift*emnet.PIXEL_SIZE\n",
    "ERR_PIXEL_SIZE = emnet.PIXEL_SIZE*(2*dset.add_shift+1)/emnet.ERR_SIZE\n",
    "\n",
    "x_errgrid = np.arange(0,emnet.ERR_SIZE)*ERR_PIXEL_SIZE + SHIFTED_ERR_RANGE_MIN + ERR_PIXEL_SIZE/2\n",
    "y_errgrid = np.arange(0,emnet.ERR_SIZE)*ERR_PIXEL_SIZE + SHIFTED_ERR_RANGE_MIN + ERR_PIXEL_SIZE/2\n",
    "\n",
    "xbin = int(emnet.ERR_SIZE*(evt_lbl[0] - SHIFTED_ERR_RANGE_MIN)/(SHIFTED_ERR_RANGE_MAX - SHIFTED_ERR_RANGE_MIN))\n",
    "xbin = max(xbin,0)\n",
    "xbin = min(xbin,emnet.ERR_SIZE-1)\n",
    "\n",
    "ybin = int(emnet.ERR_SIZE*(evt_lbl[1] - SHIFTED_ERR_RANGE_MIN)/(SHIFTED_ERR_RANGE_MAX - SHIFTED_ERR_RANGE_MIN))\n",
    "ybin = max(ybin,0)\n",
    "ybin = min(ybin,emnet.ERR_SIZE-1)\n",
    "\n",
    "print(\"Computed index:\",(ybin*emnet.ERR_SIZE) + xbin,\"for max added shift:\",dset.add_shift)\n",
    "\n",
    "# Send through the model.\n",
    "data = torch.tensor(evt_arr).float().unsqueeze(0).unsqueeze(1).cuda()\n",
    "target = torch.tensor(np.array(evt_err_ind)).long().cuda()\n",
    "output_score = model(data)\n",
    "\n",
    "# Compute the predicted pixel and (x,y) values.\n",
    "prob = np.array(softmax(output_score).cpu().detach().numpy()).reshape([emnet.ERR_SIZE,emnet.ERR_SIZE])\n",
    "ipred = np.argmax(prob)\n",
    "xpred = int(ipred % emnet.ERR_SIZE)*ERR_PIXEL_SIZE + SHIFTED_ERR_RANGE_MIN + ERR_PIXEL_SIZE/2\n",
    "ypred = int(ipred / emnet.ERR_SIZE)*ERR_PIXEL_SIZE + SHIFTED_ERR_RANGE_MIN + ERR_PIXEL_SIZE/2\n",
    "#print(\"[Evt\",evt,\"]: Index is\",evt_err_ind,\"with predicted\",ipred,\"; x = {} (predicted {}), y = {} (predicted {})\".format(evt_lbl[0],xpred,evt_lbl[1],ypred))\n",
    "\n",
    "# Compute the sigmas of the distribution.\n",
    "sigma_x0, sigma_y0 = emsim_utils.compute_sigmas(prob,ERR_PIXEL_SIZE,SHIFTED_ERR_RANGE_MIN)\n",
    "popt, pcov = emsim_utils.fit_sigmas(prob,x_errgrid,y_errgrid,xpred,ypred,sigma_x0,sigma_y0,ERR_PIXEL_SIZE)\n",
    "fit_data = emsim_utils.mult_gaussFun_Fit((x_errgrid,y_errgrid),*popt).reshape([emnet.ERR_SIZE,emnet.ERR_SIZE])\n",
    "print(\"Gaussian fit parameters A*exp(-0.5*((x-x0)**2/varX + (y-y0)**2/varY)) + C:\")\n",
    "print(\"A = {}\".format(popt[0]))\n",
    "print(\"(x0, y0) = ({},{})\".format(popt[1],popt[2]))\n",
    "print(\"(sigma_x, sigma_y) = ({},{})\".format(popt[3]**0.5,popt[4]**0.5))\n",
    "print(\"C = {}\".format(popt[5]))\n",
    "\n",
    "fig = plt.figure()\n",
    "fig.set_figheight(4.0)\n",
    "fig.set_figwidth(18.0)\n",
    "\n",
    "ax1 = fig.add_subplot(131)\n",
    "plt.imshow(evt_arr)\n",
    "plt.colorbar()\n",
    "plt.title(\"Event {}; shift ({:.3e},{:.3e}); index {}\".format(evt_plt,evt_lbl[0],evt_lbl[1],evt_err_ind))\n",
    "\n",
    "ax2 = fig.add_subplot(132)\n",
    "ax2.plot([xbin],[ybin],color='red',marker='o',markersize=10)\n",
    "plt.imshow(prob)\n",
    "plt.colorbar()\n",
    "plt.title(\"Incidence point within prediction grid\")\n",
    "\n",
    "ax3 = fig.add_subplot(133)\n",
    "plt.imshow(fit_data)\n",
    "plt.colorbar()\n",
    "plt.title(\"2D Gaussian fit\")"
   ]
  },
  {
   "cell_type": "markdown",
   "metadata": {},
   "source": [
    "# Misc. code"
   ]
  },
  {
   "cell_type": "code",
   "execution_count": null,
   "metadata": {},
   "outputs": [],
   "source": [
    "# Look at many events:\n",
    "xpred_err, ypred_err = [], []\n",
    "for evt_plt in np.arange(8000,9999):\n",
    "    \n",
    "    evt_item = dset[evt_plt]\n",
    "    evt_arr = evt_item[0]\n",
    "    evt_lbl = evt_item[1]\n",
    "    evt_err_ind = evt_item[2]\n",
    "\n",
    "    # Send through the model.\n",
    "    data = torch.tensor(evt_arr).float().unsqueeze(0).unsqueeze(1).cuda()\n",
    "    target = torch.tensor(np.array(evt_err_ind)).long().cuda()\n",
    "\n",
    "    output_score = model(data)\n",
    "    prob = np.argmax(np.array(softmax(output_score).cpu().detach().numpy()).reshape([10,10]))\n",
    "    xpred = (prob % tr.ERR_SIZE)*0.005/tr.ERR_SIZE + tr.ERR_RANGE_MIN + 0.005/tr.ERR_SIZE/2\n",
    "    ypred = (prob / tr.ERR_SIZE)*0.005/tr.ERR_SIZE + tr.ERR_RANGE_MIN + 0.005/tr.ERR_SIZE/2\n",
    "    print(\"[Evt\",evt_plt,\"]: Index is\",evt_err_ind,\"with predicted\",prob,\"; x = {} (predicted {}), y = {} (predicted {})\".format(evt_lbl[0],xpred,evt_lbl[1],ypred))\n",
    "    \n",
    "    xpred_err.append(xpred-evt_lbl[0])\n",
    "    ypred_err.append(ypred-evt_lbl[1])\n",
    "xpred_err = np.array(xpred_err)\n",
    "ypred_err = np.array(ypred_err)"
   ]
  },
  {
   "cell_type": "code",
   "execution_count": null,
   "metadata": {},
   "outputs": [],
   "source": [
    "fig = plt.figure()\n",
    "fig.set_figheight(6.0)\n",
    "fig.set_figwidth(15.0)\n",
    "\n",
    "ax1 = fig.add_subplot(121);\n",
    "plt.hist(xpred_err)\n",
    "plt.xlabel(\"error in x-prediction (mm)\")\n",
    "print(np.where(abs(xpred_err) > 0.001))\n",
    "\n",
    "ax2 = fig.add_subplot(122)\n",
    "plt.hist(ypred_err)\n",
    "plt.xlabel(\"error in y-prediction (mm)\")\n"
   ]
  },
  {
   "cell_type": "markdown",
   "metadata": {},
   "source": [
    "#### For debugging the 3x3 sum operations"
   ]
  },
  {
   "cell_type": "code",
   "execution_count": null,
   "metadata": {},
   "outputs": [],
   "source": [
    "aa = np.ones([6,6])\n",
    "aa[0,2] = 4\n",
    "aa[1,2] = 2\n",
    "aa[3,2] = 8\n",
    "aa[4,2] = -2\n",
    "aa[3,1] = 5\n",
    "aa[5,0] = 10\n",
    "aa"
   ]
  },
  {
   "cell_type": "code",
   "execution_count": null,
   "metadata": {},
   "outputs": [],
   "source": [
    "max_init   = np.unravel_index(aa.argmax(),aa.shape)\n",
    "nbsum_init = tr.sum_neighbors(aa,max_init,remove=True)\n",
    "print(\"Max at\",max_init,\"and neighbor sum\",nbsum_init)\n",
    "aa"
   ]
  },
  {
   "cell_type": "markdown",
   "metadata": {},
   "source": [
    "### Evaluate a dataset for noise"
   ]
  },
  {
   "cell_type": "code",
   "execution_count": null,
   "metadata": {},
   "outputs": [],
   "source": [
    "Nevts = 1000\n",
    "noise_arr = np.arange(0.,100.,50.)\n",
    "r_mean, r_sigma = [], []\n",
    "for noise in noise_arr:\n",
    "    print(\"Running for noise\",noise)\n",
    "    dset = tr.EMDataset(\"dataframes/EM_4um_back_10M_300keV.pkl\",0,noise)\n",
    "    \n",
    "    shifts_x, shifts_y, shifts_r = [], [], []\n",
    "    for evt in range(Nevts):\n",
    "        evt_arr,evt_lbl = dset[evt]\n",
    "        xs,ys = evt_lbl[0],evt_lbl[1]\n",
    "        shifts_x.append(xs)\n",
    "        shifts_y.append(ys)\n",
    "        shifts_r.append((xs**2 + ys**2)**0.5)\n",
    "    \n",
    "    shifts_r = np.array(shifts_r)\n",
    "    r_mean.append(np.mean(shifts_r))\n",
    "    r_sigma.append(np.std(shifts_r))"
   ]
  },
  {
   "cell_type": "code",
   "execution_count": null,
   "metadata": {},
   "outputs": [],
   "source": [
    "plt.errorbar(noise_arr,r_mean,yerr=np.array(r_sigma)/Nevts**0.5)\n",
    "plt.xlabel(\"$\\sigma$ noise (electrons)\")\n",
    "plt.ylabel(\"r-error (mm)\")"
   ]
  },
  {
   "cell_type": "markdown",
   "metadata": {},
   "source": [
    "### Read a dataset and examine individual events"
   ]
  },
  {
   "cell_type": "code",
   "execution_count": null,
   "metadata": {},
   "outputs": [],
   "source": [
    "dset = tr.EMDataset(\"dataframes/EM_4um_back_10M_300keV.pkl\",noise_mean=0,noise_sigma=20,add_shift=10,add_noise=True)"
   ]
  },
  {
   "cell_type": "code",
   "execution_count": null,
   "metadata": {},
   "outputs": [],
   "source": [
    "evt_plt = 8\n",
    "evt_item = dset[evt_plt]\n",
    "evt_arr = evt_item[0]\n",
    "evt_lbl = evt_item[1]\n",
    "evt_err_ind = evt_item[2]\n",
    "plt.imshow(evt_arr)\n",
    "plt.colorbar()\n",
    "plt.title(\"Event {}; shift {}; index {}\".format(evt_plt,evt_lbl,evt_err_ind))"
   ]
  },
  {
   "cell_type": "code",
   "execution_count": null,
   "metadata": {},
   "outputs": [],
   "source": [
    "shifts_x, shifts_y, shifts_r = [], [], []\n",
    "for evt in range(1000):\n",
    "    evt_arr,evt_lbl,evt_err_ind = dset[evt]\n",
    "    xs,ys = evt_lbl[0],evt_lbl[1]\n",
    "    shifts_x.append(xs)\n",
    "    shifts_y.append(ys)\n",
    "    shifts_r.append((xs**2 + ys**2)**0.5)"
   ]
  },
  {
   "cell_type": "code",
   "execution_count": null,
   "metadata": {},
   "outputs": [],
   "source": [
    "plt.hist(shifts_r,bins=100)\n",
    "plt.yscale('log')"
   ]
  },
  {
   "cell_type": "code",
   "execution_count": null,
   "metadata": {},
   "outputs": [],
   "source": []
  },
  {
   "cell_type": "markdown",
   "metadata": {},
   "source": [
    "### Plot events directly from dataframe"
   ]
  },
  {
   "cell_type": "code",
   "execution_count": null,
   "metadata": {},
   "outputs": [],
   "source": [
    "df = pd.read_pickle(\"dataframes/EM_4um_back_10M_300keV.pkl\")"
   ]
  },
  {
   "cell_type": "code",
   "execution_count": null,
   "metadata": {},
   "outputs": [],
   "source": [
    "evt_plt = 97\n",
    "evt_arr = np.zeros([101,101])\n",
    "df_evt = df[df.event == evt_plt]\n",
    "for row,col,counts in zip(df_evt['row'].values,df_evt['col'].values,df_evt['counts'].values):\n",
    "    evt_arr[row,col] += counts\n",
    "plt.imshow(np.log(0.1 + evt_arr))\n",
    "plt.colorbar()\n",
    "plt.title(\"Event {}; max at {}\".format(evt_plt,np.unravel_index(evt_arr.argmax(),evt_arr.shape)))"
   ]
  },
  {
   "cell_type": "code",
   "execution_count": null,
   "metadata": {},
   "outputs": [],
   "source": []
  }
 ],
 "metadata": {
  "kernelspec": {
   "display_name": "Python 3 (ipykernel)",
   "language": "python",
   "name": "python3"
  },
  "language_info": {
   "codemirror_mode": {
    "name": "ipython",
    "version": 3
   },
   "file_extension": ".py",
   "mimetype": "text/x-python",
   "name": "python",
   "nbconvert_exporter": "python",
   "pygments_lexer": "ipython3",
   "version": "3.7.6"
  }
 },
 "nbformat": 4,
 "nbformat_minor": 4
}
