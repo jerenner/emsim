{
 "cells": [
  {
   "cell_type": "code",
   "execution_count": null,
   "metadata": {},
   "outputs": [],
   "source": [
    "import pandas as pd\n",
    "import numpy as np\n",
    "import matplotlib.pyplot as plt\n",
    "\n",
    "import training as tr\n",
    "import emnet\n",
    "\n",
    "import torch\n",
    "import torch.nn as nn\n",
    "import torch.nn.functional as F\n",
    "import torch.optim as optim\n",
    "from torch.utils.data import Dataset\n",
    "from torch.utils.data import DataLoader\n",
    "from torch.autograd import Variable"
   ]
  },
  {
   "cell_type": "markdown",
   "metadata": {},
   "source": [
    "## Write events to a DataFrame"
   ]
  },
  {
   "cell_type": "code",
   "execution_count": null,
   "metadata": {},
   "outputs": [],
   "source": [
    "datfile = \"/home/jrenner/local/data/electronsim/pixelated_tracks_thinned_4um_back_10M_300keV.txt\""
   ]
  },
  {
   "cell_type": "code",
   "execution_count": null,
   "metadata": {},
   "outputs": [],
   "source": [
    "def read_electron_data(fname, nevts=1000):\n",
    "    \n",
    "    evt = -1\n",
    "    xinc = 0.0\n",
    "    yinc = 0.0\n",
    "    front = True\n",
    "    energy = 0.0\n",
    "    \n",
    "    # Open the file and read the specified number of events.\n",
    "    l_evt, l_xinc, l_yinc, l_front, l_energy, l_row, l_col, l_counts = [], [], [], [], [], [], [], []\n",
    "    evts_read = 0\n",
    "    with open(fname) as f:\n",
    "        \n",
    "        # Iterate through all lines.\n",
    "        for line in f:\n",
    "            \n",
    "            # Stop reading if we've read the specified number of events.\n",
    "            if(evts_read > nevts):\n",
    "                break\n",
    "            \n",
    "            # Get each number in the line, separated by spaces.\n",
    "            vals = line.rstrip().split(\" \")\n",
    "            \n",
    "            # Start a new event.\n",
    "            if(vals[0] == \"EV\"):\n",
    "                evt    = vals[1]\n",
    "                xinc   = vals[2]\n",
    "                yinc   = vals[3]\n",
    "                front  = (vals[4] == 1)\n",
    "                energy = vals[5]\n",
    "                evts_read += 1\n",
    "                \n",
    "            # Add a row for the current event.\n",
    "            else:\n",
    "                l_evt.append(int(evt))\n",
    "                l_xinc.append(float(xinc))\n",
    "                l_yinc.append(float(yinc))\n",
    "                l_front.append(front)\n",
    "                l_energy.append(float(energy))\n",
    "                l_row.append(int(vals[0]))\n",
    "                l_col.append(int(vals[1]))\n",
    "                l_counts.append(int(vals[2]))\n",
    "    \n",
    "    # Construct the DataFrame.\n",
    "    evt_dict = {'event': l_evt, 'xinc': l_xinc, 'yinc': l_yinc, 'front': l_front, \n",
    "                'energy': l_energy, 'row': l_row, 'col': l_col, 'counts': l_counts}\n",
    "    df = pd.DataFrame.from_dict(evt_dict)\n",
    "    \n",
    "    return df"
   ]
  },
  {
   "cell_type": "code",
   "execution_count": null,
   "metadata": {},
   "outputs": [],
   "source": [
    "df = read_electron_data(datfile,nevts=10000)"
   ]
  },
  {
   "cell_type": "code",
   "execution_count": null,
   "metadata": {},
   "outputs": [],
   "source": [
    "df.xinc.values[0]"
   ]
  },
  {
   "cell_type": "code",
   "execution_count": null,
   "metadata": {},
   "outputs": [],
   "source": [
    "df.to_pickle(\"EM_4um_back_10M_300keV.pkl\")"
   ]
  },
  {
   "cell_type": "markdown",
   "metadata": {},
   "source": [
    "### Examine individual events"
   ]
  },
  {
   "cell_type": "code",
   "execution_count": null,
   "metadata": {},
   "outputs": [],
   "source": [
    "evt_plt = 97\n",
    "evt_arr = np.zeros([101,101])\n",
    "df_evt = df[df.event == evt_plt]\n",
    "for row,col,counts in zip(df_evt['row'].values,df_evt['col'].values,df_evt['counts'].values):\n",
    "    evt_arr[row,col] += counts\n",
    "plt.imshow(np.log(0.1 + evt_arr))\n",
    "plt.colorbar()\n",
    "plt.title(\"Event {}; max at {}\".format(evt_plt,np.unravel_index(evt_arr.argmax(),evt_arr.shape)))"
   ]
  },
  {
   "cell_type": "code",
   "execution_count": null,
   "metadata": {},
   "outputs": [],
   "source": [
    "max(df.xinc.values)"
   ]
  },
  {
   "cell_type": "code",
   "execution_count": null,
   "metadata": {},
   "outputs": [],
   "source": []
  },
  {
   "cell_type": "markdown",
   "metadata": {},
   "source": [
    "## Evaluate a dataset"
   ]
  },
  {
   "cell_type": "code",
   "execution_count": null,
   "metadata": {},
   "outputs": [],
   "source": [
    "Nevts = 1000"
   ]
  },
  {
   "cell_type": "code",
   "execution_count": null,
   "metadata": {},
   "outputs": [],
   "source": [
    "noise_arr = np.arange(0.,100.,50.)\n",
    "r_mean, r_sigma = [], []\n",
    "for noise in noise_arr:\n",
    "    print(\"Running for noise\",noise)\n",
    "    dset = tr.EMDataset(\"EM_4um_back_10M_300keV.pkl\",0,noise)\n",
    "    \n",
    "    shifts_x, shifts_y, shifts_r = [], [], []\n",
    "    for evt in range(Nevts):\n",
    "        evt_arr,evt_lbl = dset[evt]\n",
    "        xs,ys = evt_lbl[0],evt_lbl[1]\n",
    "        shifts_x.append(xs)\n",
    "        shifts_y.append(ys)\n",
    "        shifts_r.append((xs**2 + ys**2)**0.5)\n",
    "    \n",
    "    shifts_r = np.array(shifts_r)\n",
    "    r_mean.append(np.mean(shifts_r))\n",
    "    r_sigma.append(np.std(shifts_r))"
   ]
  },
  {
   "cell_type": "code",
   "execution_count": null,
   "metadata": {},
   "outputs": [],
   "source": [
    "plt.errorbar(noise_arr,r_mean,yerr=np.array(r_sigma)/Nevts**0.5)\n",
    "plt.xlabel(\"$\\sigma$ noise (electrons)\")\n",
    "plt.ylabel(\"r-error (mm)\")"
   ]
  },
  {
   "cell_type": "markdown",
   "metadata": {},
   "source": [
    "### Read a dataset"
   ]
  },
  {
   "cell_type": "code",
   "execution_count": null,
   "metadata": {},
   "outputs": [],
   "source": [
    "dset = tr.EMDataset(\"EM_4um_back_10M_300keV.pkl\",0,70)"
   ]
  },
  {
   "cell_type": "code",
   "execution_count": null,
   "metadata": {},
   "outputs": [],
   "source": [
    "evt_plt = 5\n",
    "evt_item = dset[evt_plt]\n",
    "evt_arr = evt_item[0]\n",
    "evt_lbl = evt_item[1]\n",
    "evt_err_ind = evt_item[2]\n",
    "plt.imshow(evt_arr)\n",
    "plt.colorbar()\n",
    "plt.title(\"Event {}; shift {}; index {}\".format(evt_plt,evt_lbl,evt_err_ind))"
   ]
  },
  {
   "cell_type": "code",
   "execution_count": null,
   "metadata": {},
   "outputs": [],
   "source": [
    "shifts_x, shifts_y, shifts_r = [], [], []\n",
    "for evt in range(1000):\n",
    "    evt_arr,evt_lbl = dset[evt]\n",
    "    xs,ys = evt_lbl[0],evt_lbl[1]\n",
    "    shifts_x.append(xs)\n",
    "    shifts_y.append(ys)\n",
    "    shifts_r.append((xs**2 + ys**2)**0.5)"
   ]
  },
  {
   "cell_type": "code",
   "execution_count": null,
   "metadata": {},
   "outputs": [],
   "source": [
    "plt.hist(shifts_r,bins=100)\n",
    "plt.yscale('log')"
   ]
  },
  {
   "cell_type": "markdown",
   "metadata": {},
   "source": [
    "#### For debugging the 3x3 sum operations"
   ]
  },
  {
   "cell_type": "code",
   "execution_count": null,
   "metadata": {},
   "outputs": [],
   "source": [
    "aa = np.ones([6,6])\n",
    "aa[0,2] = 4\n",
    "aa[1,2] = 2\n",
    "aa[3,2] = 8\n",
    "aa[4,2] = -2\n",
    "aa[3,1] = 5\n",
    "aa[5,0] = 10\n",
    "aa"
   ]
  },
  {
   "cell_type": "code",
   "execution_count": null,
   "metadata": {},
   "outputs": [],
   "source": [
    "max_init   = np.unravel_index(aa.argmax(),aa.shape)\n",
    "nbsum_init = tr.sum_neighbors(aa,max_init,remove=True)\n",
    "print(\"Max at\",max_init,\"and neighbor sum\",nbsum_init)\n",
    "aa"
   ]
  },
  {
   "cell_type": "markdown",
   "metadata": {},
   "source": [
    "## Train a network"
   ]
  },
  {
   "cell_type": "code",
   "execution_count": 1,
   "metadata": {},
   "outputs": [],
   "source": [
    "import pandas as pd\n",
    "import numpy as np\n",
    "import matplotlib.pyplot as plt\n",
    "\n",
    "import training as tr\n",
    "import emnet\n",
    "\n",
    "import torch\n",
    "import torch.nn as nn\n",
    "import torch.nn.functional as F\n",
    "import torch.optim as optim\n",
    "from torch.utils.data import Dataset\n",
    "from torch.utils.data import DataLoader\n",
    "from torch.autograd import Variable"
   ]
  },
  {
   "cell_type": "code",
   "execution_count": 2,
   "metadata": {},
   "outputs": [
    {
     "name": "stdout",
     "output_type": "stream",
     "text": [
      "Created dataset for events from 0 to 9999\n",
      "Created dataset for events from 0 to -2000\n",
      "Created dataset for events from -2000 to 2000\n"
     ]
    }
   ],
   "source": [
    "modeldir = '/home/jrenner/local/jerenner/emsim/models'\n",
    "lrate       = 1e-4   # Learning rate to use in the training.\n",
    "load_model  = True   # Load an existing model\n",
    "tr.augment  = False  # Enable/disable data augmentation\n",
    "epoch_start = 0      # Number of initial epoch\n",
    "epoch_end   = 2000    # Number of final epoch\n",
    "model_load_checkpoint = \"{}/model_init_651.pt\".format(modeldir)\n",
    "\n",
    "# Create the datasets.\n",
    "dataset_all   = tr.EMDataset(\"EM_4um_back_10M_300keV.pkl\")\n",
    "dataset_train = tr.EMDataset(\"EM_4um_back_10M_300keV.pkl\",nstart=0,nend=-2000)\n",
    "dataset_val   = tr.EMDataset(\"EM_4um_back_10M_300keV.pkl\",nstart=-2000)\n",
    "\n",
    "# Create the loaders.\n",
    "train_loader = DataLoader(dataset_train, batch_size=200, shuffle=True, collate_fn=tr.my_collate, num_workers=4)\n",
    "val_loader = DataLoader(dataset_val, batch_size=500, shuffle=True, collate_fn=tr.my_collate, num_workers=4)\n",
    "#val_loader = DataLoader(dataset_val, batch_size=15, shuffle=True, collate_fn=tr.my_collate, num_workers=4)\n",
    "#test_loader = DataLoader(dataset_test, batch_size=15, shuffle=True, collate_fn=tr.my_collate, num_workers=4)\n",
    "\n",
    "# Define the model.\n",
    "#model = emnet.FCNet()\n",
    "model = emnet.basicCNN()\n",
    "model.cuda()\n",
    "\n",
    "optimizer = optim.Adam(model.parameters(), lr=lrate, betas=(0.9, 0.999), eps=1e-6, weight_decay=0.01, amsgrad=True)\n",
    "\n",
    "# Load the model from file.\n",
    "if(load_model):\n",
    "    model.load_state_dict(torch.load(model_load_checkpoint))\n",
    "    #model.load_state_dict(torch.load(model_load_checkpoint,map_location=torch.device('cpu')))\n",
    "    model.eval()"
   ]
  },
  {
   "cell_type": "code",
   "execution_count": null,
   "metadata": {},
   "outputs": [],
   "source": [
    "# Run the training.\n",
    "#print(\"Training with weights\",sort_clsweights)\n",
    "for epoch in range(epoch_start,epoch_end):\n",
    "    print(\"Epoch: \",epoch)\n",
    "    model.train()\n",
    "    tr.train(model, epoch, train_loader, optimizer)\n",
    "    with torch.no_grad():\n",
    "        model.eval()\n",
    "        tr.val(model, epoch, val_loader)\n",
    "#     if(epoch % 50 == 0):\n",
    "#         torch.save(model.state_dict(), \"{}/model_init_{}.pt\".format(modeldir,epoch))"
   ]
  },
  {
   "cell_type": "code",
   "execution_count": null,
   "metadata": {},
   "outputs": [],
   "source": [
    "torch.save(model.state_dict(), \"{}/model_init_{}.pt\".format(modeldir,epoch))"
   ]
  },
  {
   "cell_type": "markdown",
   "metadata": {},
   "source": [
    "### Test the net"
   ]
  },
  {
   "cell_type": "code",
   "execution_count": 3,
   "metadata": {},
   "outputs": [
    {
     "name": "stdout",
     "output_type": "stream",
     "text": [
      "Created dataset for events from 0 to 9999\n"
     ]
    },
    {
     "data": {
      "text/plain": [
       "basicCNN(\n",
       "  (conv1): Conv2d(1, 16, kernel_size=(4, 4), stride=(1, 1), padding=(1, 1))\n",
       "  (bn1): BatchNorm2d(16, eps=1e-05, momentum=0.1, affine=True, track_running_stats=True)\n",
       "  (conv2): Conv2d(16, 32, kernel_size=(2, 2), stride=(1, 1), padding=(1, 1))\n",
       "  (bn2): BatchNorm2d(32, eps=1e-05, momentum=0.1, affine=True, track_running_stats=True)\n",
       "  (conv3): Conv2d(32, 64, kernel_size=(2, 2), stride=(1, 1), padding=(1, 1))\n",
       "  (bn3): BatchNorm2d(64, eps=1e-05, momentum=0.1, affine=True, track_running_stats=True)\n",
       "  (pool2): MaxPool2d(kernel_size=2, stride=2, padding=0, dilation=1, ceil_mode=False)\n",
       "  (pool4): MaxPool2d(kernel_size=4, stride=4, padding=0, dilation=1, ceil_mode=False)\n",
       "  (fc): Linear(in_features=256, out_features=100, bias=True)\n",
       "  (drop1): Dropout(p=0.5, inplace=False)\n",
       ")"
      ]
     },
     "execution_count": 3,
     "metadata": {},
     "output_type": "execute_result"
    }
   ],
   "source": [
    "dset = tr.EMDataset(\"EM_4um_back_10M_300keV.pkl\",0,0)\n",
    "softmax = nn.Softmax(dim=1)\n",
    "model.eval()"
   ]
  },
  {
   "cell_type": "code",
   "execution_count": 60,
   "metadata": {},
   "outputs": [
    {
     "data": {
      "text/plain": [
       "Text(0.5, 1.0, 'Incidence point within central pixel')"
      ]
     },
     "execution_count": 60,
     "metadata": {},
     "output_type": "execute_result"
    },
    {
     "data": {
      "image/png": "[encoded data removed]",
      "text/plain": [
       "<Figure size 1080x432 with 4 Axes>"
      ]
     },
     "metadata": {
      "needs_background": "light"
     },
     "output_type": "display_data"
    }
   ],
   "source": [
    "evt_plt = 9801\n",
    "evt_item = dset[evt_plt]\n",
    "evt_arr = evt_item[0]\n",
    "evt_lbl = evt_item[1]\n",
    "evt_err_ind = evt_item[2]\n",
    "\n",
    "xbin = int(tr.ERR_SIZE*(evt_lbl[0] - tr.ERR_RANGE_MIN)/(tr.ERR_RANGE_MAX - tr.ERR_RANGE_MIN))\n",
    "xbin = max(xbin,0)\n",
    "xbin = min(xbin,tr.ERR_SIZE-1)\n",
    "\n",
    "ybin = int(tr.ERR_SIZE*(evt_lbl[1] - tr.ERR_RANGE_MIN)/(tr.ERR_RANGE_MAX - tr.ERR_RANGE_MIN))\n",
    "ybin = max(ybin,0)\n",
    "ybin = min(ybin,tr.ERR_SIZE-1)\n",
    "\n",
    "# Send through the model.\n",
    "data = torch.tensor(evt_arr).float().unsqueeze(0).unsqueeze(1).cuda()\n",
    "target = torch.tensor(np.array(evt_err_ind)).long().cuda()\n",
    "\n",
    "output_score = model(data)\n",
    "prob = np.array(softmax(output_score).cpu().detach().numpy()).reshape([10,10])\n",
    "\n",
    "fig = plt.figure()\n",
    "fig.set_figheight(6.0)\n",
    "fig.set_figwidth(15.0)\n",
    "\n",
    "ax1 = fig.add_subplot(121);\n",
    "plt.imshow(evt_arr)\n",
    "plt.colorbar()\n",
    "plt.title(\"Event {}; shift ({:.3e},{:.3e}); index {}\".format(evt_plt,evt_lbl[0],evt_lbl[1],evt_err_ind))\n",
    "\n",
    "ax2 = fig.add_subplot(122)\n",
    "ax2.plot([xbin],[ybin],color='red',marker='o',markersize=10)\n",
    "plt.imshow(prob)\n",
    "plt.colorbar()\n",
    "plt.title(\"Incidence point within central pixel\")"
   ]
  },
  {
   "cell_type": "code",
   "execution_count": 59,
   "metadata": {},
   "outputs": [
    {
     "name": "stdout",
     "output_type": "stream",
     "text": [
      "[Evt 9800 ]: Index is 91 with predicted 81 ; x = -0.00165571 (predicted -0.002), y = 0.00203062 (predicted 0.00205)\n",
      "[Evt 9801 ]: Index is 32 with predicted 42 ; x = -0.00143403 (predicted -0.0015), y = -0.00052754 (predicted -0.0009)\n",
      "[Evt 9802 ]: Index is 66 with predicted 65 ; x = 0.000658369 (predicted 0.0005), y = 0.000784166 (predicted 0.0007999999999999999)\n",
      "[Evt 9803 ]: Index is 71 with predicted 71 ; x = -0.00157637 (predicted -0.002), y = 0.00137981 (predicted 0.0010499999999999997)\n",
      "[Evt 9804 ]: Index is 59 with predicted 49 ; x = 0.00221525 (predicted 0.0019999999999999996), y = 0.000151773 (predicted 0.0004500000000000003)\n",
      "[Evt 9805 ]: Index is 18 with predicted 8 ; x = 0.00193948 (predicted 0.0015), y = -0.0018208 (predicted -0.0015999999999999999)\n",
      "[Evt 9806 ]: Index is 2 with predicted 2 ; x = -0.00124189 (predicted -0.0015), y = -0.0021476 (predicted -0.0024000000000000002)\n",
      "[Evt 9807 ]: Index is 17 with predicted 17 ; x = 0.00128005 (predicted 0.0010000000000000005), y = -0.00184404 (predicted -0.00165)\n",
      "[Evt 9808 ]: Index is 95 with predicted 95 ; x = 0.000360991 (predicted 0.0), y = 0.00221762 (predicted 0.00225)\n",
      "[Evt 9809 ]: Index is 39 with predicted 38 ; x = 0.00221925 (predicted 0.0019999999999999996), y = -0.000852995 (predicted -0.0005500000000000001)\n",
      "[Evt 9810 ]: Index is 50 with predicted 40 ; x = -0.00222661 (predicted -0.0025), y = 0.000188983 (predicted 0.0)\n",
      "[Evt 9811 ]: Index is 59 with predicted 59 ; x = 0.00228979 (predicted 0.0019999999999999996), y = 0.000294478 (predicted 0.0004500000000000003)\n",
      "[Evt 9812 ]: Index is 85 with predicted 97 ; x = 0.00049739 (predicted 0.0), y = 0.00160433 (predicted 0.0017500000000000003)\n",
      "[Evt 9813 ]: Index is 57 with predicted 58 ; x = 0.00118203 (predicted 0.0010000000000000005), y = 6.14326e-05 (predicted 0.00035000000000000005)\n",
      "[Evt 9814 ]: Index is 27 with predicted 36 ; x = 0.00143277 (predicted 0.0010000000000000005), y = -0.00110534 (predicted -0.00115)\n",
      "[Evt 9815 ]: Index is 72 with predicted 72 ; x = -0.00106219 (predicted -0.0015), y = 0.0014405 (predicted 0.0011000000000000003)\n",
      "[Evt 9816 ]: Index is 24 with predicted 23 ; x = -0.00049341 (predicted -0.0005), y = -0.00137292 (predicted -0.0013)\n",
      "[Evt 9817 ]: Index is 80 with predicted 60 ; x = -0.00207809 (predicted -0.0025), y = 0.00196736 (predicted 0.0015)\n",
      "[Evt 9818 ]: Index is 83 with predicted 84 ; x = -0.000685283 (predicted -0.001), y = 0.00184412 (predicted 0.00165)\n",
      "[Evt 9819 ]: Index is 92 with predicted 93 ; x = -0.00107695 (predicted -0.0015), y = 0.00212917 (predicted 0.0021)\n",
      "[Evt 9820 ]: Index is 90 with predicted 80 ; x = -0.00215592 (predicted -0.0025), y = 0.00221339 (predicted 0.0019999999999999996)\n",
      "[Evt 9821 ]: Index is 79 with predicted 89 ; x = 0.0021029 (predicted 0.0019999999999999996), y = 0.0014197 (predicted 0.0014500000000000003)\n",
      "[Evt 9822 ]: Index is 76 with predicted 66 ; x = 0.000657001 (predicted 0.0005), y = 0.00117601 (predicted 0.0013)\n",
      "[Evt 9823 ]: Index is 50 with predicted 40 ; x = -0.00249098 (predicted -0.0025), y = 9.60591e-05 (predicted 0.0)\n",
      "[Evt 9824 ]: Index is 1 with predicted 0 ; x = -0.00182121 (predicted -0.002), y = -0.00212466 (predicted -0.00245)\n",
      "[Evt 9825 ]: Index is 26 with predicted 27 ; x = 0.000826269 (predicted 0.0005), y = -0.00112337 (predicted -0.0012)\n",
      "[Evt 9826 ]: Index is 65 with predicted 65 ; x = 0.00033575 (predicted 0.0), y = 0.000676928 (predicted 0.0007500000000000002)\n",
      "[Evt 9827 ]: Index is 24 with predicted 34 ; x = -0.00029727 (predicted -0.0005), y = -0.00135624 (predicted -0.0013)\n",
      "[Evt 9828 ]: Index is 14 with predicted 4 ; x = -0.000280808 (predicted -0.0005), y = -0.00195999 (predicted -0.0018000000000000002)\n",
      "[Evt 9829 ]: Index is 83 with predicted 72 ; x = -0.000908631 (predicted -0.001), y = 0.00162429 (predicted 0.00165)\n",
      "[Evt 9830 ]: Index is 53 with predicted 63 ; x = -0.000698553 (predicted -0.001), y = 0.000289272 (predicted 0.00014999999999999996)\n",
      "[Evt 9831 ]: Index is 17 with predicted 8 ; x = 0.00142019 (predicted 0.0010000000000000005), y = -0.00168329 (predicted -0.00165)\n",
      "[Evt 9832 ]: Index is 27 with predicted 37 ; x = 0.00106897 (predicted 0.0010000000000000005), y = -0.00111515 (predicted -0.00115)\n",
      "[Evt 9833 ]: Index is 35 with predicted 25 ; x = 0.000473816 (predicted 0.0), y = -0.000839578 (predicted -0.0007499999999999998)\n",
      "[Evt 9834 ]: Index is 34 with predicted 34 ; x = -0.00037987 (predicted -0.0005), y = -0.000587474 (predicted -0.0007999999999999999)\n",
      "[Evt 9835 ]: Index is 28 with predicted 28 ; x = 0.00185131 (predicted 0.0015), y = -0.00114962 (predicted -0.0011000000000000003)\n",
      "[Evt 9836 ]: Index is 20 with predicted 40 ; x = -0.00207502 (predicted -0.0025), y = -0.00111392 (predicted -0.0015)\n",
      "[Evt 9837 ]: Index is 45 with predicted 44 ; x = 6.1314e-05 (predicted 0.0), y = -0.000463034 (predicted -0.0002500000000000002)\n",
      "[Evt 9838 ]: Index is 89 with predicted 79 ; x = 0.00225055 (predicted 0.0019999999999999996), y = 0.00154978 (predicted 0.0019500000000000008)\n",
      "[Evt 9839 ]: Index is 64 with predicted 64 ; x = -0.000203779 (predicted -0.0005), y = 0.000887761 (predicted 0.0007000000000000001)\n",
      "[Evt 9840 ]: Index is 17 with predicted 7 ; x = 0.00106485 (predicted 0.0010000000000000005), y = -0.00193803 (predicted -0.00165)\n",
      "[Evt 9841 ]: Index is 76 with predicted 86 ; x = 0.000614499 (predicted 0.0005), y = 0.00119279 (predicted 0.0013)\n",
      "[Evt 9842 ]: Index is 85 with predicted 84 ; x = 0.00015479 (predicted 0.0), y = 0.00171487 (predicted 0.0017500000000000003)\n",
      "[Evt 9843 ]: Index is 52 with predicted 52 ; x = -0.00147803 (predicted -0.0015), y = 0.000250158 (predicted 0.00010000000000000026)\n",
      "[Evt 9844 ]: Index is 42 with predicted 53 ; x = -0.001342 (predicted -0.0015), y = -0.000125699 (predicted -0.00039999999999999975)\n",
      "[Evt 9845 ]: Index is 61 with predicted 71 ; x = -0.00182677 (predicted -0.002), y = 0.000969904 (predicted 0.0005499999999999997)\n",
      "[Evt 9846 ]: Index is 35 with predicted 25 ; x = 0.000283532 (predicted 0.0), y = -0.000802545 (predicted -0.0007499999999999998)\n",
      "[Evt 9847 ]: Index is 57 with predicted 58 ; x = 0.00127295 (predicted 0.0010000000000000005), y = 6.94232e-05 (predicted 0.00035000000000000005)\n",
      "[Evt 9848 ]: Index is 70 with predicted 60 ; x = -0.00237358 (predicted -0.0025), y = 0.00102812 (predicted 0.0010000000000000005)\n",
      "[Evt 9849 ]: Index is 91 with predicted 91 ; x = -0.00174475 (predicted -0.002), y = 0.00247742 (predicted 0.00205)\n",
      "[Evt 9850 ]: Index is 69 with predicted 69 ; x = 0.00226068 (predicted 0.0019999999999999996), y = 0.000724308 (predicted 0.0009500000000000003)\n",
      "[Evt 9851 ]: Index is 68 with predicted 68 ; x = 0.00161005 (predicted 0.0015), y = 0.000776024 (predicted 0.0009000000000000002)\n",
      "[Evt 9852 ]: Index is 37 with predicted 47 ; x = 0.00148376 (predicted 0.0010000000000000005), y = -0.000731137 (predicted -0.0006499999999999998)\n",
      "[Evt 9853 ]: Index is 78 with predicted 79 ; x = 0.00196989 (predicted 0.0015), y = 0.00117567 (predicted 0.0013999999999999998)\n",
      "[Evt 9854 ]: Index is 78 with predicted 77 ; x = 0.00155259 (predicted 0.0015), y = 0.00144781 (predicted 0.0013999999999999998)\n",
      "[Evt 9855 ]: Index is 89 with predicted 88 ; x = 0.00201436 (predicted 0.0019999999999999996), y = 0.00169997 (predicted 0.0019500000000000008)\n",
      "[Evt 9856 ]: Index is 16 with predicted 7 ; x = 0.000774606 (predicted 0.0005), y = -0.00175338 (predicted -0.0017000000000000001)\n",
      "[Evt 9857 ]: Index is 28 with predicted 39 ; x = 0.0018696 (predicted 0.0015), y = -0.00117057 (predicted -0.0011000000000000003)\n",
      "[Evt 9858 ]: Index is 36 with predicted 37 ; x = 0.000824153 (predicted 0.0005), y = -0.000626313 (predicted -0.0006999999999999999)\n",
      "[Evt 9859 ]: Index is 22 with predicted 12 ; x = -0.0013624 (predicted -0.0015), y = -0.00115042 (predicted -0.0014)\n",
      "[Evt 9860 ]: Index is 17 with predicted 17 ; x = 0.00101426 (predicted 0.0010000000000000005), y = -0.00195361 (predicted -0.00165)\n",
      "[Evt 9861 ]: Index is 0 with predicted 1 ; x = -0.0020067 (predicted -0.0025), y = -0.00247933 (predicted -0.0025)\n",
      "[Evt 9862 ]: Index is 0 with predicted 0 ; x = -0.00214663 (predicted -0.0025), y = -0.00214719 (predicted -0.0025)\n",
      "[Evt 9863 ]: Index is 71 with predicted 61 ; x = -0.00164533 (predicted -0.002), y = 0.00120722 (predicted 0.0010499999999999997)\n",
      "[Evt 9864 ]: Index is 19 with predicted 19 ; x = 0.00247649 (predicted 0.0019999999999999996), y = -0.00169941 (predicted -0.0015500000000000002)\n",
      "[Evt 9865 ]: Index is 98 with predicted 98 ; x = 0.00188024 (predicted 0.0015), y = 0.00201953 (predicted 0.0024)\n",
      "[Evt 9866 ]: Index is 9 with predicted 8 ; x = 0.00245582 (predicted 0.0019999999999999996), y = -0.00245511 (predicted -0.00205)\n",
      "[Evt 9867 ]: Index is 62 with predicted 71 ; x = -0.00130759 (predicted -0.0015), y = 0.000685603 (predicted 0.0006000000000000003)\n",
      "[Evt 9868 ]: Index is 30 with predicted 20 ; x = -0.00228411 (predicted -0.0025), y = -0.000773417 (predicted -0.001)\n",
      "[Evt 9869 ]: Index is 6 with predicted 6 ; x = 0.000830474 (predicted 0.0005), y = -0.00236894 (predicted -0.0022)\n",
      "[Evt 9870 ]: Index is 25 with predicted 15 ; x = 0.00048723 (predicted 0.0), y = -0.00110038 (predicted -0.00125)\n",
      "[Evt 9871 ]: Index is 72 with predicted 71 ; x = -0.00149353 (predicted -0.0015), y = 0.00110125 (predicted 0.0011000000000000003)\n",
      "[Evt 9872 ]: Index is 11 with predicted 10 ; x = -0.00186961 (predicted -0.002), y = -0.00174795 (predicted -0.00195)\n",
      "[Evt 9873 ]: Index is 19 with predicted 8 ; x = 0.00243082 (predicted 0.0019999999999999996), y = -0.00194045 (predicted -0.0015500000000000002)\n",
      "[Evt 9874 ]: Index is 3 with predicted 4 ; x = -0.000657431 (predicted -0.001), y = -0.00221967 (predicted -0.00235)\n",
      "[Evt 9875 ]: Index is 1 with predicted 2 ; x = -0.00198357 (predicted -0.002), y = -0.00249985 (predicted -0.00245)\n",
      "[Evt 9876 ]: Index is 47 with predicted 37 ; x = 0.00134 (predicted 0.0010000000000000005), y = -0.00036553 (predicted -0.00014999999999999996)\n",
      "[Evt 9877 ]: Index is 43 with predicted 53 ; x = -0.000576948 (predicted -0.001), y = -7.79629e-05 (predicted -0.00035000000000000005)\n",
      "[Evt 9878 ]: Index is 27 with predicted 27 ; x = 0.00110575 (predicted 0.0010000000000000005), y = -0.00135695 (predicted -0.00115)\n",
      "[Evt 9879 ]: Index is 12 with predicted 12 ; x = -0.00142902 (predicted -0.0015), y = -0.00174069 (predicted -0.0019)\n",
      "[Evt 9880 ]: Index is 4 with predicted 15 ; x = -0.000229114 (predicted -0.0005), y = -0.00219639 (predicted -0.0023)\n",
      "[Evt 9881 ]: Index is 27 with predicted 26 ; x = 0.00115828 (predicted 0.0010000000000000005), y = -0.00108127 (predicted -0.00115)\n",
      "[Evt 9882 ]: Index is 35 with predicted 24 ; x = 0.000228396 (predicted 0.0), y = -0.000814035 (predicted -0.0007499999999999998)\n",
      "[Evt 9883 ]: Index is 35 with predicted 45 ; x = 5.71337e-05 (predicted 0.0), y = -0.000615712 (predicted -0.0007499999999999998)\n",
      "[Evt 9884 ]: Index is 35 with predicted 26 ; x = 0.000201261 (predicted 0.0), y = -0.000608604 (predicted -0.0007499999999999998)\n",
      "[Evt 9885 ]: Index is 29 with predicted 39 ; x = 0.00231063 (predicted 0.0019999999999999996), y = -0.00108695 (predicted -0.0010500000000000002)\n",
      "[Evt 9886 ]: Index is 51 with predicted 51 ; x = -0.00191574 (predicted -0.002), y = 0.000275894 (predicted 4.99999999999997e-05)\n",
      "[Evt 9887 ]: Index is 73 with predicted 73 ; x = -0.000531887 (predicted -0.001), y = 0.0014349 (predicted 0.0011499999999999995)\n",
      "[Evt 9888 ]: Index is 20 with predicted 10 ; x = -0.00223795 (predicted -0.0025), y = -0.00126924 (predicted -0.0015)\n",
      "[Evt 9889 ]: Index is 1 with predicted 1 ; x = -0.00192625 (predicted -0.002), y = -0.00208296 (predicted -0.00245)\n",
      "[Evt 9890 ]: Index is 40 with predicted 40 ; x = -0.00240603 (predicted -0.0025), y = -7.74247e-05 (predicted -0.0005)\n",
      "[Evt 9891 ]: Index is 63 with predicted 64 ; x = -0.000943514 (predicted -0.001), y = 0.000890346 (predicted 0.00065)\n",
      "[Evt 9892 ]: Index is 24 with predicted 34 ; x = -9.83613e-05 (predicted -0.0005), y = -0.00102759 (predicted -0.0013)\n",
      "[Evt 9893 ]: Index is 14 with predicted 14 ; x = -0.000187044 (predicted -0.0005), y = -0.00189393 (predicted -0.0018000000000000002)\n",
      "[Evt 9894 ]: Index is 37 with predicted 27 ; x = 0.00111358 (predicted 0.0010000000000000005), y = -0.000920652 (predicted -0.0006499999999999998)\n",
      "[Evt 9895 ]: Index is 33 with predicted 43 ; x = -0.000710038 (predicted -0.001), y = -0.000793524 (predicted -0.0008500000000000001)\n",
      "[Evt 9896 ]: Index is 40 with predicted 60 ; x = -0.00244197 (predicted -0.0025), y = -0.000215663 (predicted -0.0005)\n",
      "[Evt 9897 ]: Index is 21 with predicted 21 ; x = -0.00167689 (predicted -0.002), y = -0.00147255 (predicted -0.00145)\n",
      "[Evt 9898 ]: Index is 52 with predicted 42 ; x = -0.00105383 (predicted -0.0015), y = 0.000139623 (predicted 0.00010000000000000026)\n",
      "[Evt 9899 ]: Index is 27 with predicted 17 ; x = 0.00112671 (predicted 0.0010000000000000005), y = -0.00139227 (predicted -0.00115)\n"
     ]
    }
   ],
   "source": [
    "# Look at many events:\n",
    "xpred_err, ypred_err = [], []\n",
    "for evt_plt in np.arange(9800,9900):\n",
    "    \n",
    "    evt_item = dset[evt_plt]\n",
    "    evt_arr = evt_item[0]\n",
    "    evt_lbl = evt_item[1]\n",
    "    evt_err_ind = evt_item[2]\n",
    "\n",
    "    # Send through the model.\n",
    "    data = torch.tensor(evt_arr).float().unsqueeze(0).unsqueeze(1).cuda()\n",
    "    target = torch.tensor(np.array(evt_err_ind)).long().cuda()\n",
    "\n",
    "    output_score = model(data)\n",
    "    prob = np.argmax(np.array(softmax(output_score).cpu().detach().numpy()).reshape([10,10]))\n",
    "    xpred = (evt_err_ind % tr.ERR_SIZE)*0.005/tr.ERR_SIZE + tr.ERR_RANGE_MIN\n",
    "    ypred = (evt_err_ind / tr.ERR_SIZE)*0.005/tr.ERR_SIZE + tr.ERR_RANGE_MIN\n",
    "    print(\"[Evt\",evt_plt,\"]: Index is\",evt_err_ind,\"with predicted\",prob,\"; x = {} (predicted {}), y = {} (predicted {})\".format(evt_lbl[0],xpred,evt_lbl[1],ypred))\n",
    "    \n",
    "    xpred_err.append(xpred-evt_lbl[0])\n",
    "    ypred_err.append(ypred-evt_lbl[1])\n",
    "xpred_err = np.array(xpred_err)\n",
    "ypred_err = np.array(ypred_err)"
   ]
  },
  {
   "cell_type": "code",
   "execution_count": 57,
   "metadata": {},
   "outputs": [
    {
     "data": {
      "text/plain": [
       "(array([  5,   7,  17,  18,  19,  32,  33,  37,  42,  51,  54,  56,  59,\n",
       "         63,  65,  70,  73,  90,  92, 102, 108, 117, 119, 124, 130, 133,\n",
       "        141, 143, 144, 145, 147, 152, 156, 159, 160, 163, 166, 167, 175,\n",
       "        186, 187, 196, 211, 212, 214, 222, 224, 229, 241, 243, 262, 263,\n",
       "        265, 271, 277, 283, 288, 291, 295, 299, 304, 309, 325, 326, 335,\n",
       "        342, 345, 352, 354, 356, 370, 373, 376, 379, 382, 383, 385, 387,\n",
       "        394, 398, 399, 403, 405, 406, 409, 413, 414, 418, 419, 429, 440,\n",
       "        453, 460, 472, 486, 490, 496, 497]),)"
      ]
     },
     "execution_count": 57,
     "metadata": {},
     "output_type": "execute_result"
    },
    {
     "data": {
      "image/png": "[encoded data removed]",
      "text/plain": [
       "<Figure size 432x288 with 1 Axes>"
      ]
     },
     "metadata": {
      "needs_background": "light"
     },
     "output_type": "display_data"
    }
   ],
   "source": [
    "plt.hist(ypred_err)\n",
    "np.where(abs(xpred_err) > 0.0004)"
   ]
  },
  {
   "cell_type": "code",
   "execution_count": null,
   "metadata": {},
   "outputs": [],
   "source": []
  }
 ],
 "metadata": {
  "kernelspec": {
   "display_name": "Python 3",
   "language": "python",
   "name": "python3"
  },
  "language_info": {
   "codemirror_mode": {
    "name": "ipython",
    "version": 3
   },
   "file_extension": ".py",
   "mimetype": "text/x-python",
   "name": "python",
   "nbconvert_exporter": "python",
   "pygments_lexer": "ipython3",
   "version": "3.7.6"
  }
 },
 "nbformat": 4,
 "nbformat_minor": 4
}
