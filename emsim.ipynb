{
 "cells": [
  {
   "cell_type": "code",
   "execution_count": 1,
   "metadata": {},
   "outputs": [],
   "source": [
    "import pandas as pd\n",
    "import numpy as np\n",
    "import matplotlib.pyplot as plt\n",
    "\n",
    "import training as tr\n",
    "import emnet\n",
    "\n",
    "import torch\n",
    "import torch.nn as nn\n",
    "import torch.nn.functional as F\n",
    "import torch.optim as optim\n",
    "from torch.utils.data import Dataset\n",
    "from torch.utils.data import DataLoader\n",
    "from torch.autograd import Variable"
   ]
  },
  {
   "cell_type": "markdown",
   "metadata": {},
   "source": [
    "## Write events to a DataFrame"
   ]
  },
  {
   "cell_type": "code",
   "execution_count": null,
   "metadata": {},
   "outputs": [],
   "source": [
    "datfile = \"/home/jrenner/local/data/electronsim/pixelated_tracks_thinned_4um_back_10M_300keV.txt\""
   ]
  },
  {
   "cell_type": "code",
   "execution_count": 7,
   "metadata": {},
   "outputs": [],
   "source": [
    "rng_pixels = np.arange(-(tr.EVT_SIZE-1)/2,(tr.EVT_SIZE-1)/2+1)\n",
    "coords_pixels_all = np.meshgrid(rng_pixels,rng_pixels)\n",
    "\n",
    "def read_electron_data(fname, nevts=1000):\n",
    "    \n",
    "    evt = -1\n",
    "    xinc = 0.0\n",
    "    yinc = 0.0\n",
    "    front = True\n",
    "    energy = 0.0\n",
    "    \n",
    "    # Open the file and read the specified number of events.\n",
    "    l_evt, l_xinc, l_yinc, l_front, l_energy, l_row, l_col, l_counts = [], [], [], [], [], [], [], []\n",
    "    evts_read = 0\n",
    "    with open(fname) as f:\n",
    "        \n",
    "        # Iterate through all lines.\n",
    "        for line in f:\n",
    "            \n",
    "            # Stop reading if we've read the specified number of events.\n",
    "            if(evts_read > nevts):\n",
    "                break\n",
    "            \n",
    "            # Get each number in the line, separated by spaces.\n",
    "            vals = line.rstrip().split(\" \")\n",
    "            \n",
    "            # Start a new event.\n",
    "            if(vals[0] == \"EV\"):\n",
    "                evt    = vals[1]\n",
    "                xinc   = vals[2]\n",
    "                yinc   = vals[3]\n",
    "                front  = (vals[4] == 1)\n",
    "                energy = vals[5]\n",
    "                evts_read += 1\n",
    "                \n",
    "            # Add a row for the current event.\n",
    "            else:\n",
    "                l_evt.append(int(evt))\n",
    "                l_xinc.append(float(xinc))\n",
    "                l_yinc.append(float(yinc))\n",
    "                l_front.append(front)\n",
    "                l_energy.append(float(energy))\n",
    "                l_row.append(int(vals[0]))\n",
    "                l_col.append(int(vals[1]))\n",
    "                l_counts.append(int(vals[2]))\n",
    "    \n",
    "    # Construct the DataFrame.\n",
    "    evt_dict = {'event': l_evt, 'xinc': l_xinc, 'yinc': l_yinc, 'front': l_front, \n",
    "                'energy': l_energy, 'row': l_row, 'col': l_col, 'counts': l_counts}\n",
    "    df = pd.DataFrame.from_dict(evt_dict)\n",
    "    \n",
    "    return df\n",
    "\n",
    "def compute_moments(evt_arr,args,order,pixel_size,coords_pixels):\n",
    "    \"\"\"\n",
    "    Compute the x- and y-moments of the specified order.\n",
    "    \n",
    "    evt_arr: the original (unmodified) event array\n",
    "    args:    the arguments into evt_arr of the pixels to be included\n",
    "    order:   the order of the moment\n",
    "    \"\"\"\n",
    "    \n",
    "    xsum = 0  # x-moment sum\n",
    "    ysum = 0  # y-moment sum\n",
    "    tsum = 0  # total sum\n",
    "    for arg in args:\n",
    "\n",
    "        px = evt_arr[(arg[0],arg[1])]\n",
    "        x  = coords_pixels[0][(arg[0],arg[1])]*pixel_size\n",
    "        y  = coords_pixels[1][(arg[0],arg[1])]*pixel_size\n",
    "        \n",
    "        xsum += px*x**order\n",
    "        ysum += px*y**order\n",
    "        tsum += px\n",
    "    \n",
    "    if(tsum > 0):\n",
    "        \n",
    "        mx = xsum/tsum\n",
    "        my = ysum/tsum\n",
    "\n",
    "        return mx,my\n",
    "    \n",
    "    else:\n",
    "        return 0.,0.\n",
    "\n",
    "def compute_key_quantities(evt_arr,pixel_size,threshold=40):\n",
    "    \"\"\"\n",
    "    Get key quantities from the event array.\n",
    "    \"\"\"\n",
    "    \n",
    "    # Get the pixels above threshold and their corresponding arguments in the array.\n",
    "    pixels_above_threshold = evt_arr[evt_arr > threshold]\n",
    "    args_above_threshold = np.argwhere(evt_arr > threshold)\n",
    "    arg_max = np.unravel_index(np.argmax(evt_arr),evt_arr.shape)\n",
    "    xmax = coords_pixels_all[0][arg_max]*pixel_size\n",
    "    ymax = coords_pixels_all[1][arg_max]*pixel_size\n",
    "    #print(\"xmax\",xmax,\"ymax\",ymax)\n",
    "    \n",
    "    # number of pixels above threshold\n",
    "    n_above_threshold = len(args_above_threshold)\n",
    "\n",
    "    # sum of pixels above threshold\n",
    "    sum_above_threshold = np.sum(pixels_above_threshold)\n",
    "\n",
    "    # maximum distance between pixels above threshold\n",
    "    max_dist = 0\n",
    "    for arg0 in args_above_threshold:\n",
    "        for arg1 in args_above_threshold:\n",
    "            dist = ((arg0[0] - arg1[0])**2 + (arg0[1] - arg1[1])**2)**0.5\n",
    "            if(dist > max_dist):\n",
    "                max_dist = dist\n",
    "    max_dist_above_threshold = max_dist*pixel_size\n",
    "\n",
    "    # moments for pixels above threshold\n",
    "    m1x, m1y = compute_moments(evt_arr,args_above_threshold,1,pixel_size,coords_pixels_all)\n",
    "    m2x, m2y = compute_moments(evt_arr,args_above_threshold,2,pixel_size,coords_pixels_all)\n",
    "\n",
    "    # moments for 3x3 region about maximum\n",
    "    max_3x3 = evt_arr[max(arg_max[0]-1,0):min(arg_max[0]+2,evt_arr.shape[0]),max(arg_max[1]-1,0):min(arg_max[1]+2,evt_arr.shape[1])]\n",
    "    coords_pixels_3x3 = [coords_pixels_all[0][max(arg_max[0]-1,0):min(arg_max[0]+2,evt_arr.shape[0]),max(arg_max[1]-1,0):min(arg_max[1]+2,evt_arr.shape[1])],\n",
    "                         coords_pixels_all[1][max(arg_max[0]-1,0):min(arg_max[0]+2,evt_arr.shape[0]),max(arg_max[1]-1,0):min(arg_max[1]+2,evt_arr.shape[1])]]\n",
    "    args_3x3 = np.argwhere(max_3x3 > 0)\n",
    "    args_3x3_above_threshold = np.argwhere(max_3x3 > threshold)\n",
    "    xc_3x3, yc_3x3 = compute_moments(max_3x3,args_3x3,1,pixel_size,coords_pixels_3x3)\n",
    "    xc_3x3_above_threshold, yc_3x3_above_threshold = compute_moments(max_3x3,args_3x3_above_threshold,1,pixel_size,coords_pixels_3x3)\n",
    "    \n",
    "    xc_3x3 = xc_3x3\n",
    "    yc_3x3 = yc_3x3\n",
    "    xc_3x3_above_threshold = xc_3x3_above_threshold\n",
    "    yc_3x3_above_threshold = yc_3x3_above_threshold\n",
    "\n",
    "    # moments for 5x5 region about maximum\n",
    "    max_5x5 = evt_arr[max(arg_max[0]-2,0):min(arg_max[0]+3,evt_arr.shape[0]),max(arg_max[1]-2,0):min(arg_max[1]+3,evt_arr.shape[1])]\n",
    "    coords_pixels_5x5 = [coords_pixels_all[0][max(arg_max[0]-2,0):min(arg_max[0]+3,evt_arr.shape[0]),max(arg_max[1]-2,0):min(arg_max[1]+3,evt_arr.shape[1])],\n",
    "                         coords_pixels_all[1][max(arg_max[0]-2,0):min(arg_max[0]+3,evt_arr.shape[0]),max(arg_max[1]-2,0):min(arg_max[1]+3,evt_arr.shape[1])]]\n",
    "    args_5x5 = np.argwhere(max_5x5 > 0)\n",
    "    args_5x5_above_threshold = np.argwhere(max_5x5 > threshold)\n",
    "    xc_5x5, yc_5x5 = compute_moments(max_5x5,args_5x5,1,pixel_size,coords_pixels_5x5)\n",
    "    xc_5x5_above_threshold, yc_5x5_above_threshold = compute_moments(max_5x5,args_5x5_above_threshold,1,pixel_size,coords_pixels_5x5)\n",
    "    \n",
    "    xc_5x5 = xc_5x5\n",
    "    yc_5x5 = yc_5x5\n",
    "    xc_5x5_above_threshold = xc_5x5_above_threshold\n",
    "    yc_5x5_above_threshold = yc_5x5_above_threshold\n",
    "    \n",
    "    return [n_above_threshold, sum_above_threshold, max_dist_above_threshold,\n",
    "            xmax, ymax,\n",
    "            m1x, m1y, m2x, m2y, \n",
    "            xc_3x3, yc_3x3, xc_3x3_above_threshold, yc_3x3_above_threshold,\n",
    "            xc_5x5, yc_5x5, xc_5x5_above_threshold, yc_5x5_above_threshold]\n",
    "\n",
    "def construct_evt_dataframe(dset,pixel_size,threshold=40):\n",
    "    \"\"\"\n",
    "    Constructs a dataframe containing key information for each of the specified events.\n",
    "    \"\"\"\n",
    "    \n",
    "    l_n_above_threshold, l_sum_above_threshold, l_max_dist_above_threshold = [], [], []\n",
    "    l_xmax, l_ymax = [], []\n",
    "    l_m1_x_above_threshold, l_m1_y_above_threshold, l_m2_x_above_threshold, l_m2_y_above_threshold = [], [], [], []\n",
    "    l_xc_3x3, l_yc_3x3, l_xc_3x3_above_threshold, l_yc_3x3_above_threshold = [], [], [], []\n",
    "    l_xc_5x5, l_yc_5x5, l_xc_5x5_above_threshold, l_yc_5x5_above_threshold = [], [], [], []\n",
    "    \n",
    "    for i in range(100): #len(dset)):\n",
    "        \n",
    "        # Get the event pixel information.\n",
    "        evt_item = dset[i]\n",
    "        evt_arr = evt_item[0]\n",
    "        \n",
    "        [n_above_threshold, sum_above_threshold, max_dist_above_threshold, \n",
    "            xmax, ymax,\n",
    "            m1x_above_threshold, m1y_above_threshold, m2x_above_threshold, m2y_above_threshold, \n",
    "            xc_3x3, yc_3x3, xc_3x3_above_threshold, yc_3x3_above_threshold,\n",
    "            xc_5x5, yc_5x5, xc_5x5_above_threshold, yc_5x5_above_threshold] = compute_key_quantities(evt_arr,pixel_size)\n",
    "        \n",
    "        l_n_above_threshold.append(n_above_threshold)\n",
    "        l_sum_above_threshold.append(sum_above_threshold)\n",
    "        l_max_dist_above_threshold.append(max_dist_above_threshold)\n",
    "        l_xmax.append(xmax)\n",
    "        l_ymax.append(ymax)\n",
    "        l_m1_x_above_threshold.append(m1x_above_threshold)\n",
    "        l_m1_y_above_threshold.append(m1y_above_threshold)\n",
    "        l_m2_x_above_threshold.append(m2x_above_threshold)\n",
    "        l_m2_y_above_threshold.append(m2y_above_threshold)\n",
    "        l_xc_3x3.append(xc_3x3)\n",
    "        l_yc_3x3.append(yc_3x3)\n",
    "        l_xc_3x3_above_threshold.append(xc_3x3_above_threshold)\n",
    "        l_yc_3x3_above_threshold.append(yc_3x3_above_threshold)\n",
    "        l_xc_5x5.append(xc_5x5)\n",
    "        l_yc_5x5.append(yc_5x5)\n",
    "        l_xc_5x5_above_threshold.append(xc_5x5_above_threshold)\n",
    "        l_yc_5x5_above_threshold.append(yc_5x5_above_threshold)\n",
    "        \n",
    "    # Construct the DataFrame.\n",
    "    evt_dict = {'n_above_threshold': l_n_above_threshold, \n",
    "                'sum_above_threshold': l_sum_above_threshold, \n",
    "                'max_dist_above_threshold': l_max_dist_above_threshold,\n",
    "                'xmax': l_xmax,\n",
    "                'ymax': l_ymax,\n",
    "                'm1_x_above_threshold': l_m1_x_above_threshold, \n",
    "                'm1_y_above_threshold': l_m1_y_above_threshold,\n",
    "                'm2_x_above_threshold': l_m2_x_above_threshold,\n",
    "                'm2_y_above_threshold': l_m2_y_above_threshold,\n",
    "                'xc_3x3': l_xc_3x3,\n",
    "                'yc_3x3': l_yc_3x3,\n",
    "                'xc_3x3_above_threshold': l_xc_3x3_above_threshold,\n",
    "                'yc_3x3_above_threshold': l_yc_3x3_above_threshold,\n",
    "                'xc_5x5': l_xc_5x5,\n",
    "                'yc_5x5': l_yc_5x5,\n",
    "                'xc_5x5_above_threshold': l_xc_5x5_above_threshold,\n",
    "                'yc_5x5_above_threshold': l_yc_5x5_above_threshold}\n",
    "    df = pd.DataFrame.from_dict(evt_dict)\n",
    "    \n",
    "    return df\n"
   ]
  },
  {
   "cell_type": "code",
   "execution_count": null,
   "metadata": {},
   "outputs": [],
   "source": [
    "# Read a new dataset.\n",
    "df = read_electron_data(datfile,nevts=100005)\n",
    "df.to_pickle(\"EM_4um_back_10M_300keV.pkl\")"
   ]
  },
  {
   "cell_type": "code",
   "execution_count": null,
   "metadata": {},
   "outputs": [],
   "source": [
    "dset = tr.EMDataset(\"EM_4um_back_10M_300keV.pkl\",noise_mean=0,noise_sigma=0,add_shift=0,add_noise=True)"
   ]
  },
  {
   "cell_type": "code",
   "execution_count": null,
   "metadata": {},
   "outputs": [],
   "source": [
    "df_evt = construct_evt_dataframe(dset,tr.PIXEL_SIZE)"
   ]
  },
  {
   "cell_type": "code",
   "execution_count": null,
   "metadata": {},
   "outputs": [],
   "source": [
    "df_evt"
   ]
  },
  {
   "cell_type": "markdown",
   "metadata": {},
   "source": [
    "### Examine individual events"
   ]
  },
  {
   "cell_type": "code",
   "execution_count": null,
   "metadata": {},
   "outputs": [],
   "source": [
    "evt_plt = 97\n",
    "evt_arr = np.zeros([101,101])\n",
    "df_evt = df[df.event == evt_plt]\n",
    "for row,col,counts in zip(df_evt['row'].values,df_evt['col'].values,df_evt['counts'].values):\n",
    "    evt_arr[row,col] += counts\n",
    "plt.imshow(np.log(0.1 + evt_arr))\n",
    "plt.colorbar()\n",
    "plt.title(\"Event {}; max at {}\".format(evt_plt,np.unravel_index(evt_arr.argmax(),evt_arr.shape)))"
   ]
  },
  {
   "cell_type": "code",
   "execution_count": null,
   "metadata": {},
   "outputs": [],
   "source": [
    "max(df.xinc.values)"
   ]
  },
  {
   "cell_type": "code",
   "execution_count": null,
   "metadata": {},
   "outputs": [],
   "source": []
  },
  {
   "cell_type": "markdown",
   "metadata": {},
   "source": [
    "## Evaluate a dataset"
   ]
  },
  {
   "cell_type": "code",
   "execution_count": null,
   "metadata": {},
   "outputs": [],
   "source": [
    "Nevts = 1000"
   ]
  },
  {
   "cell_type": "code",
   "execution_count": null,
   "metadata": {},
   "outputs": [],
   "source": [
    "noise_arr = np.arange(0.,100.,50.)\n",
    "r_mean, r_sigma = [], []\n",
    "for noise in noise_arr:\n",
    "    print(\"Running for noise\",noise)\n",
    "    dset = tr.EMDataset(\"EM_4um_back_10M_300keV.pkl\",0,noise)\n",
    "    \n",
    "    shifts_x, shifts_y, shifts_r = [], [], []\n",
    "    for evt in range(Nevts):\n",
    "        evt_arr,evt_lbl = dset[evt]\n",
    "        xs,ys = evt_lbl[0],evt_lbl[1]\n",
    "        shifts_x.append(xs)\n",
    "        shifts_y.append(ys)\n",
    "        shifts_r.append((xs**2 + ys**2)**0.5)\n",
    "    \n",
    "    shifts_r = np.array(shifts_r)\n",
    "    r_mean.append(np.mean(shifts_r))\n",
    "    r_sigma.append(np.std(shifts_r))"
   ]
  },
  {
   "cell_type": "code",
   "execution_count": null,
   "metadata": {},
   "outputs": [],
   "source": [
    "plt.errorbar(noise_arr,r_mean,yerr=np.array(r_sigma)/Nevts**0.5)\n",
    "plt.xlabel(\"$\\sigma$ noise (electrons)\")\n",
    "plt.ylabel(\"r-error (mm)\")"
   ]
  },
  {
   "cell_type": "markdown",
   "metadata": {},
   "source": [
    "### Read a dataset"
   ]
  },
  {
   "cell_type": "code",
   "execution_count": null,
   "metadata": {},
   "outputs": [],
   "source": [
    "dset = tr.EMDataset(\"EM_4um_back_10M_300keV.pkl\",noise_mean=0,noise_sigma=20,add_shift=10,add_noise=True)"
   ]
  },
  {
   "cell_type": "code",
   "execution_count": null,
   "metadata": {},
   "outputs": [],
   "source": [
    "evt_plt = 8\n",
    "evt_item = dset[evt_plt]\n",
    "evt_arr = evt_item[0]\n",
    "evt_lbl = evt_item[1]\n",
    "evt_err_ind = evt_item[2]\n",
    "plt.imshow(evt_arr)\n",
    "plt.colorbar()\n",
    "plt.title(\"Event {}; shift {}; index {}\".format(evt_plt,evt_lbl,evt_err_ind))"
   ]
  },
  {
   "cell_type": "code",
   "execution_count": null,
   "metadata": {},
   "outputs": [],
   "source": [
    "shifts_x, shifts_y, shifts_r = [], [], []\n",
    "for evt in range(1000):\n",
    "    evt_arr,evt_lbl = dset[evt]\n",
    "    xs,ys = evt_lbl[0],evt_lbl[1]\n",
    "    shifts_x.append(xs)\n",
    "    shifts_y.append(ys)\n",
    "    shifts_r.append((xs**2 + ys**2)**0.5)"
   ]
  },
  {
   "cell_type": "code",
   "execution_count": null,
   "metadata": {},
   "outputs": [],
   "source": [
    "plt.hist(shifts_r,bins=100)\n",
    "plt.yscale('log')"
   ]
  },
  {
   "cell_type": "markdown",
   "metadata": {},
   "source": [
    "#### For debugging the 3x3 sum operations"
   ]
  },
  {
   "cell_type": "code",
   "execution_count": null,
   "metadata": {},
   "outputs": [],
   "source": [
    "aa = np.ones([6,6])\n",
    "aa[0,2] = 4\n",
    "aa[1,2] = 2\n",
    "aa[3,2] = 8\n",
    "aa[4,2] = -2\n",
    "aa[3,1] = 5\n",
    "aa[5,0] = 10\n",
    "aa"
   ]
  },
  {
   "cell_type": "code",
   "execution_count": null,
   "metadata": {},
   "outputs": [],
   "source": [
    "max_init   = np.unravel_index(aa.argmax(),aa.shape)\n",
    "nbsum_init = tr.sum_neighbors(aa,max_init,remove=True)\n",
    "print(\"Max at\",max_init,\"and neighbor sum\",nbsum_init)\n",
    "aa"
   ]
  },
  {
   "cell_type": "markdown",
   "metadata": {},
   "source": [
    "## Train a network"
   ]
  },
  {
   "cell_type": "code",
   "execution_count": 2,
   "metadata": {},
   "outputs": [],
   "source": [
    "import pandas as pd\n",
    "import numpy as np\n",
    "import matplotlib.pyplot as plt\n",
    "\n",
    "import training as tr\n",
    "import emnet\n",
    "\n",
    "import torch\n",
    "import torch.nn as nn\n",
    "import torch.nn.functional as F\n",
    "import torch.optim as optim\n",
    "from torch.utils.data import Dataset\n",
    "from torch.utils.data import DataLoader\n",
    "from torch.autograd import Variable\n",
    "from scipy.optimize import curve_fit"
   ]
  },
  {
   "cell_type": "code",
   "execution_count": 8,
   "metadata": {},
   "outputs": [
    {
     "name": "stdout",
     "output_type": "stream",
     "text": [
      "Created dataset for events from 0 to 100000\n",
      "Created dataset for events from 0 to -20000\n",
      "Created dataset for events from -20000 to 20000\n"
     ]
    }
   ],
   "source": [
    "modeldir = '/home/jrenner/local/jerenner/emsim/models'\n",
    "lrate       = 1e-5   # Learning rate to use in the training.\n",
    "load_model  = True   # Load an existing model\n",
    "tr.augment  = False  # Enable/disable data augmentation\n",
    "epoch_start = 366      # Number of initial epoch\n",
    "epoch_end   = 2000    # Number of final epoch\n",
    "model_load_checkpoint = \"{}/model_126cells_noise_100k_366.pt\".format(modeldir)\n",
    "\n",
    "# Create the datasets.\n",
    "dataset_all   = tr.EMDataset(\"EM_4um_back_10M_300keV.pkl\",noise_mean=0,noise_sigma=20,add_noise=True,add_shift=10)\n",
    "dataset_train = tr.EMDataset(\"EM_4um_back_10M_300keV.pkl\",noise_mean=0,noise_sigma=20,add_noise=True,nstart=0,nend=-20000,add_shift=10)\n",
    "dataset_val   = tr.EMDataset(\"EM_4um_back_10M_300keV.pkl\",noise_mean=0,noise_sigma=20,add_noise=True,nstart=-20000,add_shift=10)\n",
    "\n",
    "# Create the loaders.\n",
    "train_loader = DataLoader(dataset_train, batch_size=1000, shuffle=True, collate_fn=tr.my_collate, num_workers=8)\n",
    "val_loader = DataLoader(dataset_val, batch_size=1000, shuffle=True, collate_fn=tr.my_collate, num_workers=8)\n",
    "#val_loader = DataLoader(dataset_val, batch_size=15, shuffle=True, collate_fn=tr.my_collate, num_workers=4)\n",
    "#test_loader = DataLoader(dataset_test, batch_size=15, shuffle=True, collate_fn=tr.my_collate, num_workers=4)\n",
    "\n",
    "# Define the model.\n",
    "#model = emnet.FCNet()\n",
    "model = emnet.basicCNN()\n",
    "model.cuda()\n",
    "\n",
    "optimizer = optim.Adam(model.parameters(), lr=lrate, betas=(0.9, 0.999), eps=1e-6, weight_decay=0.01, amsgrad=True)\n",
    "\n",
    "# Load the model from file.\n",
    "if(load_model):\n",
    "    model.load_state_dict(torch.load(model_load_checkpoint))\n",
    "    #model.load_state_dict(torch.load(model_load_checkpoint,map_location=torch.device('cpu')))\n",
    "    model.eval()"
   ]
  },
  {
   "cell_type": "code",
   "execution_count": null,
   "metadata": {},
   "outputs": [],
   "source": [
    "# Run the training.\n",
    "#print(\"Training with weights\",sort_clsweights)\n",
    "for epoch in range(epoch_start,epoch_end):\n",
    "    print(\"Epoch: \",epoch)\n",
    "    model.train()\n",
    "    tr.train(model, epoch, train_loader, optimizer)\n",
    "    with torch.no_grad():\n",
    "        model.eval()\n",
    "        tr.val(model, epoch, val_loader)\n",
    "#     if(epoch % 50 == 0):\n",
    "#         torch.save(model.state_dict(), \"{}/model_init_{}.pt\".format(modeldir,epoch))"
   ]
  },
  {
   "cell_type": "code",
   "execution_count": null,
   "metadata": {},
   "outputs": [],
   "source": [
    "torch.save(model.state_dict(), \"{}/model_126cells_noise_100k_{}.pt\".format(modeldir,epoch))"
   ]
  },
  {
   "cell_type": "markdown",
   "metadata": {},
   "source": [
    "### Training and validation loss"
   ]
  },
  {
   "cell_type": "code",
   "execution_count": 3,
   "metadata": {},
   "outputs": [
    {
     "data": {
      "text/plain": [
       "Text(0.5, 1.0, 'Accuracy')"
      ]
     },
     "execution_count": 3,
     "metadata": {},
     "output_type": "execute_result"
    },
    {
     "data": {
      "image/png": "[encoded data removed]",
      "text/plain": [
       "<Figure size 864x288 with 2 Axes>"
      ]
     },
     "metadata": {
      "needs_background": "light"
     },
     "output_type": "display_data"
    }
   ],
   "source": [
    "# Plot the training and validation losses.\n",
    "tloss = np.loadtxt(\"train.txt\")\n",
    "vloss = np.loadtxt(\"val.txt\")\n",
    "\n",
    "fig = plt.figure()\n",
    "fig.set_figheight(4.0)\n",
    "fig.set_figwidth(12.0)\n",
    "\n",
    "ax1 = fig.add_subplot(121);\n",
    "plt.plot(tloss[:,0],tloss[:,1],label='training')\n",
    "plt.plot(vloss[:,0],vloss[:,1],label='validation')\n",
    "plt.legend()\n",
    "plt.title(\"Loss\")\n",
    "plt.yscale('log')\n",
    "\n",
    "ax2 = fig.add_subplot(122);\n",
    "plt.plot(tloss[:,0],tloss[:,2],label='training')\n",
    "plt.plot(vloss[:,0],vloss[:,2],label='validation')\n",
    "plt.legend()\n",
    "plt.title(\"Accuracy\")"
   ]
  },
  {
   "cell_type": "markdown",
   "metadata": {},
   "source": [
    "### Evaluate all events from a dataset"
   ]
  },
  {
   "cell_type": "code",
   "execution_count": 9,
   "metadata": {},
   "outputs": [
    {
     "name": "stdout",
     "output_type": "stream",
     "text": [
      "Created dataset for events from 0 to 100000\n"
     ]
    },
    {
     "data": {
      "text/plain": [
       "basicCNN(\n",
       "  (conv1): Conv2d(1, 16, kernel_size=(4, 4), stride=(1, 1), padding=(1, 1))\n",
       "  (bn1): BatchNorm2d(16, eps=1e-05, momentum=0.1, affine=True, track_running_stats=True)\n",
       "  (conv2): Conv2d(16, 32, kernel_size=(3, 3), stride=(1, 1), padding=(1, 1))\n",
       "  (bn2): BatchNorm2d(32, eps=1e-05, momentum=0.1, affine=True, track_running_stats=True)\n",
       "  (conv3): Conv2d(32, 64, kernel_size=(2, 2), stride=(1, 1))\n",
       "  (bn3): BatchNorm2d(64, eps=1e-05, momentum=0.1, affine=True, track_running_stats=True)\n",
       "  (pool2): MaxPool2d(kernel_size=2, stride=2, padding=0, dilation=1, ceil_mode=False)\n",
       "  (pool3): MaxPool2d(kernel_size=3, stride=3, padding=0, dilation=1, ceil_mode=False)\n",
       "  (pool4): MaxPool2d(kernel_size=4, stride=4, padding=0, dilation=1, ceil_mode=False)\n",
       "  (fc): Linear(in_features=64, out_features=15876, bias=True)\n",
       "  (drop1): Dropout(p=0.5, inplace=False)\n",
       ")"
      ]
     },
     "execution_count": 9,
     "metadata": {},
     "output_type": "execute_result"
    }
   ],
   "source": [
    "dset = tr.EMDataset(\"EM_4um_back_10M_300keV.pkl\",noise_mean=0,noise_sigma=20,add_noise=True,add_shift=10)\n",
    "softmax = nn.Softmax(dim=1)\n",
    "model.eval()"
   ]
  },
  {
   "cell_type": "code",
   "execution_count": 10,
   "metadata": {},
   "outputs": [],
   "source": [
    "SHIFTED_ERR_RANGE_MIN = tr.PIXEL_ERR_RANGE_MIN - dset.add_shift*tr.PIXEL_SIZE\n",
    "SHIFTED_ERR_RANGE_MAX = tr.PIXEL_ERR_RANGE_MAX + dset.add_shift*tr.PIXEL_SIZE\n",
    "ERR_PIXEL_SIZE = tr.PIXEL_SIZE*(2*dset.add_shift+1)/tr.ERR_SIZE\n",
    "\n",
    "def mult_gaussFun_Fit(x_y,*m):\n",
    "    (x,y) = x_y\n",
    "    A,x0,y0,varx,vary,C = m\n",
    "    #print(\"x0 is {}\".format(x0))\n",
    "    X,Y = np.meshgrid(x,y)\n",
    "    Z = A*np.exp(-0.5*((X-x0)**2/(varx)+(Y-y0)**2/(vary))) + C\n",
    "    return Z.ravel()\n",
    "\n",
    "# Compute sigma_x and sigma_y of the given probability distribution\n",
    "def compute_sigmas(prob_dist):\n",
    "    \n",
    "    sum_tot = 0\n",
    "    sum_x, sum_xsq = 0, 0\n",
    "    sum_y, sum_ysq = 0, 0\n",
    "    vmax = np.max(prob_dist)\n",
    "    for i in range(prob_dist.size):\n",
    "        \n",
    "        xi = int(i % tr.ERR_SIZE)*ERR_PIXEL_SIZE + SHIFTED_ERR_RANGE_MIN + ERR_PIXEL_SIZE/2\n",
    "        yi = int(i / tr.ERR_SIZE)*ERR_PIXEL_SIZE + SHIFTED_ERR_RANGE_MIN + ERR_PIXEL_SIZE/2\n",
    "        \n",
    "        vi = prob_dist[np.unravel_index(i,prob_dist.shape)]\n",
    "        \n",
    "        # Use a threshold of some fraction of vmax.\n",
    "        if(vi > vmax / 10):\n",
    "            sum_x   += xi*vi\n",
    "            sum_xsq += xi**2*vi\n",
    "            sum_y   += yi*vi\n",
    "            sum_ysq += yi**2*vi\n",
    "            sum_tot += vi\n",
    "    \n",
    "    # Compute mean and sigma.\n",
    "    mean_x = sum_x/sum_tot\n",
    "    mean_y = sum_y/sum_tot\n",
    "    sigma_x = (sum_xsq/sum_tot - mean_x**2)**0.5\n",
    "    sigma_y = (sum_ysq/sum_tot - mean_y**2)**0.5\n",
    "    \n",
    "    return sigma_x, sigma_y\n",
    "\n",
    "def fit_sigmas(prob_dist,x,y,x0,y0,sigma_x0,sigma_y0):\n",
    "    \"\"\"\n",
    "    Fit a 2D gaussian for sigma_x and sigma_y.\n",
    "    \n",
    "    prob_dist: the probability distribution\n",
    "    x: a 1D list of the x-coordinates on the 2D grid (in mm)\n",
    "    y: a 1D list of the y-coordinates on the 2D grid (in mm)\n",
    "    x0: the initial guess for the x-value of the mean\n",
    "    y0: the initial guess for the y-value of the mean\n",
    "    sigma_x0: the initial guess for the sigma in the x-direction\n",
    "    sigma_y0: the initial guess for the sigma in the y-direction\n",
    "    \"\"\"\n",
    "    initial_guess = [np.max(prob_dist), x0, y0, sigma_x0**2, sigma_y0**2, np.max(prob_dist)/10.]\n",
    "    bounds = ([0,x0-10*ERR_PIXEL_SIZE,y0-10*ERR_PIXEL_SIZE,0,0,0],[2*np.max(prob_dist),x0+10*ERR_PIXEL_SIZE,y0+10*ERR_PIXEL_SIZE,0.05,0.05,np.max(prob_dist)])\n",
    "    \n",
    "    try:\n",
    "        popt, pcov = curve_fit(mult_gaussFun_Fit, (x, y), prob_dist.ravel(), p0=initial_guess, bounds=bounds)\n",
    "    except (RuntimeError):\n",
    "        print(\"Error in fit; using initial guess\")\n",
    "        return initial_guess,None\n",
    "    \n",
    "    return popt, pcov"
   ]
  },
  {
   "cell_type": "code",
   "execution_count": 11,
   "metadata": {},
   "outputs": [
    {
     "name": "stdout",
     "output_type": "stream",
     "text": [
      "0% done\n",
      "1% done\n",
      "2% done\n",
      "3% done\n",
      "4% done\n",
      "5% done\n",
      "6% done\n",
      "7% done\n",
      "8% done\n",
      "9% done\n",
      "10% done\n",
      "11% done\n",
      "12% done\n",
      "13% done\n",
      "14% done\n",
      "15% done\n",
      "16% done\n",
      "17% done\n",
      "18% done\n",
      "19% done\n",
      "20% done\n",
      "21% done\n",
      "22% done\n",
      "23% done\n",
      "24% done\n",
      "25% done\n",
      "26% done\n",
      "27% done\n",
      "28% done\n",
      "29% done\n",
      "30% done\n",
      "31% done\n",
      "32% done\n",
      "33% done\n",
      "34% done\n",
      "35% done\n",
      "36% done\n",
      "37% done\n",
      "38% done\n",
      "39% done\n",
      "40% done\n",
      "41% done\n",
      "42% done\n",
      "43% done\n",
      "44% done\n",
      "45% done\n",
      "46% done\n",
      "47% done\n",
      "48% done\n",
      "49% done\n",
      "50% done\n",
      "51% done\n",
      "52% done\n",
      "53% done\n",
      "54% done\n",
      "55% done\n",
      "56% done\n",
      "57% done\n",
      "58% done\n",
      "59% done\n",
      "60% done\n",
      "61% done\n",
      "62% done\n",
      "63% done\n",
      "64% done\n",
      "65% done\n",
      "66% done\n",
      "67% done\n",
      "68% done\n",
      "69% done\n",
      "70% done\n",
      "71% done\n",
      "72% done\n",
      "73% done\n",
      "74% done\n",
      "75% done\n",
      "76% done\n",
      "77% done\n",
      "78% done\n",
      "79% done\n",
      "80% done\n",
      "81% done\n",
      "82% done\n",
      "83% done\n",
      "84% done\n",
      "85% done\n",
      "86% done\n",
      "87% done\n",
      "88% done\n",
      "89% done\n",
      "90% done\n",
      "91% done\n",
      "92% done\n",
      "93% done\n",
      "94% done\n",
      "95% done\n",
      "96% done\n",
      "97% done\n",
      "98% done\n",
      "99% done\n"
     ]
    }
   ],
   "source": [
    "evts = np.arange(80000,80100)\n",
    "\n",
    "# Get the x and y coordinates of the 2D error prediction grid, in mm.\n",
    "x_errgrid = np.arange(0,tr.ERR_SIZE)*ERR_PIXEL_SIZE + SHIFTED_ERR_RANGE_MIN + ERR_PIXEL_SIZE/2\n",
    "y_errgrid = np.arange(0,tr.ERR_SIZE)*ERR_PIXEL_SIZE + SHIFTED_ERR_RANGE_MIN + ERR_PIXEL_SIZE/2\n",
    "\n",
    "l_evt_arr = []\n",
    "l_evt, l_xtrue, l_ytrue, l_xpred, l_ypred, l_sigma_x_NN, l_sigma_y_NN = [], [], [], [], [], [], []\n",
    "\n",
    "l_n_above_threshold, l_sum_above_threshold, l_max_dist_above_threshold = [], [], []\n",
    "l_xmax, l_ymax = [], []\n",
    "l_m1_x_above_threshold, l_m1_y_above_threshold, l_m2_x_above_threshold, l_m2_y_above_threshold = [], [], [], []\n",
    "l_xc_3x3, l_yc_3x3, l_xc_3x3_above_threshold, l_yc_3x3_above_threshold = [], [], [], []\n",
    "l_xc_5x5, l_yc_5x5, l_xc_5x5_above_threshold, l_yc_5x5_above_threshold = [], [], [], []\n",
    "for evt in evts:\n",
    "    \n",
    "    evt_item = dset[evt]\n",
    "    evt_arr = evt_item[0]\n",
    "    evt_lbl = evt_item[1]\n",
    "    evt_err_ind = evt_item[2]\n",
    "\n",
    "    # Send through the model.\n",
    "    data = torch.tensor(evt_arr).float().unsqueeze(0).unsqueeze(1).cuda()\n",
    "    target = torch.tensor(np.array(evt_err_ind)).long().cuda()\n",
    "    output_score = model(data)\n",
    "    \n",
    "    # Compute the predicted pixel and (x,y) values.\n",
    "    prob = np.array(softmax(output_score).cpu().detach().numpy()).reshape([tr.ERR_SIZE,tr.ERR_SIZE])\n",
    "    ipred = np.argmax(prob)\n",
    "    xpred = int(ipred % tr.ERR_SIZE)*ERR_PIXEL_SIZE + SHIFTED_ERR_RANGE_MIN + ERR_PIXEL_SIZE/2\n",
    "    ypred = int(ipred / tr.ERR_SIZE)*ERR_PIXEL_SIZE + SHIFTED_ERR_RANGE_MIN + ERR_PIXEL_SIZE/2\n",
    "    #print(\"[Evt\",evt,\"]: Index is\",evt_err_ind,\"with predicted\",ipred,\"; x = {} (predicted {}), y = {} (predicted {})\".format(evt_lbl[0],xpred,evt_lbl[1],ypred))\n",
    "    \n",
    "    # Compute the sigmas of the distribution.\n",
    "    sigma_x0_NN, sigma_y0_NN = compute_sigmas(prob)\n",
    "    popt, pcov = fit_sigmas(prob,x_errgrid,y_errgrid,xpred,ypred,sigma_x0_NN,sigma_y0_NN)\n",
    "    xpred = popt[1]\n",
    "    ypred = popt[2]\n",
    "    sigma_x_NN = popt[3]**0.5\n",
    "    sigma_y_NN = popt[4]**0.5\n",
    "    \n",
    "    [n_above_threshold, sum_above_threshold, max_dist_above_threshold, \n",
    "        xmax, ymax,\n",
    "        m1x_above_threshold, m1y_above_threshold, m2x_above_threshold, m2y_above_threshold, \n",
    "        xc_3x3, yc_3x3, xc_3x3_above_threshold, yc_3x3_above_threshold,\n",
    "        xc_5x5, yc_5x5, xc_5x5_above_threshold, yc_5x5_above_threshold] = compute_key_quantities(evt_arr,tr.PIXEL_SIZE)\n",
    "    \n",
    "    # Fill the lists.\n",
    "    l_evt.append(evt)\n",
    "    l_xtrue.append(evt_lbl[0])\n",
    "    l_ytrue.append(evt_lbl[1])\n",
    "    l_xpred.append(xpred)\n",
    "    l_ypred.append(ypred)\n",
    "    l_sigma_x_NN.append(sigma_x_NN)\n",
    "    l_sigma_y_NN.append(sigma_y_NN)\n",
    "    \n",
    "    l_evt_arr.append(evt_arr)\n",
    "    \n",
    "    l_n_above_threshold.append(n_above_threshold)\n",
    "    l_sum_above_threshold.append(sum_above_threshold)\n",
    "    l_max_dist_above_threshold.append(max_dist_above_threshold)\n",
    "    l_xmax.append(xmax)\n",
    "    l_ymax.append(ymax)\n",
    "    l_m1_x_above_threshold.append(m1x_above_threshold)\n",
    "    l_m1_y_above_threshold.append(m1y_above_threshold)\n",
    "    l_m2_x_above_threshold.append(m2x_above_threshold)\n",
    "    l_m2_y_above_threshold.append(m2y_above_threshold)\n",
    "    l_xc_3x3.append(xc_3x3)\n",
    "    l_yc_3x3.append(yc_3x3)\n",
    "    l_xc_3x3_above_threshold.append(xc_3x3_above_threshold)\n",
    "    l_yc_3x3_above_threshold.append(yc_3x3_above_threshold)\n",
    "    l_xc_5x5.append(xc_5x5)\n",
    "    l_yc_5x5.append(yc_5x5)\n",
    "    l_xc_5x5_above_threshold.append(xc_5x5_above_threshold)\n",
    "    l_yc_5x5_above_threshold.append(yc_5x5_above_threshold)\n",
    "    \n",
    "    if((evt-evts[0]) % (len(evts)/100) == 0):\n",
    "        print(\"{}% done\".format(int((evt-evts[0]) / (len(evts)/100))))\n",
    "\n",
    "# Create the dataframe.\n",
    "evt_dict = {'event': l_evt, 'x_true': l_xtrue, 'y_true': l_ytrue, 'x_pred': l_xpred, 'y_pred': l_ypred, \n",
    "            'sigma_x_NN': l_sigma_x_NN, 'sigma_y_NN': l_sigma_y_NN,\n",
    "            'n_above_threshold': l_n_above_threshold, \n",
    "            'sum_above_threshold': l_sum_above_threshold, \n",
    "            'max_dist_above_threshold': l_max_dist_above_threshold,\n",
    "            'xmax_pixel': l_xmax,\n",
    "            'ymax_pixel': l_ymax,\n",
    "            'm1_x_above_threshold': l_m1_x_above_threshold, \n",
    "            'm1_y_above_threshold': l_m1_y_above_threshold,\n",
    "            'm2_x_above_threshold': l_m2_x_above_threshold,\n",
    "            'm2_y_above_threshold': l_m2_y_above_threshold,\n",
    "            'xc_3x3': l_xc_3x3,\n",
    "            'yc_3x3': l_yc_3x3,\n",
    "            'xc_3x3_above_threshold': l_xc_3x3_above_threshold,\n",
    "            'yc_3x3_above_threshold': l_yc_3x3_above_threshold,\n",
    "            'xc_5x5': l_xc_5x5,\n",
    "            'yc_5x5': l_yc_5x5,\n",
    "            'xc_5x5_above_threshold': l_xc_5x5_above_threshold,\n",
    "            'yc_5x5_above_threshold': l_yc_5x5_above_threshold}\n",
    "df = pd.DataFrame.from_dict(evt_dict)\n",
    "\n",
    "# Create derived quantities.\n",
    "df[\"sigma_r_NN\"] = (df.sigma_x_NN**2 + df.sigma_y_NN**2)**0.5\n",
    "df[\"error_x_NN\"] = df.x_pred - df.x_true\n",
    "df[\"error_y_NN\"] = df.y_pred - df.y_true\n",
    "df[\"error_r_NN\"] = (df.error_x_NN**2 + df.error_y_NN**2)**0.5\n",
    "df[\"sigma_x_above_threshold\"] = df.m2_x_above_threshold - df.m1_x_above_threshold**2\n",
    "df[\"sigma_y_above_threshold\"] = df.m2_y_above_threshold - df.m1_y_above_threshold**2\n",
    "df[\"sigma_max_above_threshold\"] = df[[\"sigma_x_above_threshold\", \"sigma_y_above_threshold\"]].max(axis=1)\n",
    "df[\"sigma_min_above_threshold\"] = df[[\"sigma_x_above_threshold\", \"sigma_y_above_threshold\"]].min(axis=1)\n",
    "df[\"error_x_maxpt\"] = df.xmax_pixel - df.x_true\n",
    "df[\"error_y_maxpt\"] = df.ymax_pixel - df.y_true\n",
    "df[\"error_r_maxpt\"] = (df.error_x_maxpt**2 + df.error_y_maxpt**2)**0.5\n",
    "df[\"error_x_th\"] = df.m1_x_above_threshold - df.x_true\n",
    "df[\"error_y_th\"] = df.m1_y_above_threshold - df.y_true\n",
    "df[\"error_r_th\"] = (df.error_x_th**2 + df.error_y_th**2)**0.5\n",
    "df[\"error_x_3x3\"] = df.xc_3x3 - df.x_true\n",
    "df[\"error_y_3x3\"] = df.yc_3x3 - df.y_true\n",
    "df[\"error_r_3x3\"] = (df.error_x_3x3**2 + df.error_y_3x3**2)**0.5\n",
    "df[\"error_x_3x3_th\"] = df.xc_3x3_above_threshold - df.x_true\n",
    "df[\"error_y_3x3_th\"] = df.yc_3x3_above_threshold - df.y_true\n",
    "df[\"error_r_3x3_th\"] = (df.error_x_3x3_th**2 + df.error_y_3x3_th**2)**0.5\n",
    "df[\"error_x_5x5\"] = df.xc_5x5 - df.x_true\n",
    "df[\"error_y_5x5\"] = df.yc_5x5 - df.y_true\n",
    "df[\"error_r_5x5\"] = (df.error_x_5x5**2 + df.error_y_5x5**2)**0.5\n",
    "df[\"error_x_5x5_th\"] = df.xc_5x5_above_threshold - df.x_true\n",
    "df[\"error_y_5x5_th\"] = df.yc_5x5_above_threshold - df.y_true\n",
    "df[\"error_r_5x5_th\"] = (df.error_x_5x5_th**2 + df.error_y_5x5_th**2)**0.5"
   ]
  },
  {
   "cell_type": "code",
   "execution_count": null,
   "metadata": {},
   "outputs": [],
   "source": [
    "axes = pd.plotting.scatter_matrix(df[[\"error_r_NN\",\"error_r_maxpt\",\"error_r_3x3\",\"error_r_3x3_th\",\"error_r_5x5\",\"error_r_5x5_th\"]], \n",
    "                                  figsize=[15,15], alpha=0.2, hist_kwds={'bins':100})\n",
    "for i, axs in enumerate(axes):\n",
    "    for j, ax in enumerate(axs):\n",
    "        #if i == j:  # only the histograms\n",
    "        #ax.set_yscale('log')\n",
    "        ax.set_xlim(0,0.01)\n",
    "        ax.set_ylim(0,0.01)\n",
    "            \n",
    "plt.savefig(\"errors_scatter_matrix.pdf\")"
   ]
  },
  {
   "cell_type": "code",
   "execution_count": 12,
   "metadata": {},
   "outputs": [
    {
     "data": {
      "text/plain": [
       "<matplotlib.legend.Legend at 0x7f6169103e90>"
      ]
     },
     "execution_count": 12,
     "metadata": {},
     "output_type": "execute_result"
    },
    {
     "data": {
      "image/png": "[encoded data removed]",
      "text/plain": [
       "<Figure size 432x288 with 1 Axes>"
      ]
     },
     "metadata": {
      "needs_background": "light"
     },
     "output_type": "display_data"
    }
   ],
   "source": [
    "err_cut = 0.5\n",
    "sigma_cut = 0.1\n",
    "plt.hist(df[(df.error_r_NN < err_cut) & (df.sigma_r_NN < sigma_cut)].error_r_NN,alpha=0.8,bins=50,color='blue',label='NN error')\n",
    "plt.hist(df[(df.error_r_3x3 < err_cut) & (df.sigma_r_NN < sigma_cut)].error_r_3x3,alpha=0.8,bins=50,color='green',label='3x3 centroid')\n",
    "plt.xlabel(\"error $\\sqrt{\\Delta x^2 + \\Delta y^2}$ (mm)\")\n",
    "plt.ylabel(\"counts/bin\")\n",
    "plt.yscale('log')\n",
    "plt.legend()"
   ]
  },
  {
   "cell_type": "code",
   "execution_count": null,
   "metadata": {},
   "outputs": [],
   "source": [
    "df[\"error_r_diff\"] = df.error_r_NN - df.error_r_3x3"
   ]
  },
  {
   "cell_type": "code",
   "execution_count": null,
   "metadata": {},
   "outputs": [],
   "source": [
    "err_diff_cut = 0.01\n",
    "plt.hist(df[(df.error_r_diff < err_diff_cut) & (df.error_r_diff > -err_diff_cut) & (df.sigma_r_NN < 0.011)].error_r_diff,alpha=0.8,bins=50,color='blue',label='NN error')\n",
    "plt.yscale(\"log\")\n",
    "plt.xlabel(\"error difference (NN - 3x3-method)\")"
   ]
  },
  {
   "cell_type": "code",
   "execution_count": null,
   "metadata": {},
   "outputs": [],
   "source": [
    "# Save dataframe and event arrays.\n",
    "df.to_pickle(\"evts_80000_to_90000.pkl\")\n",
    "np.savez(\"evt_arrays.npz\",evt_arrays=l_evt_arr)"
   ]
  },
  {
   "cell_type": "code",
   "execution_count": null,
   "metadata": {},
   "outputs": [],
   "source": [
    "df = pd.read_pickle(\"evts_80000_to_90000.pkl\")"
   ]
  },
  {
   "cell_type": "code",
   "execution_count": null,
   "metadata": {},
   "outputs": [],
   "source": [
    "cut_sigma = 0.011\n",
    "\n",
    "fig = plt.figure()\n",
    "fig.set_figheight(6.0)\n",
    "fig.set_figwidth(15.0)\n",
    "\n",
    "ax1 = fig.add_subplot(121)\n",
    "plt.hist(df[df.sigma_r_NN < cut_sigma].error_r_NN,bins=50)\n",
    "plt.yscale(\"log\")\n",
    "plt.xlabel(\"error $\\sqrt{\\Delta x^2 + \\Delta y^2}$ (mm)\")\n",
    "plt.ylabel(\"Counts/bin\")\n",
    "\n",
    "ax2 = fig.add_subplot(122)\n",
    "plt.hist(df[df.sigma_r_NN < cut_sigma].sigma_r_NN,bins=50)\n",
    "plt.xlabel(\"$\\sqrt{\\sigma_x^2 + \\sigma_y^2}$ of probability distribution (mm)\")\n",
    "plt.ylabel(\"Counts/bin\")"
   ]
  },
  {
   "cell_type": "code",
   "execution_count": null,
   "metadata": {},
   "outputs": [],
   "source": [
    "eff, mean_err = [], []\n",
    "cut_sigmas = np.arange(0.003,0.4,0.0005)\n",
    "for cut_sigma in cut_sigmas:\n",
    "    df_cut = df[df.sigma_r_NN < cut_sigma]\n",
    "    \n",
    "    eff.append(len(df_cut)/len(df))\n",
    "    mean_err.append(df_cut.error_r_NN.mean())\n",
    "    \n",
    "    print(\"[SIGMA = {}]: EFF = {}, ERR = {}\".format(cut_sigma,len(df_cut)/len(df),df_cut.error_r_NN.mean()))\n",
    "\n",
    "eff = np.array(eff)\n",
    "mean_err = np.array(mean_err)\n",
    "plt.plot(mean_err,eff,'.-')\n",
    "plt.xlabel(\"Mean error (mm)\")\n",
    "plt.ylabel(\"Efficiency\")\n"
   ]
  },
  {
   "cell_type": "markdown",
   "metadata": {},
   "source": [
    "### Test the net"
   ]
  },
  {
   "cell_type": "code",
   "execution_count": 13,
   "metadata": {},
   "outputs": [
    {
     "name": "stdout",
     "output_type": "stream",
     "text": [
      "Created dataset for events from 0 to 100000\n"
     ]
    },
    {
     "data": {
      "text/plain": [
       "basicCNN(\n",
       "  (conv1): Conv2d(1, 16, kernel_size=(4, 4), stride=(1, 1), padding=(1, 1))\n",
       "  (bn1): BatchNorm2d(16, eps=1e-05, momentum=0.1, affine=True, track_running_stats=True)\n",
       "  (conv2): Conv2d(16, 32, kernel_size=(3, 3), stride=(1, 1), padding=(1, 1))\n",
       "  (bn2): BatchNorm2d(32, eps=1e-05, momentum=0.1, affine=True, track_running_stats=True)\n",
       "  (conv3): Conv2d(32, 64, kernel_size=(2, 2), stride=(1, 1))\n",
       "  (bn3): BatchNorm2d(64, eps=1e-05, momentum=0.1, affine=True, track_running_stats=True)\n",
       "  (pool2): MaxPool2d(kernel_size=2, stride=2, padding=0, dilation=1, ceil_mode=False)\n",
       "  (pool3): MaxPool2d(kernel_size=3, stride=3, padding=0, dilation=1, ceil_mode=False)\n",
       "  (pool4): MaxPool2d(kernel_size=4, stride=4, padding=0, dilation=1, ceil_mode=False)\n",
       "  (fc): Linear(in_features=64, out_features=15876, bias=True)\n",
       "  (drop1): Dropout(p=0.5, inplace=False)\n",
       ")"
      ]
     },
     "execution_count": 13,
     "metadata": {},
     "output_type": "execute_result"
    }
   ],
   "source": [
    "dset = tr.EMDataset(\"EM_4um_back_10M_300keV.pkl\",noise_mean=0,noise_sigma=20,add_noise=True,add_shift=10)\n",
    "softmax = nn.Softmax(dim=1)\n",
    "model.eval()"
   ]
  },
  {
   "cell_type": "code",
   "execution_count": 15,
   "metadata": {},
   "outputs": [
    {
     "name": "stdout",
     "output_type": "stream",
     "text": [
      "Computed index: 10742 for max added shift: 10\n",
      "Gaussian fit parameters A*exp(-0.5*((x-x0)**2/varX + (y-y0)**2/varY)) + C:\n",
      "A = 0.0001479951752463489\n",
      "(x0, y0) = (-0.027174348571199075,0.013049341408148589)\n",
      "(sigma_x, sigma_y) = (0.01411611885419817,0.005032849336356888)\n",
      "C = 5.721160456295586e-05\n"
     ]
    },
    {
     "data": {
      "text/plain": [
       "Text(0.5, 1.0, '2D Gaussian fit')"
      ]
     },
     "execution_count": 15,
     "metadata": {},
     "output_type": "execute_result"
    },
    {
     "data": {
      "image/png": "[encoded data removed]",
      "text/plain": [
       "<Figure size 1296x288 with 6 Axes>"
      ]
     },
     "metadata": {
      "needs_background": "light"
     },
     "output_type": "display_data"
    }
   ],
   "source": [
    "evt_plt = 81000\n",
    "evt_item = dset[evt_plt]\n",
    "evt_arr = evt_item[0]\n",
    "evt_lbl = evt_item[1]\n",
    "evt_err_ind = evt_item[2]\n",
    "\n",
    "SHIFTED_ERR_RANGE_MIN = tr.PIXEL_ERR_RANGE_MIN - dset.add_shift*tr.PIXEL_SIZE\n",
    "SHIFTED_ERR_RANGE_MAX = tr.PIXEL_ERR_RANGE_MAX + dset.add_shift*tr.PIXEL_SIZE\n",
    "\n",
    "xbin = int(tr.ERR_SIZE*(evt_lbl[0] - SHIFTED_ERR_RANGE_MIN)/(SHIFTED_ERR_RANGE_MAX - SHIFTED_ERR_RANGE_MIN))\n",
    "xbin = max(xbin,0)\n",
    "xbin = min(xbin,tr.ERR_SIZE-1)\n",
    "\n",
    "ybin = int(tr.ERR_SIZE*(evt_lbl[1] - SHIFTED_ERR_RANGE_MIN)/(SHIFTED_ERR_RANGE_MAX - SHIFTED_ERR_RANGE_MIN))\n",
    "ybin = max(ybin,0)\n",
    "ybin = min(ybin,tr.ERR_SIZE-1)\n",
    "\n",
    "print(\"Computed index:\",(ybin*tr.ERR_SIZE) + xbin,\"for max added shift:\",dset.add_shift)\n",
    "\n",
    "# Send through the model.\n",
    "data = torch.tensor(evt_arr).float().unsqueeze(0).unsqueeze(1).cuda()\n",
    "target = torch.tensor(np.array(evt_err_ind)).long().cuda()\n",
    "output_score = model(data)\n",
    "\n",
    "# Compute the predicted pixel and (x,y) values.\n",
    "prob = np.array(softmax(output_score).cpu().detach().numpy()).reshape([tr.ERR_SIZE,tr.ERR_SIZE])\n",
    "ipred = np.argmax(prob)\n",
    "xpred = int(ipred % tr.ERR_SIZE)*ERR_PIXEL_SIZE + SHIFTED_ERR_RANGE_MIN + ERR_PIXEL_SIZE/2\n",
    "ypred = int(ipred / tr.ERR_SIZE)*ERR_PIXEL_SIZE + SHIFTED_ERR_RANGE_MIN + ERR_PIXEL_SIZE/2\n",
    "#print(\"[Evt\",evt,\"]: Index is\",evt_err_ind,\"with predicted\",ipred,\"; x = {} (predicted {}), y = {} (predicted {})\".format(evt_lbl[0],xpred,evt_lbl[1],ypred))\n",
    "\n",
    "# Compute the sigmas of the distribution.\n",
    "sigma_x0, sigma_y0 = compute_sigmas(prob)\n",
    "popt, pcov = fit_sigmas(prob,x_errgrid,y_errgrid,xpred,ypred,sigma_x0,sigma_y0)\n",
    "fit_data = mult_gaussFun_Fit((x_errgrid,y_errgrid),*popt).reshape([tr.ERR_SIZE,tr.ERR_SIZE])\n",
    "print(\"Gaussian fit parameters A*exp(-0.5*((x-x0)**2/varX + (y-y0)**2/varY)) + C:\")\n",
    "print(\"A = {}\".format(popt[0]))\n",
    "print(\"(x0, y0) = ({},{})\".format(popt[1],popt[2]))\n",
    "print(\"(sigma_x, sigma_y) = ({},{})\".format(popt[3]**0.5,popt[4]**0.5))\n",
    "print(\"C = {}\".format(popt[5]))\n",
    "\n",
    "fig = plt.figure()\n",
    "fig.set_figheight(4.0)\n",
    "fig.set_figwidth(18.0)\n",
    "\n",
    "ax1 = fig.add_subplot(131)\n",
    "plt.imshow(evt_arr)\n",
    "plt.colorbar()\n",
    "plt.title(\"Event {}; shift ({:.3e},{:.3e}); index {}\".format(evt_plt,evt_lbl[0],evt_lbl[1],evt_err_ind))\n",
    "\n",
    "ax2 = fig.add_subplot(132)\n",
    "ax2.plot([xbin],[ybin],color='red',marker='o',markersize=10)\n",
    "plt.imshow(prob)\n",
    "plt.colorbar()\n",
    "plt.title(\"Incidence point within prediction grid\")\n",
    "\n",
    "ax3 = fig.add_subplot(133)\n",
    "plt.imshow(fit_data)\n",
    "plt.colorbar()\n",
    "plt.title(\"2D Gaussian fit\")"
   ]
  },
  {
   "cell_type": "markdown",
   "metadata": {},
   "source": [
    "# Misc. code"
   ]
  },
  {
   "cell_type": "code",
   "execution_count": null,
   "metadata": {},
   "outputs": [],
   "source": [
    "# Look at many events:\n",
    "xpred_err, ypred_err = [], []\n",
    "for evt_plt in np.arange(8000,9999):\n",
    "    \n",
    "    evt_item = dset[evt_plt]\n",
    "    evt_arr = evt_item[0]\n",
    "    evt_lbl = evt_item[1]\n",
    "    evt_err_ind = evt_item[2]\n",
    "\n",
    "    # Send through the model.\n",
    "    data = torch.tensor(evt_arr).float().unsqueeze(0).unsqueeze(1).cuda()\n",
    "    target = torch.tensor(np.array(evt_err_ind)).long().cuda()\n",
    "\n",
    "    output_score = model(data)\n",
    "    prob = np.argmax(np.array(softmax(output_score).cpu().detach().numpy()).reshape([10,10]))\n",
    "    xpred = (prob % tr.ERR_SIZE)*0.005/tr.ERR_SIZE + tr.ERR_RANGE_MIN + 0.005/tr.ERR_SIZE/2\n",
    "    ypred = (prob / tr.ERR_SIZE)*0.005/tr.ERR_SIZE + tr.ERR_RANGE_MIN + 0.005/tr.ERR_SIZE/2\n",
    "    print(\"[Evt\",evt_plt,\"]: Index is\",evt_err_ind,\"with predicted\",prob,\"; x = {} (predicted {}), y = {} (predicted {})\".format(evt_lbl[0],xpred,evt_lbl[1],ypred))\n",
    "    \n",
    "    xpred_err.append(xpred-evt_lbl[0])\n",
    "    ypred_err.append(ypred-evt_lbl[1])\n",
    "xpred_err = np.array(xpred_err)\n",
    "ypred_err = np.array(ypred_err)"
   ]
  },
  {
   "cell_type": "code",
   "execution_count": null,
   "metadata": {},
   "outputs": [],
   "source": [
    "fig = plt.figure()\n",
    "fig.set_figheight(6.0)\n",
    "fig.set_figwidth(15.0)\n",
    "\n",
    "ax1 = fig.add_subplot(121);\n",
    "plt.hist(xpred_err)\n",
    "plt.xlabel(\"error in x-prediction (mm)\")\n",
    "print(np.where(abs(xpred_err) > 0.001))\n",
    "\n",
    "ax2 = fig.add_subplot(122)\n",
    "plt.hist(ypred_err)\n",
    "plt.xlabel(\"error in y-prediction (mm)\")\n"
   ]
  },
  {
   "cell_type": "code",
   "execution_count": null,
   "metadata": {},
   "outputs": [],
   "source": []
  }
 ],
 "metadata": {
  "kernelspec": {
   "display_name": "Python 3",
   "language": "python",
   "name": "python3"
  },
  "language_info": {
   "codemirror_mode": {
    "name": "ipython",
    "version": 3
   },
   "file_extension": ".py",
   "mimetype": "text/x-python",
   "name": "python",
   "nbconvert_exporter": "python",
   "pygments_lexer": "ipython3",
   "version": "3.7.6"
  }
 },
 "nbformat": 4,
 "nbformat_minor": 4
}
