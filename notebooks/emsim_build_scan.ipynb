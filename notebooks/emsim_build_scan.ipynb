{
 "cells": [
  {
   "cell_type": "markdown",
   "metadata": {},
   "source": [
    "# 4DSTEM scan builder"
   ]
  },
  {
   "cell_type": "code",
   "execution_count": 1,
   "metadata": {},
   "outputs": [],
   "source": [
    "import numpy as np\n",
    "import pandas as pd\n",
    "import matplotlib.pyplot as plt\n",
    "import random\n",
    "import time"
   ]
  },
  {
   "cell_type": "code",
   "execution_count": 2,
   "metadata": {},
   "outputs": [],
   "source": [
    "def extract_electron_pattern(df, evt, center_row=50, center_col=50, window_size=101):\n",
    "    half_window = window_size // 2\n",
    "    pattern_df = df[df.event == evt]\n",
    "    pattern_df = pattern_df[(pattern_df['row'].between(center_row - half_window, center_row + half_window)) &\n",
    "                    (pattern_df['col'].between(center_col - half_window, center_col + half_window))]\n",
    "    \n",
    "    electron_pattern = np.zeros((window_size, window_size), dtype=int)\n",
    "    for _, hit in pattern_df.iterrows():\n",
    "        electron_pattern[hit['row'] - (center_row - half_window),\n",
    "                         hit['col'] - (center_col - half_window)] += hit['counts']\n",
    "    return electron_pattern\n",
    "\n",
    "def create_frame(n, hit_positions, df):\n",
    "    frame = np.zeros((n, n), dtype=int)\n",
    "    \n",
    "    # Obtain unique events to choose from\n",
    "    unique_events = df['event'].unique()\n",
    "    \n",
    "    # Position each electron hit in the frame\n",
    "    for x, y in hit_positions:\n",
    "        evt = random.choice(unique_events)  # Randomly select an event\n",
    "        electron_pattern = extract_electron_pattern(df, evt)\n",
    "        \n",
    "        # Get the electron pattern size\n",
    "        whole_window = len(electron_pattern)\n",
    "\n",
    "        # Determine the position of the top-left corner where the electron pattern will be positioned (assuming it fits).\n",
    "        half_window = whole_window // 2\n",
    "        top_left_x = x - half_window\n",
    "        top_left_y = y - half_window\n",
    "\n",
    "        # Calculate the bounds of the pattern slice within the frame\n",
    "        start_i = max(0, -top_left_x)\n",
    "        start_j = max(0, -top_left_y)\n",
    "        end_i = min(n - top_left_x, whole_window)\n",
    "        end_j = min(n - top_left_y, whole_window)\n",
    "\n",
    "        # Calculate the frame slice where the pattern will be added\n",
    "        frame_slice_x_start = max(0, top_left_x)\n",
    "        frame_slice_y_start = max(0, top_left_y)\n",
    "        frame_slice_x_end = frame_slice_x_start + (end_i - start_i)\n",
    "        frame_slice_y_end = frame_slice_y_start + (end_j - start_j)\n",
    "\n",
    "        # Add the electron pattern slice to the frame slice\n",
    "        frame[frame_slice_x_start:frame_slice_x_end, frame_slice_y_start:frame_slice_y_end] += \\\n",
    "            electron_pattern[start_i:end_i, start_j:end_j]\n",
    "    \n",
    "    return frame"
   ]
  },
  {
   "cell_type": "code",
   "execution_count": 3,
   "metadata": {},
   "outputs": [],
   "source": [
    "# Load DataFrame\n",
    "df_fname = \"../dataframes/EM_5um_front_3M_100keV.pkl\"\n",
    "df = pd.read_pickle(df_fname)\n",
    "\n",
    "# Example usage\n",
    "N = 101  # Size of the frame\n",
    "hit_positions = [(50, 50)]*100\n",
    "hit_positions_2 = [(60, 40)]*100\n",
    "hit_positions = hit_positions + hit_positions_2\n",
    "\n",
    "frame = create_frame(N, hit_positions, df)"
   ]
  },
  {
   "cell_type": "code",
   "execution_count": 8,
   "metadata": {},
   "outputs": [
    {
     "name": "stderr",
     "output_type": "stream",
     "text": [
      "/var/folders/05/5x88pkbj3yb7x2vwsxtwvmdm0000gn/T/ipykernel_7397/243576165.py:5: RuntimeWarning: divide by zero encountered in log10\n",
      "  logframe = np.log10(frame)\n"
     ]
    },
    {
     "data": {
      "image/png": "[encoded data removed]",
      "text/plain": [
       "<Figure size 432x288 with 2 Axes>"
      ]
     },
     "metadata": {
      "needs_background": "light"
     },
     "output_type": "display_data"
    }
   ],
   "source": [
    "# Visualize the frame\n",
    "rng_low = 30 \n",
    "rng_high = 70\n",
    "\n",
    "logframe = np.log10(frame)\n",
    "\n",
    "plt.imshow(frame[rng_low:rng_high,rng_low:rng_high], cmap='hot', interpolation='nearest')\n",
    "#plt.imshow(logframe[rng_low:rng_high,rng_low:rng_high], cmap='hot', interpolation='nearest')\n",
    "plt.colorbar()\n",
    "plt.title('Constructed Frame')\n",
    "plt.show()"
   ]
  },
  {
   "cell_type": "markdown",
   "metadata": {},
   "source": [
    "### Look at a single electron event from the dataframe"
   ]
  },
  {
   "cell_type": "code",
   "execution_count": null,
   "metadata": {},
   "outputs": [],
   "source": [
    "win = 10\n",
    "evt = 5\n",
    "df_evt = df[df.event == evt]\n",
    "evt_arr = np.zeros([101,101])\n",
    "for row,col,counts in zip(df_evt['row'].values,df_evt['col'].values,df_evt['counts'].values):\n",
    "    evt_arr[row,col] += counts\n",
    "evt_arr = evt_arr[50-win:50+win,50-win:50+win]"
   ]
  }
 ],
 "metadata": {
  "kernelspec": {
   "display_name": "Python 3 (ipykernel)",
   "language": "python",
   "name": "python3"
  },
  "language_info": {
   "codemirror_mode": {
    "name": "ipython",
    "version": 3
   },
   "file_extension": ".py",
   "mimetype": "text/x-python",
   "name": "python",
   "nbconvert_exporter": "python",
   "pygments_lexer": "ipython3",
   "version": "3.9.6"
  }
 },
 "nbformat": 4,
 "nbformat_minor": 4
}
