{
 "cells": [
  {
   "cell_type": "code",
   "execution_count": 21,
   "metadata": {},
   "outputs": [],
   "source": [
    "import matplotlib.pyplot as plt\n",
    "import numpy as np\n",
    "import scipy\n",
    "import timm\n",
    "import torch\n",
    "import torch.nn.functional as F\n",
    "from torch import nn\n",
    "from torch.utils.data import DataLoader\n",
    "\n",
    "from emsim.geant.dataset import (\n",
    "    GeantElectronDataset,\n",
    "    electron_collate_fn,\n",
    "    plot_pixel_patch_and_points,\n",
    ")\n",
    "from emsim.geant.incidence_predictor import (\n",
    "    GaussianIncidencePointPredictor,\n",
    "    IncidencePointPredictor,\n",
    "    eval_gaussian_model,\n",
    "    eval_pointwise_model,\n",
    "    fit_gaussian_patch_predictor,\n",
    "    fit_pointwise_patch_predictor,\n",
    ")\n",
    "\n",
    "if torch.cuda.is_available():\n",
    "    device = \"cuda\"\n",
    "else:\n",
    "    device = \"cpu\""
   ]
  },
  {
   "cell_type": "code",
   "execution_count": 22,
   "metadata": {},
   "outputs": [],
   "source": [
    "pixels_file = \"../data/pixelated_5um_tracks_thinned_4um_back_20k_300keV.txt\"\n",
    "trajectory_file = \"../data/e300keV_thinned_4um_back_20k.txt\""
   ]
  },
  {
   "cell_type": "markdown",
   "metadata": {},
   "source": [
    "### This value controls the background noise level"
   ]
  },
  {
   "cell_type": "code",
   "execution_count": 48,
   "metadata": {},
   "outputs": [],
   "source": [
    "noise_std = 8"
   ]
  },
  {
   "cell_type": "markdown",
   "metadata": {},
   "source": [
    "### Create training and test datasets"
   ]
  },
  {
   "cell_type": "code",
   "execution_count": 49,
   "metadata": {},
   "outputs": [],
   "source": [
    "dataset = GeantElectronDataset(pixels_file, [128, 129], 7, noise_std=noise_std, trajectory_file=trajectory_file)\n",
    "test_dataset = GeantElectronDataset(pixels_file, [128, 129], 7, noise_std=noise_std, trajectory_file=trajectory_file, split=\"test\")"
   ]
  },
  {
   "cell_type": "markdown",
   "metadata": {},
   "source": [
    "### Generate a test batch for debugging and plotting later"
   ]
  },
  {
   "cell_type": "code",
   "execution_count": null,
   "metadata": {},
   "outputs": [],
   "source": [
    "test_loader = DataLoader(test_dataset, 1, collate_fn=electron_collate_fn)\n",
    "test_batch = next(iter(test_loader))"
   ]
  },
  {
   "cell_type": "markdown",
   "metadata": {},
   "source": [
    "### This creates an instance of the non-uncertainty-aware incidence point predictor"
   ]
  },
  {
   "cell_type": "code",
   "execution_count": 25,
   "metadata": {},
   "outputs": [],
   "source": [
    "backbone = timm.create_model(\"resnet18\", in_chans=1, num_classes=0)\n",
    "model = IncidencePointPredictor(backbone).to(device)"
   ]
  },
  {
   "cell_type": "markdown",
   "metadata": {},
   "source": [
    "### Train the non-uncertainty-aware incidence point predictor"
   ]
  },
  {
   "cell_type": "code",
   "execution_count": 27,
   "metadata": {},
   "outputs": [
    {
     "name": "stderr",
     "output_type": "stream",
     "text": [
      "100%|██████████| 1000/1000 [1:34:34<00:00,  5.67s/it, loss=0.00516]   \n"
     ]
    }
   ],
   "source": [
    "fit_pointwise_patch_predictor(model, dataset, n_steps=1000)"
   ]
  },
  {
   "cell_type": "markdown",
   "metadata": {},
   "source": [
    "### Evaluate it on the test dataset"
   ]
  },
  {
   "cell_type": "code",
   "execution_count": 29,
   "metadata": {},
   "outputs": [],
   "source": [
    "nn_errors, com_errors, nn_distances, com_distances = eval_pointwise_model(model, test_dataset)"
   ]
  },
  {
   "cell_type": "code",
   "execution_count": 30,
   "metadata": {},
   "outputs": [
    {
     "name": "stdout",
     "output_type": "stream",
     "text": [
      "nn_distances.mean()=0.6754306548976166\n",
      "com_distances.mean()=0.826738174368193\n"
     ]
    }
   ],
   "source": [
    "# Print results\n",
    "print(f\"{nn_distances.mean()=}\")\n",
    "print(f\"{com_distances.mean()=}\")"
   ]
  },
  {
   "cell_type": "markdown",
   "metadata": {},
   "source": [
    "### Plot an example prediction from the test dataset"
   ]
  },
  {
   "cell_type": "code",
   "execution_count": 4,
   "metadata": {},
   "outputs": [
    {
     "ename": "NameError",
     "evalue": "name 'model' is not defined",
     "output_type": "error",
     "traceback": [
      "\u001b[0;31m---------------------------------------------------------------------------\u001b[0m",
      "\u001b[0;31mNameError\u001b[0m                                 Traceback (most recent call last)",
      "\u001b[1;32m/Users/mawright/Code/emsim/notebooks/geant_localization.ipynb Cell 17\u001b[0m line \u001b[0;36m5\n\u001b[1;32m      <a href='vscode-notebook-cell:/Users/mawright/Code/emsim/notebooks/geant_localization.ipynb#X25sZmlsZQ%3D%3D?line=0'>1</a>\u001b[0m \u001b[39m# This selects which element from the test batch to plot\u001b[39;00m\n\u001b[1;32m      <a href='vscode-notebook-cell:/Users/mawright/Code/emsim/notebooks/geant_localization.ipynb#X25sZmlsZQ%3D%3D?line=1'>2</a>\u001b[0m i \u001b[39m=\u001b[39m \u001b[39m34\u001b[39m\n\u001b[0;32m----> <a href='vscode-notebook-cell:/Users/mawright/Code/emsim/notebooks/geant_localization.ipynb#X25sZmlsZQ%3D%3D?line=4'>5</a>\u001b[0m model\u001b[39m.\u001b[39meval()\n\u001b[1;32m      <a href='vscode-notebook-cell:/Users/mawright/Code/emsim/notebooks/geant_localization.ipynb#X25sZmlsZQ%3D%3D?line=5'>6</a>\u001b[0m \u001b[39mwith\u001b[39;00m torch\u001b[39m.\u001b[39mno_grad():\n\u001b[1;32m      <a href='vscode-notebook-cell:/Users/mawright/Code/emsim/notebooks/geant_localization.ipynb#X25sZmlsZQ%3D%3D?line=6'>7</a>\u001b[0m     predicted_point \u001b[39m=\u001b[39m model(test_batch[\u001b[39m\"\u001b[39m\u001b[39mpixel_patches\u001b[39m\u001b[39m\"\u001b[39m][i]\u001b[39m.\u001b[39munsqueeze(\u001b[39m0\u001b[39m)\u001b[39m.\u001b[39mto(device))\u001b[39m.\u001b[39mcpu()\u001b[39m.\u001b[39mnumpy()\u001b[39m.\u001b[39msqueeze()\n",
      "\u001b[0;31mNameError\u001b[0m: name 'model' is not defined"
     ]
    }
   ],
   "source": [
    "# This selects which element from the test batch to plot\n",
    "i = 34\n",
    "\n",
    "\n",
    "model.eval()\n",
    "with torch.no_grad():\n",
    "    predicted_point = model(test_batch[\"pixel_patches\"][i].unsqueeze(0).to(device)).cpu().numpy().squeeze()\n",
    "    \n",
    "fig, ax = plot_pixel_patch_and_points(\n",
    "    test_batch[\"pixel_patches\"][i].numpy(),\n",
    "    [\n",
    "        test_batch[\"local_incidence_points_pixels\"][i].numpy(),\n",
    "        test_batch[\"local_centers_of_mass_pixels\"][i].numpy(),\n",
    "        predicted_point\n",
    "    ],\n",
    "    [\"True incidence point\", \"CoM estimate\", \"NN estimate\"],\n",
    ")\n",
    "fig.set_size_inches(10, 8)\n",
    "fig.show()"
   ]
  },
  {
   "cell_type": "markdown",
   "metadata": {},
   "source": [
    "## Uncertainty-aware predictor"
   ]
  },
  {
   "cell_type": "markdown",
   "metadata": {},
   "source": [
    "### Create the backbone and model"
   ]
  },
  {
   "cell_type": "code",
   "execution_count": 9,
   "metadata": {},
   "outputs": [],
   "source": [
    "backbone = timm.create_model(\"resnet18\", in_chans=1, num_classes=0)\n",
    "model2 = GaussianIncidencePointPredictor(backbone).to(device)"
   ]
  },
  {
   "cell_type": "markdown",
   "metadata": {},
   "source": [
    "### Train the model"
   ]
  },
  {
   "cell_type": "code",
   "execution_count": 11,
   "metadata": {},
   "outputs": [
    {
     "name": "stderr",
     "output_type": "stream",
     "text": [
      " 48%|████▊     | 484/1000 [02:38<02:48,  3.06it/s, loss=2.33, rmse=0.498]   \n"
     ]
    },
    {
     "ename": "ValueError",
     "evalue": "Expected parameter scale_tril (Tensor of shape (128, 2, 2)) of distribution MultivariateNormal(loc: torch.Size([128, 2]), scale_tril: torch.Size([128, 2, 2])) to satisfy the constraint LowerCholesky(), but found invalid values:\ntensor([[[ 1.2853e-01,  0.0000e+00],\n         [ 9.5603e-03,  1.3366e-01]],\n\n        [[ 1.3904e-01,  0.0000e+00],\n         [-4.1599e-03,  1.5870e-01]],\n\n        [[ 2.6048e-01,  0.0000e+00],\n         [-1.9787e-03,  2.5530e-01]],\n\n        [[ 1.5827e-01,  0.0000e+00],\n         [ 3.9029e-03,  1.5745e-01]],\n\n        [[ 1.4679e-01,  0.0000e+00],\n         [ 3.7903e-03,  1.4454e-01]],\n\n        [[ 1.7400e-01,  0.0000e+00],\n         [-4.7723e-03,  1.7717e-01]],\n\n        [[ 1.5148e-01,  0.0000e+00],\n         [ 8.5516e-03,  1.6271e-01]],\n\n        [[ 1.6347e-01,  0.0000e+00],\n         [-8.4147e-05,  1.6740e-01]],\n\n        [[ 1.5326e-01,  0.0000e+00],\n         [-6.9112e-03,  1.5448e-01]],\n\n        [[ 1.4047e-01,  0.0000e+00],\n         [-3.2557e-03,  1.4420e-01]],\n\n        [[ 1.2478e-01,  0.0000e+00],\n         [-4.2194e-03,  1.2278e-01]],\n\n        [[ 1.5093e-01,  0.0000e+00],\n         [ 1.2056e-02,  1.4162e-01]],\n\n        [[ 1.3384e-01,  0.0000e+00],\n         [ 1.1824e-03,  1.3707e-01]],\n\n        [[ 2.3181e-01,  0.0000e+00],\n         [-4.0905e-04,  2.2480e-01]],\n\n        [[ 1.9691e-01,  0.0000e+00],\n         [-2.2012e-03,  2.0194e-01]],\n\n        [[ 1.6948e-01,  0.0000e+00],\n         [ 6.6035e-03,  1.5144e-01]],\n\n        [[ 2.5614e-01,  0.0000e+00],\n         [ 2.3377e-02,  2.6350e-01]],\n\n        [[ 2.0926e-01,  0.0000e+00],\n         [ 1.9845e-02,  2.2357e-01]],\n\n        [[ 1.4864e-01,  0.0000e+00],\n         [ 3.7266e-03,  1.5274e-01]],\n\n        [[ 1.5485e-01,  0.0000e+00],\n         [ 3.6539e-04,  1.5773e-01]],\n\n        [[ 1.3465e-01,  0.0000e+00],\n         [ 5.8388e-03,  1.3870e-01]],\n\n        [[ 1.7692e-01,  0.0000e+00],\n         [-2.5358e-03,  1.7702e-01]],\n\n        [[ 1.4258e-01,  0.0000e+00],\n         [-8.0406e-04,  1.4639e-01]],\n\n        [[ 1.6446e-01,  0.0000e+00],\n         [ 3.0600e-03,  1.6751e-01]],\n\n        [[ 1.6220e-01,  0.0000e+00],\n         [ 6.1459e-03,  1.6721e-01]],\n\n        [[ 1.5634e-01,  0.0000e+00],\n         [ 7.2302e-03,  1.5418e-01]],\n\n        [[ 2.0120e-01,  0.0000e+00],\n         [ 3.9662e-04,  1.9874e-01]],\n\n        [[ 2.0626e-01,  0.0000e+00],\n         [-7.6711e-04,  2.0558e-01]],\n\n        [[ 1.9252e-01,  0.0000e+00],\n         [-2.6755e-03,  1.8402e-01]],\n\n        [[ 2.2831e-01,  0.0000e+00],\n         [-2.1255e-03,  2.2949e-01]],\n\n        [[ 4.4587e+00,  0.0000e+00],\n         [ 6.4631e-02,  6.5788e+00]],\n\n        [[ 3.4153e-01,  0.0000e+00],\n         [ 2.7900e-02,  3.7303e-01]],\n\n        [[ 1.1356e+02,  0.0000e+00],\n         [ 1.5314e-01,  1.2469e+02]],\n\n        [[ 3.7363e+00,  0.0000e+00],\n         [ 6.5080e-02,  4.5557e+00]],\n\n        [[ 1.5907e-01,  0.0000e+00],\n         [ 4.0216e-03,  1.6117e-01]],\n\n        [[ 1.9467e-01,  0.0000e+00],\n         [-6.5716e-04,  1.9238e-01]],\n\n        [[ 7.6037e+00,  0.0000e+00],\n         [ 6.4631e-02,  9.9072e+00]],\n\n        [[ 1.7700e-01,  0.0000e+00],\n         [-7.1838e-03,  1.9096e-01]],\n\n        [[ 1.2737e-01,  0.0000e+00],\n         [ 4.5758e-03,  1.2994e-01]],\n\n        [[ 1.2956e-01,  0.0000e+00],\n         [ 8.3875e-03,  1.3299e-01]],\n\n        [[ 1.3733e-01,  0.0000e+00],\n         [ 2.3596e-03,  1.4123e-01]],\n\n        [[ 2.2397e-01,  0.0000e+00],\n         [-1.7408e-03,  2.1890e-01]],\n\n        [[ 1.7550e-01,  0.0000e+00],\n         [-3.6573e-04,  1.8782e-01]],\n\n        [[ 1.3565e-01,  0.0000e+00],\n         [-6.7605e-03,  1.5210e-01]],\n\n        [[ 1.5169e-01,  0.0000e+00],\n         [-1.2325e-02,  1.7525e-01]],\n\n        [[ 1.6392e-01,  0.0000e+00],\n         [ 4.5796e-04,  1.6843e-01]],\n\n        [[ 1.7409e-01,  0.0000e+00],\n         [-7.8622e-03,  1.8571e-01]],\n\n        [[ 1.3760e-01,  0.0000e+00],\n         [ 1.0411e-03,  1.4006e-01]],\n\n        [[ 1.9253e-01,  0.0000e+00],\n         [-1.9268e-03,  1.9162e-01]],\n\n        [[ 1.4284e-01,  0.0000e+00],\n         [-4.3293e-03,  1.4260e-01]],\n\n        [[        inf,         nan],\n         [        nan,         inf]],\n\n        [[ 1.9441e-01,  0.0000e+00],\n         [-2.0877e-03,  2.3346e-01]],\n\n        [[ 1.5171e-01,  0.0000e+00],\n         [ 1.6249e-03,  1.7240e-01]],\n\n        [[ 1.9593e-01,  0.0000e+00],\n         [ 5.5945e-04,  2.0072e-01]],\n\n        [[ 1.4313e-01,  0.0000e+00],\n         [-5.6293e-04,  1.4943e-01]],\n\n        [[ 1.3659e-01,  0.0000e+00],\n         [-4.2419e-04,  1.3560e-01]],\n\n        [[ 1.4496e-01,  0.0000e+00],\n         [ 9.3691e-03,  1.4341e-01]],\n\n        [[ 1.4107e-01,  0.0000e+00],\n         [-7.1808e-03,  1.4055e-01]],\n\n        [[ 1.6212e-01,  0.0000e+00],\n         [-5.6341e-04,  1.6101e-01]],\n\n        [[ 1.7445e-01,  0.0000e+00],\n         [-1.2855e-03,  1.8550e-01]],\n\n        [[ 1.2208e-01,  0.0000e+00],\n         [ 3.9204e-03,  1.2739e-01]],\n\n        [[ 1.6342e-01,  0.0000e+00],\n         [ 2.3127e-03,  1.7080e-01]],\n\n        [[ 1.3190e-01,  0.0000e+00],\n         [ 2.5048e-03,  1.3421e-01]],\n\n        [[ 1.3717e-01,  0.0000e+00],\n         [ 1.3440e-03,  1.5056e-01]],\n\n        [[ 1.4476e-01,  0.0000e+00],\n         [ 4.5590e-03,  1.4257e-01]],\n\n        [[ 1.7171e-01,  0.0000e+00],\n         [ 2.3939e-03,  1.7279e-01]],\n\n        [[ 1.8797e-01,  0.0000e+00],\n         [ 2.6117e-03,  1.9708e-01]],\n\n        [[ 1.4145e-01,  0.0000e+00],\n         [ 3.4596e-03,  1.4023e-01]],\n\n        [[ 1.5058e-01,  0.0000e+00],\n         [-2.5266e-03,  1.5407e-01]],\n\n        [[ 1.5560e-01,  0.0000e+00],\n         [ 3.5786e-03,  1.5734e-01]],\n\n        [[ 1.2725e-01,  0.0000e+00],\n         [ 2.9237e-03,  1.3040e-01]],\n\n        [[ 1.8633e-01,  0.0000e+00],\n         [-2.2025e-03,  1.8898e-01]],\n\n        [[ 1.4717e-01,  0.0000e+00],\n         [ 8.4558e-04,  1.5692e-01]],\n\n        [[ 1.4083e-01,  0.0000e+00],\n         [ 4.3735e-03,  1.3966e-01]],\n\n        [[ 2.1020e-01,  0.0000e+00],\n         [-5.3146e-03,  2.0868e-01]],\n\n        [[ 1.6164e-01,  0.0000e+00],\n         [-7.0506e-04,  1.5952e-01]],\n\n        [[ 1.7136e-01,  0.0000e+00],\n         [ 1.4419e-02,  1.5918e-01]],\n\n        [[ 1.7464e-01,  0.0000e+00],\n         [-1.1232e-03,  1.7199e-01]],\n\n        [[ 1.2771e-01,  0.0000e+00],\n         [-4.7313e-04,  1.4384e-01]],\n\n        [[ 1.7153e-01,  0.0000e+00],\n         [ 5.8942e-03,  1.6476e-01]],\n\n        [[ 2.1877e-01,  0.0000e+00],\n         [-3.4684e-03,  2.2119e-01]],\n\n        [[ 1.5357e-01,  0.0000e+00],\n         [-8.1931e-04,  1.5220e-01]],\n\n        [[ 6.5338e+01,  0.0000e+00],\n         [ 1.3955e-01,  7.2182e+01]],\n\n        [[ 1.7982e-01,  0.0000e+00],\n         [ 4.3752e-03,  1.7507e-01]],\n\n        [[ 7.1057e-01,  0.0000e+00],\n         [ 3.9979e-02,  7.6572e-01]],\n\n        [[ 1.6902e-01,  0.0000e+00],\n         [ 1.4170e-02,  1.8180e-01]],\n\n        [[ 1.7398e-01,  0.0000e+00],\n         [ 6.5255e-03,  1.6988e-01]],\n\n        [[ 2.0056e-01,  0.0000e+00],\n         [ 1.0415e-03,  2.0708e-01]],\n\n        [[ 1.6574e-01,  0.0000e+00],\n         [ 4.1182e-03,  1.7185e-01]],\n\n        [[ 1.5703e-01,  0.0000e+00],\n         [-6.4782e-03,  1.6641e-01]],\n\n        [[ 1.6234e-01,  0.0000e+00],\n         [ 5.1680e-03,  1.5882e-01]],\n\n        [[ 1.4056e-01,  0.0000e+00],\n         [ 2.5430e-03,  1.4841e-01]],\n\n        [[ 1.5009e-01,  0.0000e+00],\n         [ 2.6355e-03,  1.6318e-01]],\n\n        [[ 1.5117e-01,  0.0000e+00],\n         [-4.5506e-03,  1.6617e-01]],\n\n        [[ 1.5982e-01,  0.0000e+00],\n         [ 2.9018e-04,  1.7420e-01]],\n\n        [[ 1.4242e-01,  0.0000e+00],\n         [-1.5064e-02,  1.4977e-01]],\n\n        [[ 1.5856e-01,  0.0000e+00],\n         [ 2.8071e-03,  1.7139e-01]],\n\n        [[ 1.9258e-01,  0.0000e+00],\n         [-4.6046e-03,  1.9682e-01]],\n\n        [[ 1.5499e-01,  0.0000e+00],\n         [ 4.5240e-03,  1.5729e-01]],\n\n        [[ 1.6693e-01,  0.0000e+00],\n         [-1.1557e-03,  1.6383e-01]],\n\n        [[ 2.0290e-01,  0.0000e+00],\n         [-1.6966e-03,  2.0705e-01]],\n\n        [[ 1.6866e-01,  0.0000e+00],\n         [ 3.2220e-03,  1.8170e-01]],\n\n        [[ 1.8708e-01,  0.0000e+00],\n         [ 4.4372e-04,  2.0375e-01]],\n\n        [[ 1.6397e-01,  0.0000e+00],\n         [ 6.9067e-03,  1.6153e-01]],\n\n        [[ 1.5200e-01,  0.0000e+00],\n         [-4.9966e-03,  1.6558e-01]],\n\n        [[ 1.4887e-01,  0.0000e+00],\n         [-2.0616e-03,  1.4472e-01]],\n\n        [[ 2.2213e-01,  0.0000e+00],\n         [ 7.9875e-04,  2.7606e-01]],\n\n        [[ 1.8508e-01,  0.0000e+00],\n         [ 6.1011e-03,  1.7360e-01]],\n\n        [[ 2.0153e-01,  0.0000e+00],\n         [-9.8959e-04,  2.0098e-01]],\n\n        [[ 5.1441e-01,  0.0000e+00],\n         [ 3.2997e-02,  5.8602e-01]],\n\n        [[ 1.4092e-01,  0.0000e+00],\n         [-9.8215e-04,  1.3815e-01]],\n\n        [[ 1.6815e-01,  0.0000e+00],\n         [-5.8622e-03,  1.6000e-01]],\n\n        [[ 1.4110e-01,  0.0000e+00],\n         [ 3.7998e-03,  1.4532e-01]],\n\n        [[ 3.1867e-01,  0.0000e+00],\n         [-2.4755e-03,  3.4526e-01]],\n\n        [[ 1.2567e-01,  0.0000e+00],\n         [ 1.0644e-03,  1.3245e-01]],\n\n        [[ 1.3961e-01,  0.0000e+00],\n         [-4.6986e-04,  1.4306e-01]],\n\n        [[ 1.2833e-01,  0.0000e+00],\n         [-1.7244e-03,  1.4279e-01]],\n\n        [[ 1.9184e-01,  0.0000e+00],\n         [-2.4742e-03,  1.8943e-01]],\n\n        [[ 1.5266e-01,  0.0000e+00],\n         [ 3.7705e-03,  1.4976e-01]],\n\n        [[ 1.4637e-01,  0.0000e+00],\n         [-5.9531e-03,  1.4748e-01]],\n\n        [[ 1.3667e-01,  0.0000e+00],\n         [ 1.8477e-03,  1.4209e-01]],\n\n        [[ 1.9508e-01,  0.0000e+00],\n         [ 1.6579e-03,  2.0333e-01]],\n\n        [[ 1.5303e-01,  0.0000e+00],\n         [-7.2118e-03,  1.5130e-01]],\n\n        [[ 1.8708e-01,  0.0000e+00],\n         [-1.3512e-03,  2.0249e-01]],\n\n        [[ 2.0029e-01,  0.0000e+00],\n         [ 5.0072e-04,  2.0925e-01]],\n\n        [[ 1.5507e-01,  0.0000e+00],\n         [-6.2239e-05,  1.5652e-01]],\n\n        [[ 1.4886e-01,  0.0000e+00],\n         [-4.1084e-03,  1.4666e-01]],\n\n        [[ 1.3068e-01,  0.0000e+00],\n         [ 1.0641e-03,  1.4271e-01]]], device='cuda:0',\n       grad_fn=<ExpandBackward0>)",
     "output_type": "error",
     "traceback": [
      "\u001b[0;31m---------------------------------------------------------------------------\u001b[0m",
      "\u001b[0;31mValueError\u001b[0m                                Traceback (most recent call last)",
      "\u001b[1;32m/home/matt/Code/emsim/notebooks/geant_localization.ipynb Cell 18\u001b[0m line \u001b[0;36m1\n\u001b[0;32m----> <a href='vscode-notebook-cell://ssh-remote%2Bhomewsl/home/matt/Code/emsim/notebooks/geant_localization.ipynb#X23sdnNjb2RlLXJlbW90ZQ%3D%3D?line=0'>1</a>\u001b[0m nll_losses, rmse \u001b[39m=\u001b[39m fit_gaussian_predictor(model2, dataset, \u001b[39m1000\u001b[39;49m)\n",
      "\u001b[1;32m/home/matt/Code/emsim/notebooks/geant_localization.ipynb Cell 18\u001b[0m line \u001b[0;36m2\n\u001b[1;32m     <a href='vscode-notebook-cell://ssh-remote%2Bhomewsl/home/matt/Code/emsim/notebooks/geant_localization.ipynb#X23sdnNjb2RlLXJlbW90ZQ%3D%3D?line=18'>19</a>\u001b[0m incidence_points \u001b[39m=\u001b[39m batch[\u001b[39m\"\u001b[39m\u001b[39mlocal_incidence_points_pixels\u001b[39m\u001b[39m\"\u001b[39m]\u001b[39m.\u001b[39mto(device)\n\u001b[1;32m     <a href='vscode-notebook-cell://ssh-remote%2Bhomewsl/home/matt/Code/emsim/notebooks/geant_localization.ipynb#X23sdnNjb2RlLXJlbW90ZQ%3D%3D?line=20'>21</a>\u001b[0m optim\u001b[39m.\u001b[39mzero_grad()        \n\u001b[0;32m---> <a href='vscode-notebook-cell://ssh-remote%2Bhomewsl/home/matt/Code/emsim/notebooks/geant_localization.ipynb#X23sdnNjb2RlLXJlbW90ZQ%3D%3D?line=21'>22</a>\u001b[0m predicted_distribution \u001b[39m=\u001b[39m model(patches)\n\u001b[1;32m     <a href='vscode-notebook-cell://ssh-remote%2Bhomewsl/home/matt/Code/emsim/notebooks/geant_localization.ipynb#X23sdnNjb2RlLXJlbW90ZQ%3D%3D?line=22'>23</a>\u001b[0m log_prob \u001b[39m=\u001b[39m predicted_distribution\u001b[39m.\u001b[39mlog_prob(incidence_points)\n\u001b[1;32m     <a href='vscode-notebook-cell://ssh-remote%2Bhomewsl/home/matt/Code/emsim/notebooks/geant_localization.ipynb#X23sdnNjb2RlLXJlbW90ZQ%3D%3D?line=23'>24</a>\u001b[0m loss \u001b[39m=\u001b[39m \u001b[39m-\u001b[39mlog_prob\u001b[39m.\u001b[39mmean()\n",
      "File \u001b[0;32m~/miniconda3/envs/emsim/lib/python3.11/site-packages/torch/nn/modules/module.py:1518\u001b[0m, in \u001b[0;36mModule._wrapped_call_impl\u001b[0;34m(self, *args, **kwargs)\u001b[0m\n\u001b[1;32m   1516\u001b[0m     \u001b[39mreturn\u001b[39;00m \u001b[39mself\u001b[39m\u001b[39m.\u001b[39m_compiled_call_impl(\u001b[39m*\u001b[39margs, \u001b[39m*\u001b[39m\u001b[39m*\u001b[39mkwargs)  \u001b[39m# type: ignore[misc]\u001b[39;00m\n\u001b[1;32m   1517\u001b[0m \u001b[39melse\u001b[39;00m:\n\u001b[0;32m-> 1518\u001b[0m     \u001b[39mreturn\u001b[39;00m \u001b[39mself\u001b[39;49m\u001b[39m.\u001b[39;49m_call_impl(\u001b[39m*\u001b[39;49margs, \u001b[39m*\u001b[39;49m\u001b[39m*\u001b[39;49mkwargs)\n",
      "File \u001b[0;32m~/miniconda3/envs/emsim/lib/python3.11/site-packages/torch/nn/modules/module.py:1527\u001b[0m, in \u001b[0;36mModule._call_impl\u001b[0;34m(self, *args, **kwargs)\u001b[0m\n\u001b[1;32m   1522\u001b[0m \u001b[39m# If we don't have any hooks, we want to skip the rest of the logic in\u001b[39;00m\n\u001b[1;32m   1523\u001b[0m \u001b[39m# this function, and just call forward.\u001b[39;00m\n\u001b[1;32m   1524\u001b[0m \u001b[39mif\u001b[39;00m \u001b[39mnot\u001b[39;00m (\u001b[39mself\u001b[39m\u001b[39m.\u001b[39m_backward_hooks \u001b[39mor\u001b[39;00m \u001b[39mself\u001b[39m\u001b[39m.\u001b[39m_backward_pre_hooks \u001b[39mor\u001b[39;00m \u001b[39mself\u001b[39m\u001b[39m.\u001b[39m_forward_hooks \u001b[39mor\u001b[39;00m \u001b[39mself\u001b[39m\u001b[39m.\u001b[39m_forward_pre_hooks\n\u001b[1;32m   1525\u001b[0m         \u001b[39mor\u001b[39;00m _global_backward_pre_hooks \u001b[39mor\u001b[39;00m _global_backward_hooks\n\u001b[1;32m   1526\u001b[0m         \u001b[39mor\u001b[39;00m _global_forward_hooks \u001b[39mor\u001b[39;00m _global_forward_pre_hooks):\n\u001b[0;32m-> 1527\u001b[0m     \u001b[39mreturn\u001b[39;00m forward_call(\u001b[39m*\u001b[39;49margs, \u001b[39m*\u001b[39;49m\u001b[39m*\u001b[39;49mkwargs)\n\u001b[1;32m   1529\u001b[0m \u001b[39mtry\u001b[39;00m:\n\u001b[1;32m   1530\u001b[0m     result \u001b[39m=\u001b[39m \u001b[39mNone\u001b[39;00m\n",
      "\u001b[1;32m/home/matt/Code/emsim/notebooks/geant_localization.ipynb Cell 18\u001b[0m line \u001b[0;36m5\n\u001b[1;32m     <a href='vscode-notebook-cell://ssh-remote%2Bhomewsl/home/matt/Code/emsim/notebooks/geant_localization.ipynb#X23sdnNjb2RlLXJlbW90ZQ%3D%3D?line=45'>46</a>\u001b[0m     cholesky \u001b[39m=\u001b[39m inverse_scaling_matrix \u001b[39m@\u001b[39m cholesky\n\u001b[1;32m     <a href='vscode-notebook-cell://ssh-remote%2Bhomewsl/home/matt/Code/emsim/notebooks/geant_localization.ipynb#X23sdnNjb2RlLXJlbW90ZQ%3D%3D?line=47'>48</a>\u001b[0m cholesky \u001b[39m=\u001b[39m cholesky \u001b[39m+\u001b[39m torch\u001b[39m.\u001b[39meye(cholesky\u001b[39m.\u001b[39mshape[\u001b[39m-\u001b[39m\u001b[39m1\u001b[39m], dtype\u001b[39m=\u001b[39mcholesky\u001b[39m.\u001b[39mdtype, device\u001b[39m=\u001b[39mcholesky\u001b[39m.\u001b[39mdevice) \u001b[39m*\u001b[39m \u001b[39mself\u001b[39m\u001b[39m.\u001b[39meps\n\u001b[0;32m---> <a href='vscode-notebook-cell://ssh-remote%2Bhomewsl/home/matt/Code/emsim/notebooks/geant_localization.ipynb#X23sdnNjb2RlLXJlbW90ZQ%3D%3D?line=49'>50</a>\u001b[0m \u001b[39mreturn\u001b[39;00m MultivariateNormal(mean_vector, scale_tril\u001b[39m=\u001b[39;49mcholesky)\n",
      "File \u001b[0;32m~/miniconda3/envs/emsim/lib/python3.11/site-packages/torch/distributions/multivariate_normal.py:177\u001b[0m, in \u001b[0;36mMultivariateNormal.__init__\u001b[0;34m(self, loc, covariance_matrix, precision_matrix, scale_tril, validate_args)\u001b[0m\n\u001b[1;32m    174\u001b[0m \u001b[39mself\u001b[39m\u001b[39m.\u001b[39mloc \u001b[39m=\u001b[39m loc\u001b[39m.\u001b[39mexpand(batch_shape \u001b[39m+\u001b[39m (\u001b[39m-\u001b[39m\u001b[39m1\u001b[39m,))\n\u001b[1;32m    176\u001b[0m event_shape \u001b[39m=\u001b[39m \u001b[39mself\u001b[39m\u001b[39m.\u001b[39mloc\u001b[39m.\u001b[39mshape[\u001b[39m-\u001b[39m\u001b[39m1\u001b[39m:]\n\u001b[0;32m--> 177\u001b[0m \u001b[39msuper\u001b[39;49m()\u001b[39m.\u001b[39;49m\u001b[39m__init__\u001b[39;49m(batch_shape, event_shape, validate_args\u001b[39m=\u001b[39;49mvalidate_args)\n\u001b[1;32m    179\u001b[0m \u001b[39mif\u001b[39;00m scale_tril \u001b[39mis\u001b[39;00m \u001b[39mnot\u001b[39;00m \u001b[39mNone\u001b[39;00m:\n\u001b[1;32m    180\u001b[0m     \u001b[39mself\u001b[39m\u001b[39m.\u001b[39m_unbroadcasted_scale_tril \u001b[39m=\u001b[39m scale_tril\n",
      "File \u001b[0;32m~/miniconda3/envs/emsim/lib/python3.11/site-packages/torch/distributions/distribution.py:68\u001b[0m, in \u001b[0;36mDistribution.__init__\u001b[0;34m(self, batch_shape, event_shape, validate_args)\u001b[0m\n\u001b[1;32m     66\u001b[0m         valid \u001b[39m=\u001b[39m constraint\u001b[39m.\u001b[39mcheck(value)\n\u001b[1;32m     67\u001b[0m         \u001b[39mif\u001b[39;00m \u001b[39mnot\u001b[39;00m valid\u001b[39m.\u001b[39mall():\n\u001b[0;32m---> 68\u001b[0m             \u001b[39mraise\u001b[39;00m \u001b[39mValueError\u001b[39;00m(\n\u001b[1;32m     69\u001b[0m                 \u001b[39mf\u001b[39m\u001b[39m\"\u001b[39m\u001b[39mExpected parameter \u001b[39m\u001b[39m{\u001b[39;00mparam\u001b[39m}\u001b[39;00m\u001b[39m \u001b[39m\u001b[39m\"\u001b[39m\n\u001b[1;32m     70\u001b[0m                 \u001b[39mf\u001b[39m\u001b[39m\"\u001b[39m\u001b[39m(\u001b[39m\u001b[39m{\u001b[39;00m\u001b[39mtype\u001b[39m(value)\u001b[39m.\u001b[39m\u001b[39m__name__\u001b[39m\u001b[39m}\u001b[39;00m\u001b[39m of shape \u001b[39m\u001b[39m{\u001b[39;00m\u001b[39mtuple\u001b[39m(value\u001b[39m.\u001b[39mshape)\u001b[39m}\u001b[39;00m\u001b[39m) \u001b[39m\u001b[39m\"\u001b[39m\n\u001b[1;32m     71\u001b[0m                 \u001b[39mf\u001b[39m\u001b[39m\"\u001b[39m\u001b[39mof distribution \u001b[39m\u001b[39m{\u001b[39;00m\u001b[39mrepr\u001b[39m(\u001b[39mself\u001b[39m)\u001b[39m}\u001b[39;00m\u001b[39m \u001b[39m\u001b[39m\"\u001b[39m\n\u001b[1;32m     72\u001b[0m                 \u001b[39mf\u001b[39m\u001b[39m\"\u001b[39m\u001b[39mto satisfy the constraint \u001b[39m\u001b[39m{\u001b[39;00m\u001b[39mrepr\u001b[39m(constraint)\u001b[39m}\u001b[39;00m\u001b[39m, \u001b[39m\u001b[39m\"\u001b[39m\n\u001b[1;32m     73\u001b[0m                 \u001b[39mf\u001b[39m\u001b[39m\"\u001b[39m\u001b[39mbut found invalid values:\u001b[39m\u001b[39m\\n\u001b[39;00m\u001b[39m{\u001b[39;00mvalue\u001b[39m}\u001b[39;00m\u001b[39m\"\u001b[39m\n\u001b[1;32m     74\u001b[0m             )\n\u001b[1;32m     75\u001b[0m \u001b[39msuper\u001b[39m()\u001b[39m.\u001b[39m\u001b[39m__init__\u001b[39m()\n",
      "\u001b[0;31mValueError\u001b[0m: Expected parameter scale_tril (Tensor of shape (128, 2, 2)) of distribution MultivariateNormal(loc: torch.Size([128, 2]), scale_tril: torch.Size([128, 2, 2])) to satisfy the constraint LowerCholesky(), but found invalid values:\ntensor([[[ 1.2853e-01,  0.0000e+00],\n         [ 9.5603e-03,  1.3366e-01]],\n\n        [[ 1.3904e-01,  0.0000e+00],\n         [-4.1599e-03,  1.5870e-01]],\n\n        [[ 2.6048e-01,  0.0000e+00],\n         [-1.9787e-03,  2.5530e-01]],\n\n        [[ 1.5827e-01,  0.0000e+00],\n         [ 3.9029e-03,  1.5745e-01]],\n\n        [[ 1.4679e-01,  0.0000e+00],\n         [ 3.7903e-03,  1.4454e-01]],\n\n        [[ 1.7400e-01,  0.0000e+00],\n         [-4.7723e-03,  1.7717e-01]],\n\n        [[ 1.5148e-01,  0.0000e+00],\n         [ 8.5516e-03,  1.6271e-01]],\n\n        [[ 1.6347e-01,  0.0000e+00],\n         [-8.4147e-05,  1.6740e-01]],\n\n        [[ 1.5326e-01,  0.0000e+00],\n         [-6.9112e-03,  1.5448e-01]],\n\n        [[ 1.4047e-01,  0.0000e+00],\n         [-3.2557e-03,  1.4420e-01]],\n\n        [[ 1.2478e-01,  0.0000e+00],\n         [-4.2194e-03,  1.2278e-01]],\n\n        [[ 1.5093e-01,  0.0000e+00],\n         [ 1.2056e-02,  1.4162e-01]],\n\n        [[ 1.3384e-01,  0.0000e+00],\n         [ 1.1824e-03,  1.3707e-01]],\n\n        [[ 2.3181e-01,  0.0000e+00],\n         [-4.0905e-04,  2.2480e-01]],\n\n        [[ 1.9691e-01,  0.0000e+00],\n         [-2.2012e-03,  2.0194e-01]],\n\n        [[ 1.6948e-01,  0.0000e+00],\n         [ 6.6035e-03,  1.5144e-01]],\n\n        [[ 2.5614e-01,  0.0000e+00],\n         [ 2.3377e-02,  2.6350e-01]],\n\n        [[ 2.0926e-01,  0.0000e+00],\n         [ 1.9845e-02,  2.2357e-01]],\n\n        [[ 1.4864e-01,  0.0000e+00],\n         [ 3.7266e-03,  1.5274e-01]],\n\n        [[ 1.5485e-01,  0.0000e+00],\n         [ 3.6539e-04,  1.5773e-01]],\n\n        [[ 1.3465e-01,  0.0000e+00],\n         [ 5.8388e-03,  1.3870e-01]],\n\n        [[ 1.7692e-01,  0.0000e+00],\n         [-2.5358e-03,  1.7702e-01]],\n\n        [[ 1.4258e-01,  0.0000e+00],\n         [-8.0406e-04,  1.4639e-01]],\n\n        [[ 1.6446e-01,  0.0000e+00],\n         [ 3.0600e-03,  1.6751e-01]],\n\n        [[ 1.6220e-01,  0.0000e+00],\n         [ 6.1459e-03,  1.6721e-01]],\n\n        [[ 1.5634e-01,  0.0000e+00],\n         [ 7.2302e-03,  1.5418e-01]],\n\n        [[ 2.0120e-01,  0.0000e+00],\n         [ 3.9662e-04,  1.9874e-01]],\n\n        [[ 2.0626e-01,  0.0000e+00],\n         [-7.6711e-04,  2.0558e-01]],\n\n        [[ 1.9252e-01,  0.0000e+00],\n         [-2.6755e-03,  1.8402e-01]],\n\n        [[ 2.2831e-01,  0.0000e+00],\n         [-2.1255e-03,  2.2949e-01]],\n\n        [[ 4.4587e+00,  0.0000e+00],\n         [ 6.4631e-02,  6.5788e+00]],\n\n        [[ 3.4153e-01,  0.0000e+00],\n         [ 2.7900e-02,  3.7303e-01]],\n\n        [[ 1.1356e+02,  0.0000e+00],\n         [ 1.5314e-01,  1.2469e+02]],\n\n        [[ 3.7363e+00,  0.0000e+00],\n         [ 6.5080e-02,  4.5557e+00]],\n\n        [[ 1.5907e-01,  0.0000e+00],\n         [ 4.0216e-03,  1.6117e-01]],\n\n        [[ 1.9467e-01,  0.0000e+00],\n         [-6.5716e-04,  1.9238e-01]],\n\n        [[ 7.6037e+00,  0.0000e+00],\n         [ 6.4631e-02,  9.9072e+00]],\n\n        [[ 1.7700e-01,  0.0000e+00],\n         [-7.1838e-03,  1.9096e-01]],\n\n        [[ 1.2737e-01,  0.0000e+00],\n         [ 4.5758e-03,  1.2994e-01]],\n\n        [[ 1.2956e-01,  0.0000e+00],\n         [ 8.3875e-03,  1.3299e-01]],\n\n        [[ 1.3733e-01,  0.0000e+00],\n         [ 2.3596e-03,  1.4123e-01]],\n\n        [[ 2.2397e-01,  0.0000e+00],\n         [-1.7408e-03,  2.1890e-01]],\n\n        [[ 1.7550e-01,  0.0000e+00],\n         [-3.6573e-04,  1.8782e-01]],\n\n        [[ 1.3565e-01,  0.0000e+00],\n         [-6.7605e-03,  1.5210e-01]],\n\n        [[ 1.5169e-01,  0.0000e+00],\n         [-1.2325e-02,  1.7525e-01]],\n\n        [[ 1.6392e-01,  0.0000e+00],\n         [ 4.5796e-04,  1.6843e-01]],\n\n        [[ 1.7409e-01,  0.0000e+00],\n         [-7.8622e-03,  1.8571e-01]],\n\n        [[ 1.3760e-01,  0.0000e+00],\n         [ 1.0411e-03,  1.4006e-01]],\n\n        [[ 1.9253e-01,  0.0000e+00],\n         [-1.9268e-03,  1.9162e-01]],\n\n        [[ 1.4284e-01,  0.0000e+00],\n         [-4.3293e-03,  1.4260e-01]],\n\n        [[        inf,         nan],\n         [        nan,         inf]],\n\n        [[ 1.9441e-01,  0.0000e+00],\n         [-2.0877e-03,  2.3346e-01]],\n\n        [[ 1.5171e-01,  0.0000e+00],\n         [ 1.6249e-03,  1.7240e-01]],\n\n        [[ 1.9593e-01,  0.0000e+00],\n         [ 5.5945e-04,  2.0072e-01]],\n\n        [[ 1.4313e-01,  0.0000e+00],\n         [-5.6293e-04,  1.4943e-01]],\n\n        [[ 1.3659e-01,  0.0000e+00],\n         [-4.2419e-04,  1.3560e-01]],\n\n        [[ 1.4496e-01,  0.0000e+00],\n         [ 9.3691e-03,  1.4341e-01]],\n\n        [[ 1.4107e-01,  0.0000e+00],\n         [-7.1808e-03,  1.4055e-01]],\n\n        [[ 1.6212e-01,  0.0000e+00],\n         [-5.6341e-04,  1.6101e-01]],\n\n        [[ 1.7445e-01,  0.0000e+00],\n         [-1.2855e-03,  1.8550e-01]],\n\n        [[ 1.2208e-01,  0.0000e+00],\n         [ 3.9204e-03,  1.2739e-01]],\n\n        [[ 1.6342e-01,  0.0000e+00],\n         [ 2.3127e-03,  1.7080e-01]],\n\n        [[ 1.3190e-01,  0.0000e+00],\n         [ 2.5048e-03,  1.3421e-01]],\n\n        [[ 1.3717e-01,  0.0000e+00],\n         [ 1.3440e-03,  1.5056e-01]],\n\n        [[ 1.4476e-01,  0.0000e+00],\n         [ 4.5590e-03,  1.4257e-01]],\n\n        [[ 1.7171e-01,  0.0000e+00],\n         [ 2.3939e-03,  1.7279e-01]],\n\n        [[ 1.8797e-01,  0.0000e+00],\n         [ 2.6117e-03,  1.9708e-01]],\n\n        [[ 1.4145e-01,  0.0000e+00],\n         [ 3.4596e-03,  1.4023e-01]],\n\n        [[ 1.5058e-01,  0.0000e+00],\n         [-2.5266e-03,  1.5407e-01]],\n\n        [[ 1.5560e-01,  0.0000e+00],\n         [ 3.5786e-03,  1.5734e-01]],\n\n        [[ 1.2725e-01,  0.0000e+00],\n         [ 2.9237e-03,  1.3040e-01]],\n\n        [[ 1.8633e-01,  0.0000e+00],\n         [-2.2025e-03,  1.8898e-01]],\n\n        [[ 1.4717e-01,  0.0000e+00],\n         [ 8.4558e-04,  1.5692e-01]],\n\n        [[ 1.4083e-01,  0.0000e+00],\n         [ 4.3735e-03,  1.3966e-01]],\n\n        [[ 2.1020e-01,  0.0000e+00],\n         [-5.3146e-03,  2.0868e-01]],\n\n        [[ 1.6164e-01,  0.0000e+00],\n         [-7.0506e-04,  1.5952e-01]],\n\n        [[ 1.7136e-01,  0.0000e+00],\n         [ 1.4419e-02,  1.5918e-01]],\n\n        [[ 1.7464e-01,  0.0000e+00],\n         [-1.1232e-03,  1.7199e-01]],\n\n        [[ 1.2771e-01,  0.0000e+00],\n         [-4.7313e-04,  1.4384e-01]],\n\n        [[ 1.7153e-01,  0.0000e+00],\n         [ 5.8942e-03,  1.6476e-01]],\n\n        [[ 2.1877e-01,  0.0000e+00],\n         [-3.4684e-03,  2.2119e-01]],\n\n        [[ 1.5357e-01,  0.0000e+00],\n         [-8.1931e-04,  1.5220e-01]],\n\n        [[ 6.5338e+01,  0.0000e+00],\n         [ 1.3955e-01,  7.2182e+01]],\n\n        [[ 1.7982e-01,  0.0000e+00],\n         [ 4.3752e-03,  1.7507e-01]],\n\n        [[ 7.1057e-01,  0.0000e+00],\n         [ 3.9979e-02,  7.6572e-01]],\n\n        [[ 1.6902e-01,  0.0000e+00],\n         [ 1.4170e-02,  1.8180e-01]],\n\n        [[ 1.7398e-01,  0.0000e+00],\n         [ 6.5255e-03,  1.6988e-01]],\n\n        [[ 2.0056e-01,  0.0000e+00],\n         [ 1.0415e-03,  2.0708e-01]],\n\n        [[ 1.6574e-01,  0.0000e+00],\n         [ 4.1182e-03,  1.7185e-01]],\n\n        [[ 1.5703e-01,  0.0000e+00],\n         [-6.4782e-03,  1.6641e-01]],\n\n        [[ 1.6234e-01,  0.0000e+00],\n         [ 5.1680e-03,  1.5882e-01]],\n\n        [[ 1.4056e-01,  0.0000e+00],\n         [ 2.5430e-03,  1.4841e-01]],\n\n        [[ 1.5009e-01,  0.0000e+00],\n         [ 2.6355e-03,  1.6318e-01]],\n\n        [[ 1.5117e-01,  0.0000e+00],\n         [-4.5506e-03,  1.6617e-01]],\n\n        [[ 1.5982e-01,  0.0000e+00],\n         [ 2.9018e-04,  1.7420e-01]],\n\n        [[ 1.4242e-01,  0.0000e+00],\n         [-1.5064e-02,  1.4977e-01]],\n\n        [[ 1.5856e-01,  0.0000e+00],\n         [ 2.8071e-03,  1.7139e-01]],\n\n        [[ 1.9258e-01,  0.0000e+00],\n         [-4.6046e-03,  1.9682e-01]],\n\n        [[ 1.5499e-01,  0.0000e+00],\n         [ 4.5240e-03,  1.5729e-01]],\n\n        [[ 1.6693e-01,  0.0000e+00],\n         [-1.1557e-03,  1.6383e-01]],\n\n        [[ 2.0290e-01,  0.0000e+00],\n         [-1.6966e-03,  2.0705e-01]],\n\n        [[ 1.6866e-01,  0.0000e+00],\n         [ 3.2220e-03,  1.8170e-01]],\n\n        [[ 1.8708e-01,  0.0000e+00],\n         [ 4.4372e-04,  2.0375e-01]],\n\n        [[ 1.6397e-01,  0.0000e+00],\n         [ 6.9067e-03,  1.6153e-01]],\n\n        [[ 1.5200e-01,  0.0000e+00],\n         [-4.9966e-03,  1.6558e-01]],\n\n        [[ 1.4887e-01,  0.0000e+00],\n         [-2.0616e-03,  1.4472e-01]],\n\n        [[ 2.2213e-01,  0.0000e+00],\n         [ 7.9875e-04,  2.7606e-01]],\n\n        [[ 1.8508e-01,  0.0000e+00],\n         [ 6.1011e-03,  1.7360e-01]],\n\n        [[ 2.0153e-01,  0.0000e+00],\n         [-9.8959e-04,  2.0098e-01]],\n\n        [[ 5.1441e-01,  0.0000e+00],\n         [ 3.2997e-02,  5.8602e-01]],\n\n        [[ 1.4092e-01,  0.0000e+00],\n         [-9.8215e-04,  1.3815e-01]],\n\n        [[ 1.6815e-01,  0.0000e+00],\n         [-5.8622e-03,  1.6000e-01]],\n\n        [[ 1.4110e-01,  0.0000e+00],\n         [ 3.7998e-03,  1.4532e-01]],\n\n        [[ 3.1867e-01,  0.0000e+00],\n         [-2.4755e-03,  3.4526e-01]],\n\n        [[ 1.2567e-01,  0.0000e+00],\n         [ 1.0644e-03,  1.3245e-01]],\n\n        [[ 1.3961e-01,  0.0000e+00],\n         [-4.6986e-04,  1.4306e-01]],\n\n        [[ 1.2833e-01,  0.0000e+00],\n         [-1.7244e-03,  1.4279e-01]],\n\n        [[ 1.9184e-01,  0.0000e+00],\n         [-2.4742e-03,  1.8943e-01]],\n\n        [[ 1.5266e-01,  0.0000e+00],\n         [ 3.7705e-03,  1.4976e-01]],\n\n        [[ 1.4637e-01,  0.0000e+00],\n         [-5.9531e-03,  1.4748e-01]],\n\n        [[ 1.3667e-01,  0.0000e+00],\n         [ 1.8477e-03,  1.4209e-01]],\n\n        [[ 1.9508e-01,  0.0000e+00],\n         [ 1.6579e-03,  2.0333e-01]],\n\n        [[ 1.5303e-01,  0.0000e+00],\n         [-7.2118e-03,  1.5130e-01]],\n\n        [[ 1.8708e-01,  0.0000e+00],\n         [-1.3512e-03,  2.0249e-01]],\n\n        [[ 2.0029e-01,  0.0000e+00],\n         [ 5.0072e-04,  2.0925e-01]],\n\n        [[ 1.5507e-01,  0.0000e+00],\n         [-6.2239e-05,  1.5652e-01]],\n\n        [[ 1.4886e-01,  0.0000e+00],\n         [-4.1084e-03,  1.4666e-01]],\n\n        [[ 1.3068e-01,  0.0000e+00],\n         [ 1.0641e-03,  1.4271e-01]]], device='cuda:0',\n       grad_fn=<ExpandBackward0>)"
     ]
    }
   ],
   "source": [
    "nll_losses, rmse = fit_gaussian_patch_predictor(model2, dataset, n_steps=1000)"
   ]
  },
  {
   "cell_type": "markdown",
   "metadata": {},
   "source": [
    "### Evaluate on the test dataset"
   ]
  },
  {
   "cell_type": "code",
   "execution_count": 17,
   "metadata": {},
   "outputs": [],
   "source": [
    "nn_errors, com_errors, nn_distances, com_distances = eval_gaussian_model(model2, test_dataset)"
   ]
  },
  {
   "cell_type": "code",
   "execution_count": 18,
   "metadata": {},
   "outputs": [
    {
     "name": "stdout",
     "output_type": "stream",
     "text": [
      "nn_distances.mean()=1.9013391279655052\n",
      "com_distances.mean()=0.9745157531233294\n"
     ]
    }
   ],
   "source": [
    "print(f\"{nn_distances.mean()=}\")\n",
    "print(f\"{com_distances.mean()=}\")"
   ]
  },
  {
   "cell_type": "markdown",
   "metadata": {},
   "source": [
    "### Example plotting code"
   ]
  },
  {
   "cell_type": "code",
   "execution_count": 34,
   "metadata": {},
   "outputs": [
    {
     "data": {
      "image/png": "[encoded data removed]",
      "text/plain": [
       "<Figure size 1200x1000 with 2 Axes>"
      ]
     },
     "metadata": {},
     "output_type": "display_data"
    }
   ],
   "source": [
    "i = 11\n",
    "\n",
    "model2.eval()\n",
    "with torch.no_grad():\n",
    "    dist = model2(test_batch[\"pixel_patches\"].to(device))\n",
    "    predicted_points = dist.mean.cpu().numpy().squeeze()\n",
    "    covariances = dist.covariance_matrix.cpu().numpy().squeeze()\n",
    "    \n",
    "distances = ((dist.mean - test_batch[\"local_incidence_points_pixels\"].to(device)) ** 2).sum(-1).sqrt()\n",
    "    \n",
    "X, Y = np.meshgrid(\n",
    "    np.linspace(0, test_batch[\"pixel_patches\"][i].shape[0], 300),\n",
    "    np.linspace(0, test_batch[\"pixel_patches\"][i].shape[1], 300),\n",
    ")\n",
    "Z = scipy.stats.multivariate_normal.pdf(np.stack([X, Y], -1), mean=predicted_points[i], cov=covariances[i])\n",
    "\n",
    "fig, ax = plot_pixel_patch_and_points(\n",
    "    test_batch[\"pixel_patches\"][i].numpy(),\n",
    "    [\n",
    "        test_batch[\"local_incidence_points_pixels\"][i].numpy(),\n",
    "        test_batch[\"local_centers_of_mass_pixels\"][i].numpy(),\n",
    "        predicted_points[i]\n",
    "    ],\n",
    "    [\"True incidence point\", \"CoM estimate\", \"NN estimate\"],\n",
    "    Z\n",
    ")\n",
    "fig.set_size_inches(12, 10)\n",
    "fig.show()"
   ]
  }
 ],
 "metadata": {
  "kernelspec": {
   "display_name": "emsim",
   "language": "python",
   "name": "python3"
  },
  "language_info": {
   "codemirror_mode": {
    "name": "ipython",
    "version": 3
   },
   "file_extension": ".py",
   "mimetype": "text/x-python",
   "name": "python",
   "nbconvert_exporter": "python",
   "pygments_lexer": "ipython3",
   "version": "3.11.5"
  },
  "orig_nbformat": 4
 },
 "nbformat": 4,
 "nbformat_minor": 2
}
