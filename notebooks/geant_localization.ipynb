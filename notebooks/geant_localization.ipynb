{
 "cells": [
  {
   "cell_type": "code",
   "execution_count": 1,
   "metadata": {},
   "outputs": [],
   "source": [
    "import matplotlib.pyplot as plt\n",
    "import numpy as np\n",
    "import scipy\n",
    "import timm\n",
    "import torch\n",
    "import torch.nn.functional as F\n",
    "from torch import nn\n",
    "from torch.utils.data import DataLoader\n",
    "\n",
    "from emsim.geant.dataset import (\n",
    "    GeantElectronDataset,\n",
    "    electron_collate_fn,\n",
    "    plot_pixel_patch_and_points,\n",
    ")\n",
    "from emsim.geant.incidence_predictor import (\n",
    "    GaussianIncidencePointPredictor,\n",
    "    IncidencePointPredictor,\n",
    "    eval_gaussian_model,\n",
    "    eval_pointwise_model,\n",
    "    fit_gaussian_patch_predictor,\n",
    "    fit_pointwise_patch_predictor,\n",
    ")\n",
    "\n",
    "if torch.cuda.is_available():\n",
    "    device = \"cuda\"\n",
    "else:\n",
    "    device = \"cpu\""
   ]
  },
  {
   "cell_type": "code",
   "execution_count": 3,
   "metadata": {},
   "outputs": [],
   "source": [
    "pixels_file = \"../data/pixelated_5um_tracks_thinned_4um_back_20k_300keV.txt\"\n",
    "trajectory_file = \"../data/e300keV_thinned_4um_back_20k.txt\""
   ]
  },
  {
   "cell_type": "markdown",
   "metadata": {},
   "source": [
    "### This value controls the background noise level"
   ]
  },
  {
   "cell_type": "code",
   "execution_count": 4,
   "metadata": {},
   "outputs": [],
   "source": [
    "noise_std = 8"
   ]
  },
  {
   "cell_type": "markdown",
   "metadata": {},
   "source": [
    "### Create training and test datasets"
   ]
  },
  {
   "cell_type": "code",
   "execution_count": 5,
   "metadata": {},
   "outputs": [],
   "source": [
    "dataset = GeantElectronDataset(pixels_file, [128, 129], 7, noise_std=noise_std, trajectory_file=trajectory_file)\n",
    "test_dataset = GeantElectronDataset(pixels_file, [128, 129], 7, noise_std=noise_std, trajectory_file=trajectory_file, split=\"test\")"
   ]
  },
  {
   "cell_type": "markdown",
   "metadata": {},
   "source": [
    "### Generate a test batch for debugging and plotting later"
   ]
  },
  {
   "cell_type": "code",
   "execution_count": 6,
   "metadata": {},
   "outputs": [],
   "source": [
    "test_loader = DataLoader(test_dataset, 1, collate_fn=electron_collate_fn)\n",
    "test_batch = next(iter(test_loader))"
   ]
  },
  {
   "cell_type": "markdown",
   "metadata": {},
   "source": [
    "### This creates an instance of the non-uncertainty-aware incidence point predictor"
   ]
  },
  {
   "cell_type": "code",
   "execution_count": 7,
   "metadata": {},
   "outputs": [],
   "source": [
    "backbone = timm.create_model(\"resnet18\", in_chans=1, num_classes=0)\n",
    "model = IncidencePointPredictor(backbone).to(device)"
   ]
  },
  {
   "cell_type": "markdown",
   "metadata": {},
   "source": [
    "### Train the non-uncertainty-aware incidence point predictor"
   ]
  },
  {
   "cell_type": "code",
   "execution_count": 8,
   "metadata": {},
   "outputs": [
    {
     "name": "stderr",
     "output_type": "stream",
     "text": [
      "100%|██████████| 1000/1000 [06:17<00:00,  2.65it/s, loss=0.00542]\n"
     ]
    }
   ],
   "source": [
    "fit_pointwise_patch_predictor(model, dataset, n_steps=1000)"
   ]
  },
  {
   "cell_type": "markdown",
   "metadata": {},
   "source": [
    "### Evaluate it on the test dataset"
   ]
  },
  {
   "cell_type": "code",
   "execution_count": 9,
   "metadata": {},
   "outputs": [],
   "source": [
    "nn_errors, com_errors, nn_distances, com_distances = eval_pointwise_model(model, test_dataset)"
   ]
  },
  {
   "cell_type": "code",
   "execution_count": 10,
   "metadata": {},
   "outputs": [
    {
     "name": "stdout",
     "output_type": "stream",
     "text": [
      "nn_distances.mean()=0.7220473149486164\n",
      "com_distances.mean()=0.8323876620991825\n"
     ]
    }
   ],
   "source": [
    "# Print results\n",
    "print(f\"{nn_distances.mean()=}\")\n",
    "print(f\"{com_distances.mean()=}\")"
   ]
  },
  {
   "cell_type": "markdown",
   "metadata": {},
   "source": [
    "### Plot an example prediction from the test dataset"
   ]
  },
  {
   "cell_type": "code",
   "execution_count": 11,
   "metadata": {},
   "outputs": [
    {
     "data": {
      "image/png": "[encoded data removed]",
      "text/plain": [
       "<Figure size 1000x800 with 2 Axes>"
      ]
     },
     "metadata": {},
     "output_type": "display_data"
    }
   ],
   "source": [
    "# This selects which element from the test batch to plot\n",
    "i = 34\n",
    "\n",
    "\n",
    "model.eval()\n",
    "with torch.no_grad():\n",
    "    predicted_point = model(test_batch[\"pixel_patches\"][i].unsqueeze(0).to(device)).cpu().numpy().squeeze()\n",
    "    \n",
    "fig, ax = plot_pixel_patch_and_points(\n",
    "    test_batch[\"pixel_patches\"][i].numpy(),\n",
    "    [\n",
    "        test_batch[\"local_incidence_points_pixels\"][i].numpy(),\n",
    "        test_batch[\"local_centers_of_mass_pixels\"][i].numpy(),\n",
    "        predicted_point\n",
    "    ],\n",
    "    [\"True incidence point\", \"CoM estimate\", \"NN estimate\"],\n",
    ")\n",
    "fig.set_size_inches(10, 8)\n",
    "fig.show()"
   ]
  },
  {
   "cell_type": "markdown",
   "metadata": {},
   "source": [
    "### How long does inference take on the test batch?"
   ]
  },
  {
   "cell_type": "code",
   "execution_count": 12,
   "metadata": {},
   "outputs": [],
   "source": [
    "test_batch_input = test_batch[\"pixel_patches\"].to(device)"
   ]
  },
  {
   "cell_type": "code",
   "execution_count": 13,
   "metadata": {},
   "outputs": [
    {
     "name": "stdout",
     "output_type": "stream",
     "text": [
      "2.75 ms ± 450 µs per loop (mean ± std. dev. of 7 runs, 100 loops each)\n"
     ]
    }
   ],
   "source": [
    "%%timeit\n",
    "result = model(test_batch[\"pixel_patches\"].to(device))"
   ]
  },
  {
   "cell_type": "markdown",
   "metadata": {},
   "source": [
    "## Uncertainty-aware predictor"
   ]
  },
  {
   "cell_type": "markdown",
   "metadata": {},
   "source": [
    "### Create the backbone and model"
   ]
  },
  {
   "cell_type": "code",
   "execution_count": 14,
   "metadata": {},
   "outputs": [],
   "source": [
    "backbone = timm.create_model(\"resnet18\", in_chans=1, num_classes=0)\n",
    "model2 = GaussianIncidencePointPredictor(backbone).to(device)"
   ]
  },
  {
   "cell_type": "markdown",
   "metadata": {},
   "source": [
    "### Train the model"
   ]
  },
  {
   "cell_type": "code",
   "execution_count": 15,
   "metadata": {},
   "outputs": [
    {
     "name": "stderr",
     "output_type": "stream",
     "text": [
      "100%|██████████| 1000/1000 [05:41<00:00,  2.93it/s, loss=-.711, rmse=0.344]  \n"
     ]
    }
   ],
   "source": [
    "nll_losses, rmse = fit_gaussian_patch_predictor(model2, dataset, n_steps=1000)"
   ]
  },
  {
   "cell_type": "markdown",
   "metadata": {},
   "source": [
    "### Evaluate on the test dataset"
   ]
  },
  {
   "cell_type": "code",
   "execution_count": 16,
   "metadata": {},
   "outputs": [],
   "source": [
    "nn_errors, com_errors, nn_distances, com_distances = eval_gaussian_model(model2, test_dataset)"
   ]
  },
  {
   "cell_type": "code",
   "execution_count": 17,
   "metadata": {},
   "outputs": [
    {
     "name": "stdout",
     "output_type": "stream",
     "text": [
      "nn_distances.mean()=1.6936612814181171\n",
      "com_distances.mean()=0.8173109898253504\n"
     ]
    }
   ],
   "source": [
    "print(f\"{nn_distances.mean()=}\")\n",
    "print(f\"{com_distances.mean()=}\")"
   ]
  },
  {
   "cell_type": "markdown",
   "metadata": {},
   "source": [
    "### Plotting code"
   ]
  },
  {
   "cell_type": "code",
   "execution_count": 19,
   "metadata": {},
   "outputs": [
    {
     "data": {
      "image/png": "[encoded data removed]",
      "text/plain": [
       "<Figure size 1200x1000 with 2 Axes>"
      ]
     },
     "metadata": {},
     "output_type": "display_data"
    }
   ],
   "source": [
    "i = 11\n",
    "\n",
    "model2.eval()\n",
    "with torch.no_grad():\n",
    "    dist = model2(test_batch[\"pixel_patches\"].to(device))\n",
    "    predicted_points = dist.mean.cpu().numpy().squeeze()\n",
    "    covariances = dist.covariance_matrix.cpu().numpy().squeeze()\n",
    "    \n",
    "distances = ((dist.mean - test_batch[\"local_incidence_points_pixels\"].to(device)) ** 2).sum(-1).sqrt()\n",
    "    \n",
    "# # Look at the biggest outlier\n",
    "# i = distances.argmax()\n",
    "    \n",
    "X, Y = np.meshgrid(\n",
    "    np.linspace(0, test_batch[\"pixel_patches\"][i].shape[0], 300),\n",
    "    np.linspace(0, test_batch[\"pixel_patches\"][i].shape[1], 300),\n",
    ")\n",
    "Z = scipy.stats.multivariate_normal.pdf(np.stack([X, Y], -1), mean=predicted_points[i], cov=covariances[i])\n",
    "\n",
    "fig, ax = plot_pixel_patch_and_points(\n",
    "    test_batch[\"pixel_patches\"][i].numpy(),\n",
    "    [\n",
    "        test_batch[\"local_incidence_points_pixels\"][i].numpy(),\n",
    "        test_batch[\"local_centers_of_mass_pixels\"][i].numpy(),\n",
    "        predicted_points[i]\n",
    "    ],\n",
    "    [\"True incidence point\", \"CoM estimate\", \"NN estimate\"],\n",
    "    Z\n",
    ")\n",
    "fig.set_size_inches(12, 10)\n",
    "fig.show()"
   ]
  },
  {
   "cell_type": "code",
   "execution_count": null,
   "metadata": {},
   "outputs": [],
   "source": []
  }
 ],
 "metadata": {
  "kernelspec": {
   "display_name": "Python 3 (ipykernel)",
   "language": "python",
   "name": "python3"
  },
  "language_info": {
   "codemirror_mode": {
    "name": "ipython",
    "version": 3
   },
   "file_extension": ".py",
   "mimetype": "text/x-python",
   "name": "python",
   "nbconvert_exporter": "python",
   "pygments_lexer": "ipython3",
   "version": "3.10.9"
  }
 },
 "nbformat": 4,
 "nbformat_minor": 4
}
