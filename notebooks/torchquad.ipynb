{
 "cells": [
  {
   "cell_type": "code",
   "execution_count": 1,
   "metadata": {},
   "outputs": [],
   "source": [
    "import scipy\n",
    "import numpy as np\n",
    "from typing import Optional, Union\n",
    "from loguru import logger\n",
    "import sys\n",
    "import time\n",
    "\n",
    "import matplotlib.pyplot as plt\n",
    "from scipy.stats import levy_stable\n",
    "\n",
    "from functools import partial\n",
    "\n",
    "import torch\n",
    "import torchquad\n",
    "\n",
    "import pyro.distributions as dist\n",
    "from pyro.distributions import Stable\n",
    "import pyro\n",
    "\n",
    "from torchquad import set_up_backend, Trapezoid, Simpson, Boole, MonteCarlo, VEGAS, GaussLegendre, IntegrationGrid\n",
    "from torchquad.utils.set_precision import set_precision\n",
    "\n",
    "from emsim.stable_dist import Batch1DIntegrator\n",
    "from emsim.stable_dist.pdf import _V, _theta_0, _zeta, stable_standard_density\n",
    "from emsim.stable_dist.pdf_2 import standard_density_2\n",
    "from emsim.stable_dist.pdf_old import stable_standard_density_old\n",
    "# from emsim.stable_dist.pyro_dist import StableWithLogProb"
   ]
  },
  {
   "cell_type": "code",
   "execution_count": 15,
   "metadata": {},
   "outputs": [],
   "source": [
    "class StableWithLogProb(Stable):\n",
    "    def __init__(self, stability, skew, scale=1, loc=0, coords=\"S0\", validate_args=None):\n",
    "        super().__init__(stability, skew, scale, loc, coords, validate_args)\n",
    "        self._integrator = Batch1DIntegrator()\n",
    "        self._integrate_fn = None\n",
    "        \n",
    "    def log_prob(self, value, integrator_N_gridpoints=501):\n",
    "        if self._validate_args:\n",
    "            self._validate_sample(value)\n",
    "\n",
    "        value = (value - self.loc) / self.scale\n",
    "        if self.coords == \"S0\":\n",
    "            zeta = _zeta(self.stability, self.skew)\n",
    "            value = value - zeta\n",
    "        p = stable_standard_density_old(\n",
    "            value,\n",
    "            self.stability,\n",
    "            self.skew,\n",
    "            integrator_N_gridpoints=integrator_N_gridpoints,\n",
    "            integrator=self._integrator\n",
    "        )\n",
    "        p = p / self.scale\n",
    "        return p.log()\n",
    "    \n",
    "    def log_prob_2(self, value):\n",
    "        value = (value - self.loc) / self.scale\n",
    "        p = standard_density_2(value, self.stability, self.skew)\n",
    "        p = p / self.scale\n",
    "        return p.log()\n",
    "    \n",
    "    def log_prob_integrate_once(self, value, integrator_N_gridpoints=501):\n",
    "        if self._integrate_fn is None:\n",
    "            self._integrate_fn = self._integrator.get_jit_compiled_integrate(\n",
    "                dim=1, N=integrator_N_gridpoints\n",
    "            )\n",
    "        \n",
    "        value = (value - self.loc) / self.scale\n",
    "        if self.coords == \"S0\":\n",
    "            zeta = _zeta(self.stability, self.skew)\n",
    "            value = value - zeta\n",
    "        p = stable_standard_density(\n",
    "            value,\n",
    "            self.stability,\n",
    "            self.skew,\n",
    "            integrate_fn=self._integrate_fn\n",
    "        )\n",
    "        p = p / self.scale\n",
    "        return p.log()\n",
    "\n",
    "stable = StableWithLogProb(1.0, 0.0, scale=3., loc=0.)"
   ]
  },
  {
   "cell_type": "code",
   "execution_count": 25,
   "metadata": {},
   "outputs": [
    {
     "name": "stdout",
     "output_type": "stream",
     "text": [
      "pyro likelihood = tensor([0.0910, 0.0654, 0.0535, 0.0820, 0.0891, 0.0109, 0.0791, 0.0851, 0.0866,\n",
      "        0.0714], dtype=torch.float64)\n",
      "Time = 0.011824846267700195\n",
      "pyro likelihood (N=1001) = tensor([0.0910, 0.0654, 0.0535, 0.0820, 0.0891, 0.0109, 0.0791, 0.0851, 0.0866,\n",
      "        0.0714], dtype=torch.float64)\n",
      "Time = 0.004446268081665039\n",
      "pyro likelihood integrate once = tensor([0.0910, 0.0654, 0.0535, 0.0820, 0.0891, 0.0109, 0.0791, 0.0851, 0.0866,\n",
      "        0.0714], dtype=torch.float64)\n",
      "Time = 0.0018570423126220703\n",
      "scipy S1 likelihood = [0.09265054 0.06989632 0.04916155 0.07842857 0.09121308 0.01281841\n",
      " 0.08270244 0.08193286 0.08361902 0.067191  ]\n",
      "Time = 0.011184930801391602\n",
      "scipy S0 likelihood = [0.09104304 0.06540118 0.05346387 0.08199202 0.08909369 0.01086492\n",
      " 0.0790832  0.08514577 0.08662685 0.07140776]\n",
      "Time = 0.009859800338745117\n"
     ]
    }
   ],
   "source": [
    "# stable = StableWithLogProb(1.0, 0.0, scale=3., loc=0., coords=\"S0\")\n",
    "stable.stability = torch.tensor(1.9)\n",
    "stable.skew = torch.tensor(0.7)\n",
    "x = stable.sample((10,))\n",
    "# x = torch.tensor(0.0, dtype=torch.float64)\n",
    "# print(f\"{stable.coords=}\")\n",
    "# print(f\"{x=}\")\n",
    "\n",
    "t0 = time.time()\n",
    "print(f\"pyro likelihood = {stable.log_prob(x).exp()}\")\n",
    "print(f\"Time = {time.time() - t0}\")\n",
    "\n",
    "t0 = time.time()\n",
    "print(f\"pyro likelihood (N={(N:=1001)}) = {stable.log_prob(x, integrator_N_gridpoints=N).exp()}\")\n",
    "print(f\"Time = {time.time() - t0}\")\n",
    "\n",
    "t0 = time.time()\n",
    "print(f\"pyro likelihood integrate once = {stable.log_prob_integrate_once(x).exp()}\")\n",
    "print(f\"Time = {time.time() - t0}\")\n",
    "\n",
    "\n",
    "levy_stable.parameterization = \"S1\"\n",
    "t0 = time.time()\n",
    "print(f\"scipy S1 likelihood = {levy_stable.pdf(x.numpy(), stable.stability.item(), stable.skew.item(), loc=stable.loc.item(), scale=stable.scale.item())}\")\n",
    "print(f\"Time = {time.time() - t0}\")\n",
    "\n",
    "levy_stable.parameterization = \"S0\"\n",
    "t0 = time.time()\n",
    "print(f\"scipy S0 likelihood = {levy_stable.pdf(x.numpy(), stable.stability.item(), stable.skew.item(), loc=stable.loc.item(), scale=stable.scale.item())}\")\n",
    "print(f\"Time = {time.time() - t0}\")"
   ]
  },
  {
   "cell_type": "code",
   "execution_count": 27,
   "metadata": {},
   "outputs": [],
   "source": [
    "x = stable.sample((1000,))"
   ]
  },
  {
   "cell_type": "code",
   "execution_count": 21,
   "metadata": {},
   "outputs": [
    {
     "name": "stdout",
     "output_type": "stream",
     "text": [
      "100 ms ± 4.12 ms per loop (mean ± std. dev. of 7 runs, 10 loops each)\n"
     ]
    }
   ],
   "source": [
    "%%timeit\n",
    "stable.log_prob(x)"
   ]
  },
  {
   "cell_type": "code",
   "execution_count": 22,
   "metadata": {},
   "outputs": [
    {
     "name": "stdout",
     "output_type": "stream",
     "text": [
      "117 ms ± 7.21 ms per loop (mean ± std. dev. of 7 runs, 10 loops each)\n"
     ]
    }
   ],
   "source": [
    "%%timeit\n",
    "stable.log_prob_integrate_once(x)"
   ]
  },
  {
   "cell_type": "code",
   "execution_count": 23,
   "metadata": {},
   "outputs": [
    {
     "name": "stdout",
     "output_type": "stream",
     "text": [
      "710 ms ± 6.31 ms per loop (mean ± std. dev. of 7 runs, 1 loop each)\n"
     ]
    }
   ],
   "source": [
    "%%timeit\n",
    "levy_stable.pdf(x.numpy(), stable.stability.item(), stable.skew.item(), loc=stable.loc.item(), scale=stable.scale.item())"
   ]
  },
  {
   "cell_type": "code",
   "execution_count": 10,
   "metadata": {},
   "outputs": [
    {
     "name": "stderr",
     "output_type": "stream",
     "text": [
      "/Users/mawright/micromamba/envs/emsim/lib/python3.11/site-packages/autoray/autoray.py:80: UserWarning: To copy construct from a tensor, it is recommended to use sourceTensor.clone().detach() or sourceTensor.clone().detach().requires_grad_(True), rather than torch.tensor(sourceTensor).\n",
      "  return get_lib_fn(backend, fn)(*args, **kwargs)\n",
      "/Users/mawright/micromamba/envs/emsim/lib/python3.11/site-packages/torchquad/integration/utils.py:255: UserWarning: DEPRECATION WARNING: In future versions of torchquad, an array-like object will be returned.\n",
      "  warnings.warn(\n"
     ]
    },
    {
     "data": {
      "text/plain": [
       "tensor([0.2581], dtype=torch.float64)"
      ]
     },
     "execution_count": 10,
     "metadata": {},
     "output_type": "execute_result"
    }
   ],
   "source": [
    "temp = x\n",
    "zeta = _zeta(torch.tensor(1.2), torch.tensor(.8))\n",
    "temp = (temp - 2) / 3\n",
    "temp = temp - zeta\n",
    "stable_standard_density_old(temp, torch.tensor(1.2), torch.tensor(0.8))"
   ]
  },
  {
   "cell_type": "code",
   "execution_count": null,
   "metadata": {},
   "outputs": [],
   "source": [
    "zeta = -2.4621\n",
    "x0 = .24086666\n",
    "xi = 0.98749974134\n",
    "c2 = 0.8598012431"
   ]
  },
  {
   "cell_type": "code",
   "execution_count": null,
   "metadata": {},
   "outputs": [],
   "source": []
  },
  {
   "cell_type": "code",
   "execution_count": 47,
   "metadata": {},
   "outputs": [
    {
     "data": {
      "text/plain": [
       "tensor(0.1003)"
      ]
     },
     "execution_count": 47,
     "metadata": {},
     "output_type": "execute_result"
    }
   ],
   "source": [
    "dist.Cauchy(2., 3.).log_prob(torch.tensor(2.7226)).exp()"
   ]
  },
  {
   "cell_type": "code",
   "execution_count": 53,
   "metadata": {},
   "outputs": [],
   "source": [
    "def levy_stable_pdf_with_params(x, pyro_dist: Stable):\n",
    "    return levy_stable.pdf(x, pyro_dist.stability.item(), pyro_dist.skew.item(), loc=pyro_dist.loc.item(), scale=pyro_dist.scale.item())"
   ]
  },
  {
   "cell_type": "code",
   "execution_count": 56,
   "metadata": {},
   "outputs": [
    {
     "data": {
      "text/plain": [
       "(1.0000000170194838, 1.464015531027485e-08)"
      ]
     },
     "execution_count": 56,
     "metadata": {},
     "output_type": "execute_result"
    }
   ],
   "source": [
    "scipy.integrate.quad(partial(levy_stable_pdf_with_params, pyro_dist=stable), -np.inf, np.inf)"
   ]
  },
  {
   "cell_type": "code",
   "execution_count": 52,
   "metadata": {},
   "outputs": [
    {
     "data": {
      "text/plain": [
       "tensor(10558.7266, dtype=torch.float64)"
      ]
     },
     "execution_count": 52,
     "metadata": {},
     "output_type": "execute_result"
    }
   ],
   "source": [
    "integrator = GaussLegendre()\n",
    "integrator.integrate(pyro_dist)"
   ]
  },
  {
   "cell_type": "code",
   "execution_count": 11,
   "metadata": {},
   "outputs": [
    {
     "data": {
      "text/plain": [
       "0.10690703988075256"
      ]
     },
     "execution_count": 11,
     "metadata": {},
     "output_type": "execute_result"
    }
   ],
   "source": [
    "stable.log_prob(value).exp().item() / stable.scale.item()"
   ]
  },
  {
   "cell_type": "code",
   "execution_count": 12,
   "metadata": {},
   "outputs": [
    {
     "data": {
      "text/plain": [
       "0.12045776512240929"
      ]
     },
     "execution_count": 12,
     "metadata": {},
     "output_type": "execute_result"
    }
   ],
   "source": [
    "levy_stable.parameterization = \"S0\"\n",
    "levy_stable.pdf(value.item(), stable.stability.item(), stable.skew.item(), loc=stable.loc.item(), scale=stable.scale.item())"
   ]
  },
  {
   "cell_type": "code",
   "execution_count": 11,
   "metadata": {},
   "outputs": [
    {
     "data": {
      "text/plain": [
       "tensor(1.)"
      ]
     },
     "execution_count": 11,
     "metadata": {},
     "output_type": "execute_result"
    }
   ],
   "source": [
    "stable.scale"
   ]
  },
  {
   "cell_type": "code",
   "execution_count": 10,
   "metadata": {},
   "outputs": [
    {
     "ename": "NameError",
     "evalue": "name 'p' is not defined",
     "output_type": "error",
     "traceback": [
      "\u001b[0;31m---------------------------------------------------------------------------\u001b[0m",
      "\u001b[0;31mNameError\u001b[0m                                 Traceback (most recent call last)",
      "\u001b[1;32m/Users/mawright/Code/emsim/notebooks/torchquad.ipynb Cell 6\u001b[0m line \u001b[0;36m1\n\u001b[0;32m----> <a href='vscode-notebook-cell:/Users/mawright/Code/emsim/notebooks/torchquad.ipynb#W5sZmlsZQ%3D%3D?line=0'>1</a>\u001b[0m p\u001b[39m.\u001b[39mexp()\n",
      "\u001b[0;31mNameError\u001b[0m: name 'p' is not defined"
     ]
    }
   ],
   "source": [
    "p.exp()"
   ]
  },
  {
   "cell_type": "code",
   "execution_count": 2,
   "metadata": {},
   "outputs": [
    {
     "name": "stderr",
     "output_type": "stream",
     "text": [
      "11:07:06|TQ-WARNING| Error enabling CUDA. cuda.is_available() returned False. CPU will be used.\n"
     ]
    }
   ],
   "source": [
    "set_up_backend(\"torch\", \"float64\")"
   ]
  },
  {
   "cell_type": "code",
   "execution_count": 3,
   "metadata": {},
   "outputs": [],
   "source": [
    "integration_domain_eps = 0"
   ]
  },
  {
   "cell_type": "code",
   "execution_count": 4,
   "metadata": {},
   "outputs": [],
   "source": [
    "## Simple integrand for example"
   ]
  },
  {
   "cell_type": "code",
   "execution_count": 5,
   "metadata": {},
   "outputs": [],
   "source": [
    "f = torch.rand((3,))\n",
    "x0 = torch.randn((3,))\n",
    "xT = x0 + torch.rand((3,)) * 2\n",
    "gl = GaussLegendre()"
   ]
  },
  {
   "cell_type": "code",
   "execution_count": 6,
   "metadata": {},
   "outputs": [
    {
     "data": {
      "text/plain": [
       "tensor([1.4118, 0.2026, 0.4939])"
      ]
     },
     "execution_count": 6,
     "metadata": {},
     "output_type": "execute_result"
    }
   ],
   "source": [
    "def true_result(x0, xT, f):\n",
    "    def antiderivative(x, f):\n",
    "        return (1 / f) * torch.sin(f * x)\n",
    "    return antiderivative(xT, f) - antiderivative(x0, f)\n",
    "true_result(x0, xT, f)"
   ]
  },
  {
   "cell_type": "code",
   "execution_count": 7,
   "metadata": {},
   "outputs": [],
   "source": [
    "def test_simple_integrand_1d(x, i):\n",
    "    return torch.cos(f[i] * x)"
   ]
  },
  {
   "cell_type": "code",
   "execution_count": 8,
   "metadata": {},
   "outputs": [
    {
     "name": "stdout",
     "output_type": "stream",
     "text": [
      "onebyone_result=[tensor(1.4118), tensor(0.2026), tensor(0.4939)]\n"
     ]
    },
    {
     "name": "stderr",
     "output_type": "stream",
     "text": [
      "/Users/mawright/micromamba/envs/emsim/lib/python3.11/site-packages/torch/functional.py:504: UserWarning: torch.meshgrid: in an upcoming release, it will be required to pass the indexing argument. (Triggered internally at /Users/runner/work/_temp/anaconda/conda-bld/pytorch_1682343668887/work/aten/src/ATen/native/TensorShape.cpp:3484.)\n",
      "  return _VF.meshgrid(tensors, **kwargs)  # type: ignore[attr-defined]\n",
      "/Users/mawright/micromamba/envs/emsim/lib/python3.11/site-packages/autoray/autoray.py:80: UserWarning: To copy construct from a tensor, it is recommended to use sourceTensor.clone().detach() or sourceTensor.clone().detach().requires_grad_(True), rather than torch.tensor(sourceTensor).\n",
      "  return get_lib_fn(backend, fn)(*args, **kwargs)\n",
      "/Users/mawright/micromamba/envs/emsim/lib/python3.11/site-packages/torchquad/integration/utils.py:255: UserWarning: DEPRECATION WARNING: In future versions of torchquad, an array-like object will be returned.\n",
      "  warnings.warn(\n"
     ]
    }
   ],
   "source": [
    "onebyone_result = []\n",
    "for i in range(3):\n",
    "    out = gl.integrate(partial(test_simple_integrand_1d, i=i), 1, 101, torch.tensor([[x0[i], xT[i]]]))\n",
    "    onebyone_result.append(out)\n",
    "print(f\"{onebyone_result=}\")"
   ]
  },
  {
   "cell_type": "code",
   "execution_count": 9,
   "metadata": {},
   "outputs": [],
   "source": [
    "def test_simple_integrand(x):\n",
    "    return torch.cos(f * x)"
   ]
  },
  {
   "cell_type": "code",
   "execution_count": 10,
   "metadata": {},
   "outputs": [
    {
     "data": {
      "text/plain": [
       "tensor([1.4118, 0.2026, 0.4939])"
      ]
     },
     "execution_count": 10,
     "metadata": {},
     "output_type": "execute_result"
    }
   ],
   "source": [
    "b1d = Batch1DIntegrator()\n",
    "b1d.integrate(test_simple_integrand, 1, 101, torch.stack([x0, xT], -1))"
   ]
  },
  {
   "cell_type": "code",
   "execution_count": 11,
   "metadata": {},
   "outputs": [
    {
     "name": "stdout",
     "output_type": "stream",
     "text": [
      "x=tensor([11.8309,  0.5035,  2.5369])\n"
     ]
    }
   ],
   "source": [
    "dim = 3\n",
    "# alpha = torch.rand((dim,)) * 2\n",
    "# beta = torch.rand((dim,)) * 2 - 1\n",
    "\n",
    "# alpha = alpha.double()\n",
    "# beta = beta.double()\n",
    "\n",
    "alpha = torch.tensor([.3497, .1555, .5036])\n",
    "beta = torch.tensor([.6367, .6049, .8645])\n",
    "\n",
    "theta_0 = _theta_0(alpha, beta)\n",
    "domain = torch.stack([-theta_0, theta_0.new_full(theta_0.shape, torch.pi / 2)], -1)\n",
    "\n",
    "# x = dist.Stable(alpha, beta).sample().abs()\n",
    "value = torch.tensor([11.8309, 0.5035, 2.5369])\n",
    "print(f\"{value=}\")"
   ]
  },
  {
   "cell_type": "code",
   "execution_count": 12,
   "metadata": {},
   "outputs": [
    {
     "data": {
      "text/plain": [
       "tensor([0.0064, 0.0923, 0.0735])"
      ]
     },
     "execution_count": 12,
     "metadata": {},
     "output_type": "execute_result"
    }
   ],
   "source": [
    "stable_standard_density_old(value, alpha, beta)"
   ]
  },
  {
   "cell_type": "code",
   "execution_count": 15,
   "metadata": {},
   "outputs": [
    {
     "name": "stdout",
     "output_type": "stream",
     "text": [
      "[0.0064064984508115895, 0.0922659518550362, 0.07351105417998094]\n"
     ]
    }
   ],
   "source": [
    "scipy_pdf_values = []\n",
    "for x_i, a_i, b_i in zip(value.numpy(), alpha.numpy(), beta.numpy()):\n",
    "    out = levy_stable.pdf(x_i, a_i, b_i)\n",
    "    scipy_pdf_values.append(out)\n",
    "print(scipy_pdf_values)"
   ]
  },
  {
   "cell_type": "code",
   "execution_count": 214,
   "metadata": {},
   "outputs": [],
   "source": [
    "def test_integrand_1d(theta, i):\n",
    "    V = _V(theta, alpha[i], beta[i], theta_0[i])\n",
    "    # print(f\"{V=}\")\n",
    "    out = V * torch.exp(- value[i] ** (alpha[i] / (alpha[i] - 1)) * V)\n",
    "    # print(f\"{out=}\")\n",
    "    return out"
   ]
  },
  {
   "cell_type": "code",
   "execution_count": 216,
   "metadata": {},
   "outputs": [
    {
     "name": "stdout",
     "output_type": "stream",
     "text": [
      "2023-10-03 10:12:54.360 | DEBUG    | torchquad.integration.utils:_setup_integration_domain:112 - Setting up integration domain.\n",
      "2023-10-03 10:12:54.360 | DEBUG    | torchquad.integration.base_integrator:_check_inputs:105 - Checking inputs to Integrator.\n",
      "2023-10-03 10:12:54.361 | DEBUG    | torchquad.integration.grid_integrator:calculate_grid:122 - Creating a grid for GaussLegendre to integrate a function with 101 points over tensor([[-1.0628,  1.5708]]).\n",
      "2023-10-03 10:12:54.362 | DEBUG    | torchquad.integration.integration_grid:_check_inputs:110 - Checking inputs to IntegrationGrid.\n",
      "2023-10-03 10:12:54.363 | DEBUG    | torchquad.integration.integration_grid:__init__:66 - Creating 1-dimensional integration grid with 101 points over tensor([[-1.0628,  1.5708]])\n",
      "2023-10-03 10:12:54.366 | DEBUG    | torchquad.integration.integration_grid:__init__:95 - Grid mesh width is tensor([0.0016])\n",
      "2023-10-03 10:12:54.368 | INFO     | torchquad.integration.integration_grid:__init__:103 - Integration grid created.\n",
      "2023-10-03 10:12:54.369 | DEBUG    | torchquad.integration.grid_integrator:integrate:48 - Evaluating integrand on the grid.\n",
      "2023-10-03 10:12:54.372 | DEBUG    | torchquad.integration.grid_integrator:calculate_result:89 - Computing areas.\n",
      "2023-10-03 10:12:54.372 | INFO     | torchquad.integration.grid_integrator:calculate_result:95 - Computed integral: tensor([[1.6720]])\n",
      "[tensor(1.6720)]\n",
      "2023-10-03 10:12:54.375 | DEBUG    | torchquad.integration.utils:_setup_integration_domain:112 - Setting up integration domain.\n",
      "2023-10-03 10:12:54.376 | DEBUG    | torchquad.integration.base_integrator:_check_inputs:105 - Checking inputs to Integrator.\n",
      "2023-10-03 10:12:54.377 | DEBUG    | torchquad.integration.grid_integrator:calculate_grid:122 - Creating a grid for GaussLegendre to integrate a function with 101 points over tensor([[-0.9623,  1.5708]]).\n",
      "2023-10-03 10:12:54.379 | DEBUG    | torchquad.integration.integration_grid:_check_inputs:110 - Checking inputs to IntegrationGrid.\n",
      "2023-10-03 10:12:54.379 | DEBUG    | torchquad.integration.integration_grid:__init__:66 - Creating 1-dimensional integration grid with 101 points over tensor([[-0.9623,  1.5708]])\n",
      "2023-10-03 10:12:54.381 | DEBUG    | torchquad.integration.integration_grid:__init__:95 - Grid mesh width is tensor([0.0015])\n",
      "2023-10-03 10:12:54.383 | INFO     | torchquad.integration.integration_grid:__init__:103 - Integration grid created.\n",
      "2023-10-03 10:12:54.384 | DEBUG    | torchquad.integration.grid_integrator:integrate:48 - Evaluating integrand on the grid.\n",
      "2023-10-03 10:12:54.387 | DEBUG    | torchquad.integration.grid_integrator:calculate_result:89 - Computing areas.\n",
      "2023-10-03 10:12:54.388 | INFO     | torchquad.integration.grid_integrator:calculate_result:95 - Computed integral: tensor([[0.6985]])\n",
      "[tensor(1.6720), tensor(0.6985)]\n",
      "2023-10-03 10:12:54.390 | DEBUG    | torchquad.integration.utils:_setup_integration_domain:112 - Setting up integration domain.\n",
      "2023-10-03 10:12:54.391 | DEBUG    | torchquad.integration.base_integrator:_check_inputs:105 - Checking inputs to Integrator.\n",
      "2023-10-03 10:12:54.392 | DEBUG    | torchquad.integration.grid_integrator:calculate_grid:122 - Creating a grid for GaussLegendre to integrate a function with 101 points over tensor([[-1.4266,  1.5708]]).\n",
      "2023-10-03 10:12:54.394 | DEBUG    | torchquad.integration.integration_grid:_check_inputs:110 - Checking inputs to IntegrationGrid.\n",
      "2023-10-03 10:12:54.395 | DEBUG    | torchquad.integration.integration_grid:__init__:66 - Creating 1-dimensional integration grid with 101 points over tensor([[-1.4266,  1.5708]])\n",
      "2023-10-03 10:12:54.398 | DEBUG    | torchquad.integration.integration_grid:__init__:95 - Grid mesh width is tensor([0.0018])\n",
      "2023-10-03 10:12:54.400 | INFO     | torchquad.integration.integration_grid:__init__:103 - Integration grid created.\n",
      "2023-10-03 10:12:54.401 | DEBUG    | torchquad.integration.grid_integrator:integrate:48 - Evaluating integrand on the grid.\n",
      "2023-10-03 10:12:54.411 | DEBUG    | torchquad.integration.grid_integrator:calculate_result:89 - Computing areas.\n",
      "2023-10-03 10:12:54.412 | INFO     | torchquad.integration.grid_integrator:calculate_result:95 - Computed integral: tensor([[1.4850]])\n",
      "[tensor(1.6720), tensor(0.6985), tensor(1.4850)]\n"
     ]
    },
    {
     "name": "stderr",
     "output_type": "stream",
     "text": [
      "/Users/mawright/micromamba/envs/emsim/lib/python3.11/site-packages/autoray/autoray.py:80: UserWarning: To copy construct from a tensor, it is recommended to use sourceTensor.clone().detach() or sourceTensor.clone().detach().requires_grad_(True), rather than torch.tensor(sourceTensor).\n",
      "  return get_lib_fn(backend, fn)(*args, **kwargs)\n",
      "/Users/mawright/micromamba/envs/emsim/lib/python3.11/site-packages/torchquad/integration/utils.py:255: UserWarning: DEPRECATION WARNING: In future versions of torchquad, an array-like object will be returned.\n",
      "  warnings.warn(\n"
     ]
    }
   ],
   "source": [
    "gl = GaussLegendre()\n",
    "onebyone_result = []\n",
    "for i in range(dim):\n",
    "    out = gl.integrate(\n",
    "        partial(test_integrand_1d, i=i), 1, 101, torch.tensor([[-theta_0[i], torch.pi / 2]]))\n",
    "    onebyone_result.append(out)\n",
    "    print(onebyone_result)"
   ]
  },
  {
   "cell_type": "code",
   "execution_count": 211,
   "metadata": {},
   "outputs": [],
   "source": [
    "def test_integrand(theta):\n",
    "    V = _V(theta, alpha, beta, theta_0)\n",
    "    # print(f\"{V=}\")\n",
    "    out =  V * torch.exp(- value ** (alpha / (alpha - 1)) * V)\n",
    "    # print(f\"{out=}\")\n",
    "    return out"
   ]
  },
  {
   "cell_type": "code",
   "execution_count": 212,
   "metadata": {},
   "outputs": [
    {
     "name": "stdout",
     "output_type": "stream",
     "text": [
      "2023-10-03 10:11:36.012 | DEBUG    | torchquad.integration.utils:_setup_integration_domain:112 - Setting up integration domain.\n",
      "2023-10-03 10:11:36.014 | DEBUG    | torchquad.integration.base_integrator:_check_inputs:105 - Checking inputs to Integrator.\n",
      "2023-10-03 10:11:36.015 | DEBUG    | torchquad.integration.grid_integrator:calculate_grid:122 - Creating a grid for GaussLegendre to integrate a function with 101 points over tensor([[-1.0628,  1.5708],\n",
      "        [-0.9623,  1.5708],\n",
      "        [-1.4266,  1.5708]]).\n",
      "2023-10-03 10:11:36.017 | DEBUG    | torchquad.integration.integration_grid:_check_inputs:110 - Checking inputs to IntegrationGrid.\n",
      "2023-10-03 10:11:36.018 | DEBUG    | torchquad.integration.integration_grid:__init__:66 - Creating 3-dimensional integration grid with 101 points over tensor([[-1.0628,  1.5708],\n",
      "        [-0.9623,  1.5708],\n",
      "        [-1.4266,  1.5708]])\n",
      "2023-10-03 10:11:36.019 | DEBUG    | torchquad.integration.integration_grid:__init__:95 - Grid mesh width is tensor([0.6862, 0.6601, 0.7811])\n",
      "2023-10-03 10:11:36.020 | INFO     | torchquad.integration.integration_grid:__init__:103 - Integration grid created.\n",
      "2023-10-03 10:11:36.020 | DEBUG    | torchquad.integration.grid_integrator:integrate:48 - Evaluating integrand on the grid.\n",
      "2023-10-03 10:11:36.022 | DEBUG    | torchquad.integration.grid_integrator:calculate_result:89 - Computing areas.\n",
      "2023-10-03 10:11:36.023 | INFO     | torchquad.integration.grid_integrator:calculate_result:95 - Computed integral: tensor([11.7538,  5.4102, 10.2102])\n"
     ]
    },
    {
     "data": {
      "text/plain": [
       "tensor([11.7538,  5.4102, 10.2102])"
      ]
     },
     "execution_count": 212,
     "metadata": {},
     "output_type": "execute_result"
    }
   ],
   "source": [
    "gl = GaussLegendre()\n",
    "gl.integrate(test_integrand, dim, 101, domain)"
   ]
  },
  {
   "cell_type": "code",
   "execution_count": 16,
   "metadata": {},
   "outputs": [],
   "source": [
    "def batch_linspace_with_grads(start: torch.Tensor, stop: torch.Tensor, N: Union[torch.Tensor, int]) -> torch.Tensor:\n",
    "    linspace = torch.linspace(0.0, 1.0, N).unsqueeze(0)\n",
    "    start = start.reshape(-1, 1)\n",
    "    stop = stop.reshape(-1, 1)\n",
    "    grid = linspace * (stop - start) + start\n",
    "    return grid"
   ]
  },
  {
   "cell_type": "code",
   "execution_count": 217,
   "metadata": {},
   "outputs": [
    {
     "name": "stdout",
     "output_type": "stream",
     "text": [
      "2023-10-03 10:13:05.814 | DEBUG    | __main__:_resize_roots:18 - resize_roots output: tensor([[-1.0624, -0.9619, -1.4262],\n",
      "        [-1.0608, -0.9604, -1.4244],\n",
      "        [-1.0580, -0.9577, -1.4212],\n",
      "        [-1.0539, -0.9537, -1.4165],\n",
      "        [-1.0485, -0.9486, -1.4104],\n",
      "        [-1.0419, -0.9423, -1.4029],\n",
      "        [-1.0341, -0.9347, -1.3940],\n",
      "        [-1.0250, -0.9260, -1.3837],\n",
      "        [-1.0147, -0.9161, -1.3720],\n",
      "        [-1.0032, -0.9050, -1.3589],\n",
      "        [-0.9905, -0.8928, -1.3444],\n",
      "        [-0.9766, -0.8794, -1.3286],\n",
      "        [-0.9615, -0.8649, -1.3114],\n",
      "        [-0.9453, -0.8493, -1.2929],\n",
      "        [-0.9279, -0.8326, -1.2731],\n",
      "        [-0.9094, -0.8147, -1.2520],\n",
      "        [-0.8897, -0.7958, -1.2297],\n",
      "        [-0.8690, -0.7759, -1.2061],\n",
      "        [-0.8472, -0.7549, -1.1812],\n",
      "        [-0.8243, -0.7329, -1.1552],\n",
      "        [-0.8004, -0.7099, -1.1280],\n",
      "        [-0.7755, -0.6860, -1.0996],\n",
      "        [-0.7496, -0.6610, -1.0702],\n",
      "        [-0.7227, -0.6352, -1.0396],\n",
      "        [-0.6949, -0.6085, -1.0080],\n",
      "        [-0.6662, -0.5809, -0.9753],\n",
      "        [-0.6366, -0.5524, -0.9416],\n",
      "        [-0.6062, -0.5231, -0.9070],\n",
      "        [-0.5749, -0.4930, -0.8714],\n",
      "        [-0.5428, -0.4622, -0.8349],\n",
      "        [-0.5100, -0.4306, -0.7975],\n",
      "        [-0.4765, -0.3984, -0.7593],\n",
      "        [-0.4422, -0.3654, -0.7204],\n",
      "        [-0.4073, -0.3318, -0.6806],\n",
      "        [-0.3717, -0.2976, -0.6401],\n",
      "        [-0.3356, -0.2629, -0.5990],\n",
      "        [-0.2989, -0.2275, -0.5572],\n",
      "        [-0.2616, -0.1917, -0.5148],\n",
      "        [-0.2239, -0.1554, -0.4719],\n",
      "        [-0.1857, -0.1187, -0.4284],\n",
      "        [-0.1471, -0.0815, -0.3844],\n",
      "        [-0.1081, -0.0440, -0.3400],\n",
      "        [-0.0687, -0.0062, -0.2952],\n",
      "        [-0.0290,  0.0320, -0.2501],\n",
      "        [ 0.0109,  0.0704, -0.2046],\n",
      "        [ 0.0511,  0.1090, -0.1589],\n",
      "        [ 0.0914,  0.1479, -0.1130],\n",
      "        [ 0.1319,  0.1868, -0.0669],\n",
      "        [ 0.1726,  0.2259, -0.0206],\n",
      "        [ 0.2133,  0.2651,  0.0257],\n",
      "        [ 0.2540,  0.3043,  0.0721],\n",
      "        [ 0.2948,  0.3434,  0.1185],\n",
      "        [ 0.3355,  0.3826,  0.1648],\n",
      "        [ 0.3761,  0.4217,  0.2110],\n",
      "        [ 0.4166,  0.4607,  0.2572],\n",
      "        [ 0.4570,  0.4995,  0.3031],\n",
      "        [ 0.4972,  0.5381,  0.3488],\n",
      "        [ 0.5371,  0.5765,  0.3943],\n",
      "        [ 0.5767,  0.6147,  0.4394],\n",
      "        [ 0.6161,  0.6525,  0.4842],\n",
      "        [ 0.6551,  0.6900,  0.5286],\n",
      "        [ 0.6937,  0.7272,  0.5725],\n",
      "        [ 0.7319,  0.7639,  0.6160],\n",
      "        [ 0.7697,  0.8002,  0.6590],\n",
      "        [ 0.8069,  0.8361,  0.7014],\n",
      "        [ 0.8436,  0.8714,  0.7432],\n",
      "        [ 0.8798,  0.9061,  0.7843],\n",
      "        [ 0.9153,  0.9403,  0.8248],\n",
      "        [ 0.9503,  0.9739,  0.8645],\n",
      "        [ 0.9845,  1.0069,  0.9035],\n",
      "        [ 1.0181,  1.0392,  0.9417],\n",
      "        [ 1.0509,  1.0707,  0.9791],\n",
      "        [ 1.0829,  1.1016,  1.0155],\n",
      "        [ 1.1142,  1.1316,  1.0511],\n",
      "        [ 1.1447,  1.1609,  1.0858],\n",
      "        [ 1.1742,  1.1894,  1.1194],\n",
      "        [ 1.2029,  1.2170,  1.1521],\n",
      "        [ 1.2307,  1.2437,  1.1838],\n",
      "        [ 1.2576,  1.2696,  1.2143],\n",
      "        [ 1.2835,  1.2945,  1.2438],\n",
      "        [ 1.3084,  1.3184,  1.2722],\n",
      "        [ 1.3323,  1.3414,  1.2994],\n",
      "        [ 1.3552,  1.3634,  1.3254],\n",
      "        [ 1.3770,  1.3844,  1.3502],\n",
      "        [ 1.3977,  1.4044,  1.3738],\n",
      "        [ 1.4174,  1.4232,  1.3962],\n",
      "        [ 1.4359,  1.4411,  1.4173],\n",
      "        [ 1.4533,  1.4578,  1.4371],\n",
      "        [ 1.4696,  1.4734,  1.4556],\n",
      "        [ 1.4847,  1.4879,  1.4728],\n",
      "        [ 1.4986,  1.5013,  1.4886],\n",
      "        [ 1.5113,  1.5135,  1.5031],\n",
      "        [ 1.5228,  1.5246,  1.5162],\n",
      "        [ 1.5331,  1.5345,  1.5279],\n",
      "        [ 1.5421,  1.5432,  1.5382],\n",
      "        [ 1.5500,  1.5508,  1.5471],\n",
      "        [ 1.5566,  1.5571,  1.5546],\n",
      "        [ 1.5619,  1.5623,  1.5607],\n",
      "        [ 1.5660,  1.5662,  1.5654],\n",
      "        [ 1.5688,  1.5689,  1.5686],\n",
      "        [ 1.5704,  1.5704,  1.5704]])\n",
      "2023-10-03 10:13:05.815 | DEBUG    | __main__:integrate:27 - Evaluating integrand on the grid.\n",
      "2023-10-03 10:13:05.818 | DEBUG    | torchquad.integration.grid_integrator:calculate_result:89 - Computing areas.\n",
      "2023-10-03 10:13:05.820 | INFO     | torchquad.integration.grid_integrator:calculate_result:95 - Computed integral: tensor([1.6720, 0.6985, 1.4850])\n"
     ]
    },
    {
     "data": {
      "text/plain": [
       "tensor([1.6720, 0.6985, 1.4850])"
      ]
     },
     "execution_count": 217,
     "metadata": {},
     "output_type": "execute_result"
    }
   ],
   "source": [
    "b1d = Batch1DIntegrator()\n",
    "b1d.integrate(test_integrand, 1, 101, domain)"
   ]
  },
  {
   "cell_type": "code",
   "execution_count": 45,
   "metadata": {},
   "outputs": [],
   "source": [
    "alpha = torch.rand((100,)) * 2\n",
    "alpha = alpha.reshape(100, 1)\n",
    "beta = torch.rand((100,)) * 2 - 1\n",
    "beta = beta.reshape(1, 100)\n",
    "theta_0 = _theta_0(alpha, beta)"
   ]
  },
  {
   "cell_type": "code",
   "execution_count": 130,
   "metadata": {},
   "outputs": [],
   "source": [
    "alpha = torch.tensor(1.1)\n",
    "beta = torch.tensor(0.8)\n",
    "theta_0 = _theta_0(alpha, beta)"
   ]
  },
  {
   "cell_type": "code",
   "execution_count": 152,
   "metadata": {},
   "outputs": [],
   "source": [
    "value = dist.Stable(alpha, beta, 1, 0).sample().abs()"
   ]
  },
  {
   "cell_type": "code",
   "execution_count": 114,
   "metadata": {},
   "outputs": [
    {
     "data": {
      "text/plain": [
       "tensor(-1.2503)"
      ]
     },
     "execution_count": 114,
     "metadata": {},
     "output_type": "execute_result"
    }
   ],
   "source": [
    "theta_0"
   ]
  },
  {
   "cell_type": "code",
   "execution_count": 104,
   "metadata": {},
   "outputs": [
    {
     "data": {
      "text/plain": [
       "torch.Size([])"
      ]
     },
     "execution_count": 104,
     "metadata": {},
     "output_type": "execute_result"
    }
   ],
   "source": [
    "value.shape"
   ]
  },
  {
   "cell_type": "code",
   "execution_count": 196,
   "metadata": {},
   "outputs": [
    {
     "data": {
      "text/plain": [
       "torch.Size([100, 1])"
      ]
     },
     "execution_count": 196,
     "metadata": {},
     "output_type": "execute_result"
    }
   ],
   "source": [
    "theta_0.shape"
   ]
  },
  {
   "cell_type": "code",
   "execution_count": 46,
   "metadata": {},
   "outputs": [
    {
     "ename": "NameError",
     "evalue": "name 'theta_domain' is not defined",
     "output_type": "error",
     "traceback": [
      "\u001b[0;31m---------------------------------------------------------------------------\u001b[0m",
      "\u001b[0;31mNameError\u001b[0m                                 Traceback (most recent call last)",
      "\u001b[1;32m/Users/mawright/Code/emsim/notebooks/torchquad.ipynb Cell 22\u001b[0m line \u001b[0;36m1\n\u001b[0;32m----> <a href='vscode-notebook-cell:/Users/mawright/Code/emsim/notebooks/torchquad.ipynb#X46sZmlsZQ%3D%3D?line=0'>1</a>\u001b[0m V \u001b[39m=\u001b[39m _V(theta_domain, alpha, beta, theta_0)\n",
      "\u001b[0;31mNameError\u001b[0m: name 'theta_domain' is not defined"
     ]
    }
   ],
   "source": [
    "V = _V(theta_domain, alpha, beta, theta_0)"
   ]
  },
  {
   "cell_type": "code",
   "execution_count": 47,
   "metadata": {},
   "outputs": [
    {
     "ename": "NameError",
     "evalue": "name 'theta_domain' is not defined",
     "output_type": "error",
     "traceback": [
      "\u001b[0;31m---------------------------------------------------------------------------\u001b[0m",
      "\u001b[0;31mNameError\u001b[0m                                 Traceback (most recent call last)",
      "\u001b[1;32m/Users/mawright/Code/emsim/notebooks/torchquad.ipynb Cell 23\u001b[0m line \u001b[0;36m1\n\u001b[0;32m----> <a href='vscode-notebook-cell:/Users/mawright/Code/emsim/notebooks/torchquad.ipynb#X50sZmlsZQ%3D%3D?line=0'>1</a>\u001b[0m test_integrand(theta_domain)\n",
      "\u001b[0;31mNameError\u001b[0m: name 'theta_domain' is not defined"
     ]
    }
   ],
   "source": [
    "test_integrand(theta_domain)"
   ]
  },
  {
   "cell_type": "code",
   "execution_count": 48,
   "metadata": {},
   "outputs": [
    {
     "data": {
      "text/plain": [
       "tensor([[ -9.3392e+12,  -8.6715e+01,  -3.8614e+00],\n",
       "        [ -5.1968e-02,  -6.4283e-01,  -8.7479e-01],\n",
       "        [ -2.1880e+07,  -1.2497e+01,  -2.1481e+00],\n",
       "        [ -4.5209e+21,  -1.7213e+03,  -9.5418e+00],\n",
       "        [ -5.2948e-02,  -6.4463e-01,  -8.7553e-01],\n",
       "        [ -7.4660e+08,  -2.1177e+01,  -2.5200e+00],\n",
       "        [ -1.3209e+13,  -9.1326e+01,  -3.9224e+00],\n",
       "        [ -4.5582e-03,  -4.4685e-01,  -7.8359e-01],\n",
       "        [ -1.4109e-05,  -1.8846e-01,  -6.0336e-01],\n",
       "        [ -4.5104e+07,  -1.3923e+01,  -2.2195e+00],\n",
       "        [ -2.3887e+07,  -1.2662e+01,  -2.1566e+00],\n",
       "        [ -4.5497e-01,  -8.8898e-01,  -9.6500e-01],\n",
       "        [ -1.6375e-09,  -4.8660e-02,  -4.0045e-01],\n",
       "        [ -1.3621e-01,  -7.4238e-01,  -9.1376e-01],\n",
       "        [ -0.0000e+00, -1.5487e-178,  -1.4764e-54],\n",
       "        [ -2.7766e-04,  -2.9415e-01,  -6.9042e-01],\n",
       "        [ -1.5470e-04,  -2.6953e-01,  -6.7239e-01],\n",
       "        [ -3.4777e+10,  -3.7596e+01,  -2.9982e+00],\n",
       "        [-1.5703e-104,  -3.0833e-16,  -2.0144e-05],\n",
       "        [ -3.9137e-02,  -6.1617e-01,  -8.6364e-01],\n",
       "        [ -2.3797e+14,  -1.4068e+02,  -4.4705e+00],\n",
       "        [ -5.6441e+16,  -3.1851e+02,  -5.7254e+00],\n",
       "        [ -7.5973e+20,  -1.3186e+03,  -8.8022e+00],\n",
       "        [ -4.1714e-04,  -3.1260e-01,  -7.0325e-01],\n",
       "        [ -1.4683e+13,  -9.2782e+01,  -3.9413e+00],\n",
       "        [ -2.3854e+13,  -9.9759e+01,  -4.0287e+00],\n",
       "        [ -2.2760e+17,  -3.9229e+02,  -6.0981e+00],\n",
       "        [ -8.2228e-06,  -1.7385e-01,  -5.8880e-01],\n",
       "        [ -1.3345e+09,  -2.3097e+01,  -2.5871e+00],\n",
       "        [ -1.7093e-02,  -5.4442e-01,  -8.3187e-01],\n",
       "        [ -6.8478e-30,  -4.3862e-05,  -4.7937e-02],\n",
       "        [ -5.1516e+11,  -5.6243e+01,  -3.3870e+00],\n",
       "        [ -3.6742e-01,  -8.6104e-01,  -9.5572e-01],\n",
       "        [ -5.9471e-21,  -9.5009e-04,  -1.2163e-01],\n",
       "        [ -2.4222e-27,  -1.0542e-04,  -6.2512e-02],\n",
       "        [ -5.7032e-66,  -1.7819e-10,  -1.1182e-03],\n",
       "        [ -2.8055e+19,  -8.0544e+02,  -7.5820e+00],\n",
       "        [ -3.0921e-07,  -1.0648e-01,  -5.0759e-01],\n",
       "        [ -1.3855e+09,  -2.3227e+01,  -2.5915e+00],\n",
       "        [ -6.1689e+09,  -2.9034e+01,  -2.7726e+00],\n",
       "        [ -1.4928e+10,  -3.3133e+01,  -2.8857e+00],\n",
       "        [ -8.0310e+07,  -1.5177e+01,  -2.2782e+00],\n",
       "        [ -2.6835e-09,  -5.2388e-02,  -4.0950e-01],\n",
       "        [ -6.8238e-18,  -2.7225e-03,  -1.6728e-01],\n",
       "        [        -inf,  -3.5326e+53,  -1.6268e+16],\n",
       "        [ -1.4684e+38,  -5.0478e+05,  -5.3281e+01],\n",
       "        [ -4.8391e-05,  -2.2657e-01,  -6.3795e-01],\n",
       "        [ -1.8527e+14,  -1.3551e+02,  -4.4202e+00],\n",
       "        [ -1.1230e-01,  -7.2127e-01,  -9.0582e-01],\n",
       "        [ -2.8942e+10,  -3.6578e+01,  -2.9734e+00],\n",
       "        [ -8.8934e-05,  -2.4813e-01,  -6.5576e-01],\n",
       "        [ -3.0241e+09,  -2.6100e+01,  -2.6846e+00],\n",
       "        [ -1.9839e+10,  -3.4571e+01,  -2.9230e+00],\n",
       "        [ -9.6602e-12,  -2.2598e-02,  -3.1747e-01],\n",
       "        [ -5.2782e+07,  -1.4254e+01,  -2.2354e+00],\n",
       "        [ -1.2647e-04,  -2.6154e-01,  -6.6629e-01],\n",
       "        [ -5.2196e+13,  -1.1214e+02,  -4.1740e+00],\n",
       "        [ -4.6266e+18,  -6.1527e+02,  -6.9883e+00],\n",
       "        [ -1.9171e-28,  -7.2163e-05,  -5.5736e-02],\n",
       "        [ -1.1243e-01,  -7.2140e-01,  -9.0587e-01],\n",
       "        [ -1.5361e+08,  -1.6721e+01,  -2.3460e+00],\n",
       "        [ -8.7377e+09,  -3.0584e+01,  -2.8166e+00],\n",
       "        [ -4.3387e+41,  -1.6661e+06,  -7.6485e+01],\n",
       "        [ -2.3072e+23,  -3.0977e+03,  -1.1400e+01],\n",
       "        [-2.6293e-288,  -1.0670e-43,  -9.7850e-14],\n",
       "        [ -7.1858e-06,  -1.7038e-01,  -5.8522e-01],\n",
       "        [ -1.2814e+15,  -1.8091e+02,  -4.8243e+00],\n",
       "        [ -1.4530e+11,  -4.6551e+01,  -3.1986e+00],\n",
       "        [ -1.4571e+12,  -6.5696e+01,  -3.5502e+00],\n",
       "        [ -2.6404e-05,  -2.0696e-01,  -6.2071e-01],\n",
       "        [ -2.1976e+22,  -2.1800e+03,  -1.0249e+01],\n",
       "        [ -1.5442e-03,  -3.8012e-01,  -7.4615e-01],\n",
       "        [ -1.8178e+12,  -6.7903e+01,  -3.5859e+00],\n",
       "        [ -1.2943e+13,  -9.1049e+01,  -3.9188e+00],\n",
       "        [ -4.3113e+09,  -2.7521e+01,  -2.7280e+00],\n",
       "        [        -inf,  -2.6187e+49,  -9.1410e+14],\n",
       "        [ -3.6661e-01,  -8.6076e-01,  -9.5562e-01],\n",
       "        [ -2.8699e+32,  -7.0801e+04,  -2.9398e+01],\n",
       "        [ -7.2914e-12,  -2.1668e-02,  -3.1346e-01],\n",
       "        [ -8.8484e-02,  -6.9604e-01,  -8.9610e-01],\n",
       "        [ -4.0762e+07,  -1.3714e+01,  -2.2094e+00],\n",
       "        [ -1.9543e+79,  -7.0487e+11,  -3.8631e+03],\n",
       "        [ -1.8531e+12,  -6.8098e+01,  -3.5890e+00],\n",
       "        [ -7.3029e+26,  -1.0330e+04,  -1.6415e+01],\n",
       "        [ -4.0794e-09,  -5.5771e-02,  -4.1733e-01],\n",
       "        [ -2.1742e+07,  -1.2485e+01,  -2.1474e+00],\n",
       "        [ -4.2188e+08,  -1.9446e+01,  -2.4557e+00],\n",
       "        [ -5.1123e-01,  -9.0461e-01,  -9.7010e-01],\n",
       "        [ -7.5017e-09,  -6.1086e-02,  -4.2899e-01],\n",
       "        [ -9.6317e-04,  -3.5423e-01,  -7.3038e-01],\n",
       "        [ -4.1772e-01,  -8.7771e-01,  -9.6128e-01],\n",
       "        [ -1.5008e-18,  -2.1711e-03,  -1.5621e-01],\n",
       "        [ -4.8779e-07,  -1.1399e-01,  -5.1817e-01],\n",
       "        [ -2.3555e+07,  -1.2635e+01,  -2.1552e+00],\n",
       "        [ -1.2311e-01,  -7.3125e-01,  -9.0959e-01],\n",
       "        [ -9.1452e-02,  -6.9948e-01,  -8.9744e-01],\n",
       "        [-5.9222e+101,  -1.6122e+15,  -4.0174e+04],\n",
       "        [ -8.6543e+08,  -2.1650e+01,  -2.5369e+00],\n",
       "        [ -7.6845e+10,  -4.2324e+01,  -3.1077e+00],\n",
       "        [ -1.6547e+08,  -1.6908e+01,  -2.3539e+00]])"
      ]
     },
     "execution_count": 48,
     "metadata": {},
     "output_type": "execute_result"
    }
   ],
   "source": [
    "-(value ** (alpha / (alpha - 1)))"
   ]
  },
  {
   "cell_type": "code",
   "execution_count": null,
   "metadata": {},
   "outputs": [],
   "source": []
  },
  {
   "cell_type": "code",
   "execution_count": 49,
   "metadata": {},
   "outputs": [
    {
     "ename": "NameError",
     "evalue": "name 'theta_domain' is not defined",
     "output_type": "error",
     "traceback": [
      "\u001b[0;31m---------------------------------------------------------------------------\u001b[0m",
      "\u001b[0;31mNameError\u001b[0m                                 Traceback (most recent call last)",
      "\u001b[1;32m/Users/mawright/Code/emsim/notebooks/torchquad.ipynb Cell 26\u001b[0m line \u001b[0;36m1\n\u001b[0;32m----> <a href='vscode-notebook-cell:/Users/mawright/Code/emsim/notebooks/torchquad.ipynb#X53sZmlsZQ%3D%3D?line=0'>1</a>\u001b[0m theta_domain\n",
      "\u001b[0;31mNameError\u001b[0m: name 'theta_domain' is not defined"
     ]
    }
   ],
   "source": [
    "theta_domain"
   ]
  },
  {
   "cell_type": "code",
   "execution_count": 50,
   "metadata": {},
   "outputs": [
    {
     "ename": "RuntimeError",
     "evalue": "The size of tensor a (3) must match the size of tensor b (100) at non-singleton dimension 1",
     "output_type": "error",
     "traceback": [
      "\u001b[0;31m---------------------------------------------------------------------------\u001b[0m",
      "\u001b[0;31mRuntimeError\u001b[0m                              Traceback (most recent call last)",
      "\u001b[1;32m/Users/mawright/Code/emsim/notebooks/torchquad.ipynb Cell 27\u001b[0m line \u001b[0;36m1\n\u001b[0;32m----> <a href='vscode-notebook-cell:/Users/mawright/Code/emsim/notebooks/torchquad.ipynb#X54sZmlsZQ%3D%3D?line=0'>1</a>\u001b[0m test_integrand(torch\u001b[39m.\u001b[39;49mtensor(\u001b[39m1.9\u001b[39;49m))\n",
      "\u001b[1;32m/Users/mawright/Code/emsim/notebooks/torchquad.ipynb Cell 27\u001b[0m line \u001b[0;36m4\n\u001b[1;32m      <a href='vscode-notebook-cell:/Users/mawright/Code/emsim/notebooks/torchquad.ipynb#X54sZmlsZQ%3D%3D?line=1'>2</a>\u001b[0m V \u001b[39m=\u001b[39m _V(theta, alpha, beta, theta_0)\n\u001b[1;32m      <a href='vscode-notebook-cell:/Users/mawright/Code/emsim/notebooks/torchquad.ipynb#X54sZmlsZQ%3D%3D?line=2'>3</a>\u001b[0m \u001b[39m# print(f\"{V=}\")\u001b[39;00m\n\u001b[0;32m----> <a href='vscode-notebook-cell:/Users/mawright/Code/emsim/notebooks/torchquad.ipynb#X54sZmlsZQ%3D%3D?line=3'>4</a>\u001b[0m out \u001b[39m=\u001b[39m  V \u001b[39m*\u001b[39m torch\u001b[39m.\u001b[39mexp(\u001b[39m-\u001b[39;49m x \u001b[39m*\u001b[39;49m\u001b[39m*\u001b[39;49m (alpha \u001b[39m/\u001b[39;49m (alpha \u001b[39m-\u001b[39;49m \u001b[39m1\u001b[39;49m)) \u001b[39m*\u001b[39;49m V)\n\u001b[1;32m      <a href='vscode-notebook-cell:/Users/mawright/Code/emsim/notebooks/torchquad.ipynb#X54sZmlsZQ%3D%3D?line=4'>5</a>\u001b[0m \u001b[39m# print(f\"{out=}\")\u001b[39;00m\n\u001b[1;32m      <a href='vscode-notebook-cell:/Users/mawright/Code/emsim/notebooks/torchquad.ipynb#X54sZmlsZQ%3D%3D?line=5'>6</a>\u001b[0m \u001b[39mreturn\u001b[39;00m out\n",
      "\u001b[0;31mRuntimeError\u001b[0m: The size of tensor a (3) must match the size of tensor b (100) at non-singleton dimension 1"
     ]
    }
   ],
   "source": [
    "test_integrand(torch.tensor(1.9))"
   ]
  },
  {
   "cell_type": "code",
   "execution_count": 51,
   "metadata": {},
   "outputs": [],
   "source": [
    "gl = GaussLegendre()\n",
    "simp = Simpson()"
   ]
  },
  {
   "cell_type": "code",
   "execution_count": 52,
   "metadata": {},
   "outputs": [
    {
     "ename": "ValueError",
     "evalue": "only one element tensors can be converted to Python scalars",
     "output_type": "error",
     "traceback": [
      "\u001b[0;31m---------------------------------------------------------------------------\u001b[0m",
      "\u001b[0;31mValueError\u001b[0m                                Traceback (most recent call last)",
      "\u001b[1;32m/Users/mawright/Code/emsim/notebooks/torchquad.ipynb Cell 29\u001b[0m line \u001b[0;36m1\n\u001b[0;32m----> <a href='vscode-notebook-cell:/Users/mawright/Code/emsim/notebooks/torchquad.ipynb#X60sZmlsZQ%3D%3D?line=0'>1</a>\u001b[0m gl\u001b[39m.\u001b[39mintegrate(test_integrand, \u001b[39m1\u001b[39m, \u001b[39m101\u001b[39m, torch\u001b[39m.\u001b[39;49mtensor([[\u001b[39m-\u001b[39;49mtheta_0, np\u001b[39m.\u001b[39;49mpi \u001b[39m/\u001b[39;49m \u001b[39m2\u001b[39;49m]]))\n",
      "\u001b[0;31mValueError\u001b[0m: only one element tensors can be converted to Python scalars"
     ]
    }
   ],
   "source": [
    "gl.integrate(test_integrand, 1, 101, torch.tensor([[-theta_0, np.pi / 2]]))"
   ]
  },
  {
   "cell_type": "code",
   "execution_count": 54,
   "metadata": {},
   "outputs": [
    {
     "data": {
      "text/plain": [
       "tensor(0.1422)"
      ]
     },
     "execution_count": 54,
     "metadata": {},
     "output_type": "execute_result"
    }
   ],
   "source": [
    "alpha"
   ]
  },
  {
   "cell_type": "code",
   "execution_count": 198,
   "metadata": {},
   "outputs": [
    {
     "ename": "AttributeError",
     "evalue": "'float' object has no attribute 'expand'",
     "output_type": "error",
     "traceback": [
      "\u001b[0;31m---------------------------------------------------------------------------\u001b[0m",
      "\u001b[0;31mAttributeError\u001b[0m                            Traceback (most recent call last)",
      "\u001b[1;32m/Users/mawright/Code/emsim/notebooks/torchquad.ipynb Cell 27\u001b[0m line \u001b[0;36m1\n\u001b[0;32m----> <a href='vscode-notebook-cell:/Users/mawright/Code/emsim/notebooks/torchquad.ipynb#X65sZmlsZQ%3D%3D?line=0'>1</a>\u001b[0m (torch\u001b[39m.\u001b[39;49mpi \u001b[39m/\u001b[39;49m \u001b[39m2\u001b[39;49m \u001b[39m-\u001b[39;49m integration_domain_eps)\u001b[39m.\u001b[39;49mexpand(\u001b[39m100\u001b[39m, \u001b[39m1\u001b[39m)\n",
      "\u001b[0;31mAttributeError\u001b[0m: 'float' object has no attribute 'expand'"
     ]
    }
   ],
   "source": [
    "(torch.pi / 2 - integration_domain_eps).expand(100, 1)"
   ]
  },
  {
   "cell_type": "code",
   "execution_count": 206,
   "metadata": {},
   "outputs": [
    {
     "ename": "ValueError",
     "evalue": "only one element tensors can be converted to Python scalars",
     "output_type": "error",
     "traceback": [
      "\u001b[0;31m---------------------------------------------------------------------------\u001b[0m",
      "\u001b[0;31mValueError\u001b[0m                                Traceback (most recent call last)",
      "\u001b[1;32m/Users/mawright/Code/emsim/notebooks/torchquad.ipynb Cell 28\u001b[0m line \u001b[0;36m2\n\u001b[1;32m      <a href='vscode-notebook-cell:/Users/mawright/Code/emsim/notebooks/torchquad.ipynb#X32sZmlsZQ%3D%3D?line=0'>1</a>\u001b[0m integration_domain_eps \u001b[39m=\u001b[39m \u001b[39m1e-5\u001b[39m\n\u001b[0;32m----> <a href='vscode-notebook-cell:/Users/mawright/Code/emsim/notebooks/torchquad.ipynb#X32sZmlsZQ%3D%3D?line=1'>2</a>\u001b[0m integration_domain \u001b[39m=\u001b[39m torch\u001b[39m.\u001b[39;49mtensor([[\u001b[39m-\u001b[39;49mtheta_0 \u001b[39m+\u001b[39;49m integration_domain_eps, torch\u001b[39m.\u001b[39;49mpi \u001b[39m/\u001b[39;49m \u001b[39m2\u001b[39;49m \u001b[39m-\u001b[39;49m integration_domain_eps]])\n\u001b[1;32m      <a href='vscode-notebook-cell:/Users/mawright/Code/emsim/notebooks/torchquad.ipynb#X32sZmlsZQ%3D%3D?line=2'>3</a>\u001b[0m \u001b[39m# integration_domain = torch.cat([-theta_0 + integration_domain_eps, theta_0.new_full(theta_0.shape, torch.pi / 2 - integration_domain_eps)], -1)\u001b[39;00m\n\u001b[1;32m      <a href='vscode-notebook-cell:/Users/mawright/Code/emsim/notebooks/torchquad.ipynb#X32sZmlsZQ%3D%3D?line=3'>4</a>\u001b[0m simp\u001b[39m.\u001b[39mintegrate(test_integrand, dim\u001b[39m=\u001b[39m\u001b[39m1\u001b[39m, N\u001b[39m=\u001b[39m\u001b[39m101\u001b[39m, integration_domain\u001b[39m=\u001b[39mintegration_domain)\n",
      "\u001b[0;31mValueError\u001b[0m: only one element tensors can be converted to Python scalars"
     ]
    }
   ],
   "source": [
    "integration_domain_eps = 1e-5\n",
    "integration_domain = torch.tensor([[-theta_0 + integration_domain_eps, torch.pi / 2 - integration_domain_eps]])\n",
    "# integration_domain = torch.cat([-theta_0 + integration_domain_eps, theta_0.new_full(theta_0.shape, torch.pi / 2 - integration_domain_eps)], -1)\n",
    "simp.integrate(test_integrand, dim=1, N=101, integration_domain=integration_domain)"
   ]
  },
  {
   "cell_type": "code",
   "execution_count": 223,
   "metadata": {},
   "outputs": [
    {
     "data": {
      "text/plain": [
       "tensor([0.])"
      ]
     },
     "execution_count": 223,
     "metadata": {},
     "output_type": "execute_result"
    }
   ],
   "source": [
    "_V(-theta_0[0], alpha[0], beta[0], theta_0[0])"
   ]
  },
  {
   "cell_type": "code",
   "execution_count": 232,
   "metadata": {},
   "outputs": [
    {
     "data": {
      "text/plain": [
       "tensor([0.6378])"
      ]
     },
     "execution_count": 232,
     "metadata": {},
     "output_type": "execute_result"
    }
   ],
   "source": []
  },
  {
   "cell_type": "code",
   "execution_count": 224,
   "metadata": {},
   "outputs": [
    {
     "data": {
      "text/plain": [
       "tensor([[0.],\n",
       "        [inf],\n",
       "        [0.],\n",
       "        [0.],\n",
       "        [0.],\n",
       "        [0.],\n",
       "        [0.],\n",
       "        [inf],\n",
       "        [0.],\n",
       "        [inf],\n",
       "        [0.],\n",
       "        [inf],\n",
       "        [inf],\n",
       "        [inf],\n",
       "        [inf],\n",
       "        [0.],\n",
       "        [0.],\n",
       "        [inf],\n",
       "        [inf],\n",
       "        [inf],\n",
       "        [inf],\n",
       "        [0.],\n",
       "        [0.],\n",
       "        [inf],\n",
       "        [0.],\n",
       "        [0.],\n",
       "        [0.],\n",
       "        [nan],\n",
       "        [nan],\n",
       "        [inf],\n",
       "        [inf],\n",
       "        [inf],\n",
       "        [inf],\n",
       "        [0.],\n",
       "        [0.],\n",
       "        [0.],\n",
       "        [inf],\n",
       "        [inf],\n",
       "        [inf],\n",
       "        [inf],\n",
       "        [0.],\n",
       "        [inf],\n",
       "        [0.],\n",
       "        [0.],\n",
       "        [0.],\n",
       "        [inf],\n",
       "        [0.],\n",
       "        [0.],\n",
       "        [inf],\n",
       "        [0.],\n",
       "        [0.],\n",
       "        [inf],\n",
       "        [inf],\n",
       "        [0.],\n",
       "        [inf],\n",
       "        [inf],\n",
       "        [0.],\n",
       "        [inf],\n",
       "        [inf],\n",
       "        [inf],\n",
       "        [0.],\n",
       "        [0.],\n",
       "        [0.],\n",
       "        [inf],\n",
       "        [0.],\n",
       "        [0.],\n",
       "        [0.],\n",
       "        [0.],\n",
       "        [inf],\n",
       "        [inf],\n",
       "        [0.],\n",
       "        [0.],\n",
       "        [inf],\n",
       "        [inf],\n",
       "        [inf],\n",
       "        [0.],\n",
       "        [0.],\n",
       "        [inf],\n",
       "        [inf],\n",
       "        [inf],\n",
       "        [inf],\n",
       "        [inf],\n",
       "        [inf],\n",
       "        [0.],\n",
       "        [inf],\n",
       "        [0.],\n",
       "        [inf],\n",
       "        [inf],\n",
       "        [0.],\n",
       "        [inf],\n",
       "        [inf],\n",
       "        [inf],\n",
       "        [inf],\n",
       "        [0.],\n",
       "        [inf],\n",
       "        [0.],\n",
       "        [inf],\n",
       "        [inf],\n",
       "        [0.],\n",
       "        [inf]])"
      ]
     },
     "execution_count": 224,
     "metadata": {},
     "output_type": "execute_result"
    }
   ],
   "source": [
    "_V(-theta_0, alpha, beta, _theta_0(alpha, beta))"
   ]
  },
  {
   "cell_type": "code",
   "execution_count": 208,
   "metadata": {},
   "outputs": [
    {
     "data": {
      "text/plain": [
       "tensor([[1.2803e-03],\n",
       "        [4.1114e+12],\n",
       "        [8.8257e-09],\n",
       "        [1.5827e-11],\n",
       "        [3.1572e-07],\n",
       "        [3.1919e-05],\n",
       "        [2.5811e-03],\n",
       "        [3.6173e+05],\n",
       "        [9.9920e-02],\n",
       "        [7.2503e+06],\n",
       "        [0.0000e+00],\n",
       "        [2.5695e+05],\n",
       "        [1.4039e+27],\n",
       "        [3.0032e+05],\n",
       "        [1.7070e+24],\n",
       "        [1.1427e-02],\n",
       "        [3.5112e-02],\n",
       "        [1.5659e+08],\n",
       "        [1.3804e+07],\n",
       "        [3.3752e+06],\n",
       "        [3.3554e+15],\n",
       "        [3.1054e-03],\n",
       "        [4.0318e-02],\n",
       "        [5.3253e+06],\n",
       "        [1.4053e-01],\n",
       "        [6.6881e-08],\n",
       "        [7.1811e-02],\n",
       "        [       nan],\n",
       "        [       nan],\n",
       "        [       inf],\n",
       "        [3.6134e+09],\n",
       "        [1.0737e+18],\n",
       "        [5.6792e+06],\n",
       "        [1.6812e-17],\n",
       "        [4.1521e-03],\n",
       "        [3.5778e-02],\n",
       "        [6.5117e+07],\n",
       "        [6.3229e+05],\n",
       "        [1.8440e+07],\n",
       "        [2.0306e+12],\n",
       "        [5.6749e-06],\n",
       "        [3.4272e+06],\n",
       "        [2.3123e-05],\n",
       "        [1.9636e-01],\n",
       "        [8.4590e-02],\n",
       "        [1.1637e+07],\n",
       "        [3.7362e-37],\n",
       "        [6.1249e-04],\n",
       "        [7.6117e+19],\n",
       "        [1.5724e-37],\n",
       "        [2.5979e-06],\n",
       "        [1.9459e+10],\n",
       "        [8.4364e+26],\n",
       "        [1.5877e-18],\n",
       "        [4.9271e+21],\n",
       "        [3.7850e+07],\n",
       "        [1.2419e-11],\n",
       "        [1.4803e+08],\n",
       "        [9.3601e+10],\n",
       "        [2.0466e+14],\n",
       "        [5.6919e-02],\n",
       "        [1.5680e-01],\n",
       "        [1.7665e-10],\n",
       "        [9.1075e+09],\n",
       "        [1.3759e-03],\n",
       "        [5.3975e-01],\n",
       "        [2.3054e-23],\n",
       "        [2.7141e-02],\n",
       "        [2.7448e+09],\n",
       "        [1.0731e+11],\n",
       "        [3.3539e-01],\n",
       "        [8.6443e-01],\n",
       "        [1.3498e+17],\n",
       "        [1.3173e+07],\n",
       "        [8.0293e+21],\n",
       "        [1.5164e-10],\n",
       "        [3.7022e-06],\n",
       "        [6.4503e+20],\n",
       "        [7.7511e+08],\n",
       "        [1.0257e+15],\n",
       "        [2.4014e+10],\n",
       "        [2.0158e+34],\n",
       "        [1.7786e+08],\n",
       "        [6.0190e-02],\n",
       "        [4.4726e+07],\n",
       "        [4.0350e-01],\n",
       "        [1.1408e+06],\n",
       "        [4.5623e+08],\n",
       "        [6.3970e-03],\n",
       "        [7.2392e+20],\n",
       "        [4.2482e+16],\n",
       "        [1.2173e+13],\n",
       "        [1.0558e+08],\n",
       "        [6.0645e-02],\n",
       "        [4.2884e+12],\n",
       "        [4.5697e-02],\n",
       "        [9.4138e+13],\n",
       "        [2.3111e+17],\n",
       "        [2.1990e-05],\n",
       "        [7.9989e+08]])"
      ]
     },
     "execution_count": 208,
     "metadata": {},
     "output_type": "execute_result"
    }
   ],
   "source": [
    "_V(-theta_0 + integration_domain_eps, alpha, beta, theta_0)"
   ]
  },
  {
   "cell_type": "code",
   "execution_count": 120,
   "metadata": {},
   "outputs": [
    {
     "data": {
      "text/plain": [
       "0.00011920928955078125"
      ]
     },
     "execution_count": 120,
     "metadata": {},
     "output_type": "execute_result"
    }
   ],
   "source": [
    "eps"
   ]
  },
  {
   "cell_type": "code",
   "execution_count": null,
   "metadata": {},
   "outputs": [],
   "source": []
  }
 ],
 "metadata": {
  "kernelspec": {
   "display_name": "emsim",
   "language": "python",
   "name": "python3"
  },
  "language_info": {
   "codemirror_mode": {
    "name": "ipython",
    "version": 3
   },
   "file_extension": ".py",
   "mimetype": "text/x-python",
   "name": "python",
   "nbconvert_exporter": "python",
   "pygments_lexer": "ipython3",
   "version": "3.11.5"
  },
  "orig_nbformat": 4
 },
 "nbformat": 4,
 "nbformat_minor": 2
}
